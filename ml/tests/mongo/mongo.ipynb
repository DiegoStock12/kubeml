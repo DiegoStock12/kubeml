{
 "cells": [
  {
   "cell_type": "markdown",
   "metadata": {},
   "source": [
    "# Usage of mongoDB to save the datasets in numpy style\n",
    "\n",
    "Save the datasets (in this case we'll start with MNIST) in npy style and divide it in many minibatches so they are easier to handle.\n",
    "\n",
    "These are put into mongoDB"
   ]
  },
  {
   "cell_type": "code",
   "execution_count": 26,
   "metadata": {},
   "outputs": [],
   "source": [
    "import pymongo\n",
    "import numpy as np\n",
    "import pickle\n",
    "\n",
    "import torch\n",
    "import torch.nn as nn\n",
    "import torchvision\n",
    "import torch.utils.data as tdata\n",
    "import torchvision.transforms as transforms\n",
    "\n",
    "# keras is better to save the dataset\n",
    "from keras.datasets import mnist\n",
    "from keras.utils import np_utils\n",
    "\n",
    "import matplotlib.pyplot as plt\n",
    "import sys\n",
    "\n",
    "# Ip of minikube and the port of the mongo service\n",
    "MONGO_IP = '192.168.99.101'\n",
    "MONGO_PORT = 30933"
   ]
  },
  {
   "cell_type": "markdown",
   "metadata": {},
   "source": [
    "## Download the Keras Dataset and analyze format"
   ]
  },
  {
   "cell_type": "code",
   "execution_count": 6,
   "metadata": {},
   "outputs": [],
   "source": [
    "((trainX, trainY), (testX, testY)) = mnist.load_data()"
   ]
  },
  {
   "cell_type": "code",
   "execution_count": 7,
   "metadata": {},
   "outputs": [],
   "source": [
    "# the datasets are of size (60000, 28, 28), for pytorch it expects tensors of shape (channels, 28, 28) unlike tensorflow \n",
    "# which expects them at the end\n",
    "trainX = trainX.reshape(trainX.shape[0], 1, 28, 28)\n",
    "testX = testX.reshape(testX.shape[0], 1, 28, 28)"
   ]
  },
  {
   "cell_type": "code",
   "execution_count": 8,
   "metadata": {},
   "outputs": [
    {
     "name": "stdout",
     "output_type": "stream",
     "text": [
      "Labels are (ax1)=5 (ax2)=0\n"
     ]
    },
    {
     "data": {
      "image/png": "[encoded data removed]",
      "text/plain": [
       "<Figure size 720x360 with 2 Axes>"
      ]
     },
     "metadata": {
      "needs_background": "light"
     },
     "output_type": "display_data"
    }
   ],
   "source": [
    "# Show a couple of images\n",
    "f, (ax1, ax2) = plt.subplots(1,2, sharey=True, figsize=(10,5))\n",
    "ax1.imshow(trainX[0].squeeze()) # Squeeze gets rid of that extra dimension at the beginning\n",
    "ax2.imshow(trainX[1].squeeze())\n",
    "print(f'Labels are (ax1)={trainY[0]} (ax2)={trainY[1]}')"
   ]
  },
  {
   "cell_type": "code",
   "execution_count": 9,
   "metadata": {},
   "outputs": [],
   "source": [
    "# Normalize the images to the interval [0,1]\n",
    "trainX = trainX.astype('float32') /255\n",
    "testX = testX.astype('float32') /255"
   ]
  },
  {
   "cell_type": "code",
   "execution_count": 10,
   "metadata": {},
   "outputs": [],
   "source": [
    "# Convert the labels to categorical\n",
    "trainY = np_utils.to_categorical(trainY)\n",
    "testY = np_utils.to_categorical(testY)"
   ]
  },
  {
   "cell_type": "markdown",
   "metadata": {},
   "source": [
    "## Split the dataset in N different subsets"
   ]
  },
  {
   "cell_type": "code",
   "execution_count": 11,
   "metadata": {},
   "outputs": [],
   "source": [
    "\n",
    "# TODO max document size is 16 MB, this could give us problems in the future\n",
    "# when the datasets are so big, we should calculate the size (easy, and divide the dataset)\n",
    "def split_dataset(X, Y, subsets):\n",
    "    \"\"\"Splits the X and Y in N different subsets\"\"\"\n",
    "    X_split = np.split(X, subsets)\n",
    "    Y_split = np.split(Y, subsets)\n",
    "    \n",
    "    return X_split, Y_split\n",
    "\n",
    "\n",
    "def approx_size(a: np.array):\n",
    "    \"\"\" approx size of float 32 array in MB\"\"\"\n",
    "    return (32/8) * np.prod(a.shape) / 1e6\n",
    "\n",
    "\n"
   ]
  },
  {
   "cell_type": "code",
   "execution_count": 12,
   "metadata": {},
   "outputs": [],
   "source": [
    "xtr, ytr = split_dataset(trainX, trainY, 100)\n",
    "xtest, ytest = split_dataset(testX, testY, 10)\n"
   ]
  },
  {
   "cell_type": "code",
   "execution_count": null,
   "metadata": {},
   "outputs": [],
   "source": [
    "[x.shape for x in xtr]"
   ]
  },
  {
   "cell_type": "markdown",
   "metadata": {},
   "source": [
    "## Get a Connection to Mongo and connect to the database\n",
    "\n",
    "We'll create a dataset database and one collection will be MNIST"
   ]
  },
  {
   "cell_type": "code",
   "execution_count": 2,
   "metadata": {},
   "outputs": [],
   "source": [
    "# TODO maybe create a database MNIST and a collection for train and another for test\n",
    "# that would allow us to skip the train part of it\n",
    "DB_NAME = 'mnist'\n",
    "COLLECTION_NAME = 'mnist'"
   ]
  },
  {
   "cell_type": "code",
   "execution_count": 28,
   "metadata": {},
   "outputs": [
    {
     "data": {
      "text/plain": [
       "['test', 'train']"
      ]
     },
     "execution_count": 28,
     "metadata": {},
     "output_type": "execute_result"
    }
   ],
   "source": [
    "# Connect to the mongo database and create the mnist collection if we do not have it already\n",
    "client : pymongo.MongoClient = pymongo.MongoClient(MONGO_IP, MONGO_PORT)\n",
    "db = client[DB_NAME]\n",
    "db.create_collection('train')\n",
    "db.create_collection('test')\n",
    "db.list_collection_names()"
   ]
  },
  {
   "cell_type": "code",
   "execution_count": 29,
   "metadata": {},
   "outputs": [
    {
     "data": {
      "text/plain": [
       "[0,\n",
       " 1,\n",
       " 2,\n",
       " 3,\n",
       " 4,\n",
       " 5,\n",
       " 6,\n",
       " 7,\n",
       " 8,\n",
       " 9,\n",
       " 10,\n",
       " 11,\n",
       " 12,\n",
       " 13,\n",
       " 14,\n",
       " 15,\n",
       " 16,\n",
       " 17,\n",
       " 18,\n",
       " 19,\n",
       " 20,\n",
       " 21,\n",
       " 22,\n",
       " 23,\n",
       " 24,\n",
       " 25,\n",
       " 26,\n",
       " 27,\n",
       " 28,\n",
       " 29,\n",
       " 30,\n",
       " 31,\n",
       " 32,\n",
       " 33,\n",
       " 34,\n",
       " 35,\n",
       " 36,\n",
       " 37,\n",
       " 38,\n",
       " 39,\n",
       " 40,\n",
       " 41,\n",
       " 42,\n",
       " 43,\n",
       " 44,\n",
       " 45,\n",
       " 46,\n",
       " 47,\n",
       " 48,\n",
       " 49,\n",
       " 50,\n",
       " 51,\n",
       " 52,\n",
       " 53,\n",
       " 54,\n",
       " 55,\n",
       " 56,\n",
       " 57,\n",
       " 58,\n",
       " 59,\n",
       " 60,\n",
       " 61,\n",
       " 62,\n",
       " 63,\n",
       " 64,\n",
       " 65,\n",
       " 66,\n",
       " 67,\n",
       " 68,\n",
       " 69,\n",
       " 70,\n",
       " 71,\n",
       " 72,\n",
       " 73,\n",
       " 74,\n",
       " 75,\n",
       " 76,\n",
       " 77,\n",
       " 78,\n",
       " 79,\n",
       " 80,\n",
       " 81,\n",
       " 82,\n",
       " 83,\n",
       " 84,\n",
       " 85,\n",
       " 86,\n",
       " 87,\n",
       " 88,\n",
       " 89,\n",
       " 90,\n",
       " 91,\n",
       " 92,\n",
       " 93,\n",
       " 94,\n",
       " 95,\n",
       " 96,\n",
       " 97,\n",
       " 98,\n",
       " 99]"
      ]
     },
     "execution_count": 29,
     "metadata": {},
     "output_type": "execute_result"
    }
   ],
   "source": [
    "# Insert the training data\n",
    "db['train'].insert_many([\n",
    "    {'_id': i,\n",
    "     'data': pickle.dumps(data, pickle.HIGHEST_PROTOCOL), \n",
    "     'labels':pickle.dumps(data, pickle.HIGHEST_PROTOCOL)} for i, (data, labels) in enumerate(zip(xtr, ytr))]).inserted_ids"
   ]
  },
  {
   "cell_type": "code",
   "execution_count": 30,
   "metadata": {},
   "outputs": [
    {
     "data": {
      "text/plain": [
       "[0, 1, 2, 3, 4, 5, 6, 7, 8, 9]"
      ]
     },
     "execution_count": 30,
     "metadata": {},
     "output_type": "execute_result"
    }
   ],
   "source": [
    "# Insert the test data\n",
    "# Insert the training data\n",
    "db['test'].insert_many([\n",
    "    {'_id': i,\n",
    "     'data':pickle.dumps(data, pickle.HIGHEST_PROTOCOL), \n",
    "     'labels':pickle.dumps(data, pickle.HIGHEST_PROTOCOL)} for i, (data, labels) in enumerate(zip(xtest, ytest))]).inserted_ids"
   ]
  },
  {
   "cell_type": "code",
   "execution_count": 31,
   "metadata": {},
   "outputs": [],
   "source": [
    "# Fetch one of the documents by index\n",
    "doc = db.train.find_one({\"_id\": 1})"
   ]
  },
  {
   "cell_type": "code",
   "execution_count": 18,
   "metadata": {},
   "outputs": [
    {
     "data": {
      "text/plain": [
       "(600, 1, 28, 28)"
      ]
     },
     "execution_count": 18,
     "metadata": {},
     "output_type": "execute_result"
    }
   ],
   "source": [
    "# Load the array\n",
    "arr = pickle.loads(doc['data'])\n",
    "arr.shape"
   ]
  },
  {
   "cell_type": "markdown",
   "metadata": {},
   "source": [
    "## Create a dataset from Torch that is able to load the examples from the database"
   ]
  },
  {
   "cell_type": "code",
   "execution_count": 20,
   "metadata": {},
   "outputs": [
    {
     "data": {
      "text/plain": [
       "[range(0, 4),\n",
       " range(4, 8),\n",
       " range(8, 11),\n",
       " range(11, 14),\n",
       " range(14, 17),\n",
       " range(17, 20)]"
      ]
     },
     "execution_count": 20,
     "metadata": {},
     "output_type": "execute_result"
    }
   ],
   "source": [
    "def split(a, n):\n",
    "    k, m = divmod(len(a), n)\n",
    "    return [a[i * k + min(i, m):(i + 1) * k + min(i + 1, m)] for i in range(n)]\n",
    "\n",
    "split(range(20), 6)"
   ]
  },
  {
   "cell_type": "code",
   "execution_count": 164,
   "metadata": {},
   "outputs": [],
   "source": [
    "obj = db.train.find({'_id':{'$gte': 3, '$lte':20}})"
   ]
  },
  {
   "cell_type": "code",
   "execution_count": 165,
   "metadata": {},
   "outputs": [
    {
     "data": {
      "text/plain": [
       "4000"
      ]
     },
     "execution_count": 165,
     "metadata": {},
     "output_type": "execute_result"
    }
   ],
   "source": [
    "len(np.vstack([xtest[0], xtest[1]]))"
   ]
  },
  {
   "cell_type": "code",
   "execution_count": 177,
   "metadata": {},
   "outputs": [
    {
     "name": "stderr",
     "output_type": "stream",
     "text": [
      "c:\\users\\diego\\cs\\thesis\\venv\\lib\\site-packages\\ipykernel_launcher.py:2: DeprecationWarning: count is deprecated. Use Collection.count_documents instead.\n",
      "  \n"
     ]
    },
    {
     "data": {
      "text/plain": [
       "5"
      ]
     },
     "execution_count": 177,
     "metadata": {},
     "output_type": "execute_result"
    }
   ],
   "source": [
    "obj = db.test.find({})"
   ]
  },
  {
   "cell_type": "code",
   "execution_count": 21,
   "metadata": {},
   "outputs": [],
   "source": [
    "MONGO_IP = '192.168.99.102'\n",
    "MONGO_PORT = 27017\n",
    "DATABASE = 'mnist'\n",
    "\n",
    "\n",
    "class MnistDataset(tdata.Dataset):\n",
    "    \"\"\" The dataset is able to load a specific subset of samples from MONGO and combine them \"\"\"\n",
    "\n",
    "    def __init__(self, func_id, num_func, task, transform=None):\n",
    "        \"\"\" Based on the funcId and the Number of functions, estimate the range of the datasets\n",
    "        that we should get from mongo.\n",
    "\n",
    "        :arg func_id ID of the function creating the dataset\n",
    "        :arg num_func total number of functions invoked\n",
    "        :arg task either train or val\n",
    "        :arg transform transformations to be applied\n",
    "        \"\"\"\n",
    "\n",
    "        # create the mongo client\n",
    "        self.client = pymongo.MongoClient(MONGO_IP, MONGO_PORT)\n",
    "        self.db = self.client[DATABASE]\n",
    "\n",
    "        # get the number of documents\n",
    "        ndocs = self.db.train.count_documents({})\n",
    "\n",
    "        if task == 'train':\n",
    "            minibatch = self._split_minibatches(range(ndocs), num_func)[func_id]\n",
    "            print('I get minibatches', minibatch)\n",
    "\n",
    "            self.data, self.labels = self._load_data(minibatch)\n",
    "\n",
    "        # If task is validation we just tell it to load all the data\n",
    "        else:\n",
    "            self.data, self.labels = self._load_data()\n",
    "\n",
    "        self.transforms = transform\n",
    "\n",
    "    def __len__(self):\n",
    "        return len(self.data)\n",
    "\n",
    "    # We could have 1 document per datapoint or group of datapoints?\n",
    "    # this is just useful for bigger datasets, but could save a lot of memory\n",
    "    def __getitem__(self, idx):\n",
    "        x = self.data[idx]\n",
    "        y = self.labels[idx]\n",
    "\n",
    "        if self.transforms:\n",
    "            return self.transforms(x), y\n",
    "        else:\n",
    "            return x, y\n",
    "\n",
    "    # TODO look how we can maybe declare indexes in mongodb to speed this up\n",
    "    def _load_data(self, minibatches=None):\n",
    "        \"\"\"Return the data from the MongoDB already formatted as a numpy array\"\"\"\n",
    "\n",
    "        if minibatches is None:\n",
    "            # load all because it is the validation\n",
    "            batches = self.db.test.find({})\n",
    "        else:\n",
    "            # Load the objects from Mongo\n",
    "            batches = self.db.train.find({\n",
    "                '_id': {'$gte': minibatches.start, '$lte': minibatches.stop-1}\n",
    "            })\n",
    "\n",
    "        data, labels = None, None\n",
    "        for batch in batches:\n",
    "            # Load the data and the labels and append it to the variables above\n",
    "            d = pickle.loads(batch['data'])\n",
    "            l = pickle.loads(batch['labels'])\n",
    "\n",
    "            if data is None:\n",
    "                data, labels = d, l\n",
    "            else:\n",
    "                data = np.vstack([data, d])\n",
    "                labels = np.vstack([labels, l])\n",
    "\n",
    "        return data, labels\n",
    "    \n",
    "    @staticmethod\n",
    "    def _split_minibatches(a, n):\n",
    "        \"\"\"Based on the number of minibatches return the ones assigned to each\n",
    "        function so that the count is approximately the same \"\"\"\n",
    "        k, m = divmod(len(a), n)\n",
    "        return [a[i * k + min(i, m):(i + 1) * k + min(i + 1, m)] for i in range(n)]"
   ]
  },
  {
   "cell_type": "code",
   "execution_count": 32,
   "metadata": {},
   "outputs": [
    {
     "name": "stdout",
     "output_type": "stream",
     "text": [
      "I get minibatches range(60, 80)\n",
      "Wall time: 1.15 s\n"
     ]
    }
   ],
   "source": [
    "%%time\n",
    "d = MnistDataset(func_id=3, num_func=5, task='train')"
   ]
  },
  {
   "cell_type": "code",
   "execution_count": 25,
   "metadata": {},
   "outputs": [
    {
     "data": {
      "text/plain": [
       "(12000, 1, 28, 28)"
      ]
     },
     "execution_count": 25,
     "metadata": {},
     "output_type": "execute_result"
    }
   ],
   "source": [
    "d.data.shape"
   ]
  }
 ],
 "metadata": {
  "kernelspec": {
   "display_name": "Python 3",
   "language": "python",
   "name": "python3"
  },
  "language_info": {
   "codemirror_mode": {
    "name": "ipython",
    "version": 3
   },
   "file_extension": ".py",
   "mimetype": "text/x-python",
   "name": "python",
   "nbconvert_exporter": "python",
   "pygments_lexer": "ipython3",
   "version": "3.6.8"
  }
 },
 "nbformat": 4,
 "nbformat_minor": 4
}
