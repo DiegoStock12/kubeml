{
 "cells": [
  {
   "cell_type": "markdown",
   "metadata": {},
   "source": [
    "# Test RedisAI with Pytorch"
   ]
  },
  {
   "cell_type": "code",
   "execution_count": 1,
   "metadata": {},
   "outputs": [],
   "source": [
    "import torch\n",
    "import torch.nn as nn\n",
    "import torch.nn.functional as F\n",
    "import torch.optim as optim\n",
    "from torchvision import datasets, transforms"
   ]
  },
  {
   "cell_type": "markdown",
   "metadata": {},
   "source": [
    "## Create the network\n",
    "\n",
    "Take the network from the pytorch MNIST examples \n",
    "(https://github.com/pytorch/examples/blob/master/mnist/main.py)"
   ]
  },
  {
   "cell_type": "code",
   "execution_count": 2,
   "metadata": {},
   "outputs": [],
   "source": [
    "class Net(nn.Module):\n",
    "    def __init__(self):\n",
    "        super(Net, self).__init__()\n",
    "        self.conv1 = nn.Conv2d(1, 32, 3, 1)\n",
    "        self.conv2 = nn.Conv2d(32, 64, 3, 1)\n",
    "        self.dropout1 = nn.Dropout(0.25)\n",
    "        self.dropout2 = nn.Dropout(0.5)\n",
    "        self.fc1 = nn.Linear(9216, 128)\n",
    "        self.fc2 = nn.Linear(128, 10)\n",
    "\n",
    "    def forward(self, x):\n",
    "        x = self.conv1(x)\n",
    "        x = F.relu(x)\n",
    "        x = self.conv2(x)\n",
    "        x = F.relu(x)\n",
    "        x = F.max_pool2d(x, 2)\n",
    "        x = self.dropout1(x)\n",
    "        x = torch.flatten(x, 1)\n",
    "        x = self.fc1(x)\n",
    "        x = F.relu(x)\n",
    "        x = self.dropout2(x)\n",
    "        x = self.fc2(x)\n",
    "        output = F.log_softmax(x, dim=1)\n",
    "        return output"
   ]
  },
  {
   "cell_type": "markdown",
   "metadata": {},
   "source": [
    "## Create the dataset and the data loader"
   ]
  },
  {
   "cell_type": "code",
   "execution_count": 4,
   "metadata": {
    "scrolled": true
   },
   "outputs": [],
   "source": [
    "transform=transforms.Compose([\n",
    "        transforms.ToTensor(),\n",
    "        transforms.Normalize((0.1307,), (0.3081,))\n",
    "        ])\n",
    "\n",
    "data = datasets.MNIST('./data', train=True, download=False, transform=transform)"
   ]
  },
  {
   "cell_type": "code",
   "execution_count": 5,
   "metadata": {},
   "outputs": [],
   "source": [
    "train_loader = torch.utils.data.DataLoader(data, batch_size=1)"
   ]
  },
  {
   "cell_type": "code",
   "execution_count": 6,
   "metadata": {},
   "outputs": [],
   "source": [
    "it = iter(train_loader)"
   ]
  },
  {
   "cell_type": "markdown",
   "metadata": {},
   "source": [
    "### Load a single tensor to forward"
   ]
  },
  {
   "cell_type": "code",
   "execution_count": 7,
   "metadata": {},
   "outputs": [],
   "source": [
    "img, target = it.next()"
   ]
  },
  {
   "cell_type": "markdown",
   "metadata": {},
   "source": [
    "## Create the network and do a forward and backward pass to get the gradients"
   ]
  },
  {
   "cell_type": "code",
   "execution_count": 8,
   "metadata": {
    "scrolled": false
   },
   "outputs": [
    {
     "data": {
      "text/plain": [
       "Net(\n",
       "  (conv1): Conv2d(1, 32, kernel_size=(3, 3), stride=(1, 1))\n",
       "  (conv2): Conv2d(32, 64, kernel_size=(3, 3), stride=(1, 1))\n",
       "  (dropout1): Dropout(p=0.25, inplace=False)\n",
       "  (dropout2): Dropout(p=0.5, inplace=False)\n",
       "  (fc1): Linear(in_features=9216, out_features=128, bias=True)\n",
       "  (fc2): Linear(in_features=128, out_features=10, bias=True)\n",
       ")"
      ]
     },
     "execution_count": 8,
     "metadata": {},
     "output_type": "execute_result"
    }
   ],
   "source": [
    "model = Net()\n",
    "optimizer = optim.Adam(model.parameters(), lr=0.01)\n",
    "model.train()"
   ]
  },
  {
   "cell_type": "code",
   "execution_count": 12,
   "metadata": {},
   "outputs": [],
   "source": [
    "# Zero the optimizer before the forward pass\n",
    "optimizer.zero_grad()\n",
    "\n",
    "# forward pass\n",
    "out = model(img)\n",
    "\n",
    "loss = F.nll_loss(out, target)\n",
    "loss.backward()"
   ]
  },
  {
   "cell_type": "code",
   "execution_count": 13,
   "metadata": {},
   "outputs": [],
   "source": [
    "c1_grad = model.conv1.weight.grad"
   ]
  },
  {
   "cell_type": "code",
   "execution_count": 18,
   "metadata": {},
   "outputs": [
    {
     "data": {
      "text/plain": [
       "array([[[[ 3.33329570e-03, -9.70054604e-03, -1.58126224e-02],\n",
       "         [-2.12285183e-02, -4.86872271e-02, -2.60166563e-02],\n",
       "         [-2.90685631e-02, -3.35905068e-02, -1.84086785e-02]]],\n",
       "\n",
       "\n",
       "       [[[-1.41874310e-02, -1.36032440e-02, -1.73040517e-02],\n",
       "         [-1.08043617e-02,  3.17359716e-03,  2.31757062e-03],\n",
       "         [ 1.72783658e-02,  2.18862034e-02,  1.95861794e-02]]],\n",
       "\n",
       "\n",
       "       [[[-1.10776210e-02, -1.94403306e-02, -1.62097141e-02],\n",
       "         [ 1.17441360e-02, -1.56387128e-03, -4.90442524e-03],\n",
       "         [ 2.40342394e-02,  1.50080454e-02,  1.22816805e-02]]],\n",
       "\n",
       "\n",
       "       [[[ 1.27604790e-02,  1.36497412e-02, -4.33015637e-04],\n",
       "         [ 4.12298553e-02,  2.68132091e-02,  1.64469257e-02],\n",
       "         [ 1.70850232e-02, -1.23672821e-02, -2.00330429e-02]]],\n",
       "\n",
       "\n",
       "       [[[-2.23137178e-02, -1.98904872e-02, -3.89945060e-02],\n",
       "         [-1.62129402e-02, -3.70368026e-02, -5.64495586e-02],\n",
       "         [-2.06521731e-02, -2.43385006e-02, -5.11687323e-02]]],\n",
       "\n",
       "\n",
       "       [[[-1.98822953e-02, -2.51425542e-02, -1.44836809e-02],\n",
       "         [-3.32523370e-03, -2.17232779e-02, -4.14988771e-03],\n",
       "         [ 8.00238457e-04,  1.38757005e-03,  1.64802000e-02]]],\n",
       "\n",
       "\n",
       "       [[[-1.86987761e-02, -2.06079837e-02, -1.67609639e-02],\n",
       "         [-1.93608217e-02, -2.34030951e-02, -1.42554147e-02],\n",
       "         [ 1.33935567e-02, -1.25652235e-02, -7.49490177e-03]]],\n",
       "\n",
       "\n",
       "       [[[ 4.39172760e-02,  3.45162824e-02,  2.80875601e-02],\n",
       "         [-1.38626322e-02, -3.46016046e-03, -8.36218707e-04],\n",
       "         [-2.03320831e-02, -2.52409838e-02, -1.44593082e-02]]],\n",
       "\n",
       "\n",
       "       [[[ 3.65137402e-03, -4.64690104e-03, -3.38136777e-02],\n",
       "         [ 3.56980786e-02,  5.55714173e-03, -2.09208131e-02],\n",
       "         [ 7.36019714e-03, -1.13046542e-02, -3.96088436e-02]]],\n",
       "\n",
       "\n",
       "       [[[-2.20914818e-02, -1.58462245e-02,  1.08596608e-02],\n",
       "         [-5.78109734e-02, -3.91427875e-02, -1.31449895e-02],\n",
       "         [-9.42239389e-02, -6.91456124e-02, -3.85484360e-02]]],\n",
       "\n",
       "\n",
       "       [[[-1.05476165e-02, -4.42706328e-03,  1.73370820e-02],\n",
       "         [ 4.70636636e-02,  5.12599535e-02,  6.41984344e-02],\n",
       "         [ 9.20300707e-02,  7.67860636e-02,  7.57524595e-02]]],\n",
       "\n",
       "\n",
       "       [[[-6.55885146e-04,  3.37040564e-03,  6.82104705e-03],\n",
       "         [-9.65074915e-03, -4.56177630e-03, -1.93131296e-03],\n",
       "         [-1.25158112e-02, -9.13286768e-03, -1.17515614e-02]]],\n",
       "\n",
       "\n",
       "       [[[-2.49549560e-03, -1.59653369e-04,  6.09887647e-05],\n",
       "         [-1.89116765e-02, -9.99126770e-03, -4.00963333e-03],\n",
       "         [-3.41414101e-02, -4.20548022e-02, -1.11148115e-02]]],\n",
       "\n",
       "\n",
       "       [[[ 7.25241452e-02,  9.48470905e-02,  1.06677219e-01],\n",
       "         [ 1.05940402e-01,  1.06707387e-01,  8.07234868e-02],\n",
       "         [ 1.02995753e-01,  9.98231918e-02,  6.65205196e-02]]],\n",
       "\n",
       "\n",
       "       [[[-4.17798832e-02, -3.31498608e-02, -4.19443958e-02],\n",
       "         [-6.28316104e-02, -4.93895225e-02, -4.68050949e-02],\n",
       "         [-3.81924510e-02, -2.96030547e-02, -2.63033416e-02]]],\n",
       "\n",
       "\n",
       "       [[[-1.77394925e-03, -2.15039030e-03,  1.66171715e-02],\n",
       "         [ 1.68424379e-03, -2.41399836e-03, -1.53794140e-03],\n",
       "         [ 1.19956881e-02, -3.33099253e-03, -1.27421804e-02]]],\n",
       "\n",
       "\n",
       "       [[[-3.40393148e-02, -1.58800222e-02, -2.04442665e-02],\n",
       "         [-3.70239094e-02, -3.92422006e-02, -2.64019370e-02],\n",
       "         [-1.80262588e-02, -3.07210833e-02, -6.51473552e-03]]],\n",
       "\n",
       "\n",
       "       [[[ 4.96520884e-02,  4.80193980e-02,  2.65460629e-02],\n",
       "         [ 3.89522873e-02,  3.68669629e-02,  2.41074003e-02],\n",
       "         [ 2.36893184e-02,  2.28977166e-02,  1.26650278e-02]]],\n",
       "\n",
       "\n",
       "       [[[ 1.90289132e-03, -9.75381210e-03, -1.25629622e-02],\n",
       "         [ 5.76117821e-03, -9.25221667e-03, -2.31575854e-02],\n",
       "         [-7.77572580e-03, -1.33818090e-02, -1.49529558e-02]]],\n",
       "\n",
       "\n",
       "       [[[-4.20541912e-02, -4.66208681e-02, -4.14584726e-02],\n",
       "         [-3.88871692e-02, -4.25289087e-02, -3.39165367e-02],\n",
       "         [-1.45897092e-02, -1.53121753e-02, -1.12833446e-02]]],\n",
       "\n",
       "\n",
       "       [[[ 1.90865286e-02,  2.62946393e-02,  2.15180088e-02],\n",
       "         [ 1.74018797e-02,  3.55416201e-02,  2.79934779e-02],\n",
       "         [-1.58252381e-03,  4.13762107e-02,  4.18531224e-02]]],\n",
       "\n",
       "\n",
       "       [[[ 5.77847287e-02,  5.46638295e-02,  3.23694274e-02],\n",
       "         [ 3.71143892e-02,  3.32743004e-02,  2.39696633e-02],\n",
       "         [-3.34946206e-03, -5.03840065e-03, -1.27345119e-02]]],\n",
       "\n",
       "\n",
       "       [[[-3.30373533e-02, -2.26756055e-02, -1.24016684e-03],\n",
       "         [ 1.59600214e-03,  6.96360553e-03,  2.82220077e-02],\n",
       "         [ 3.04135382e-02,  3.82145382e-02,  2.86581349e-02]]],\n",
       "\n",
       "\n",
       "       [[[-6.65433193e-03, -1.19802579e-02, -2.73029469e-02],\n",
       "         [-2.74446886e-03, -7.56451022e-03, -1.50503404e-02],\n",
       "         [-2.45053601e-03,  1.49497576e-02,  1.91364307e-02]]],\n",
       "\n",
       "\n",
       "       [[[-2.16259975e-02, -3.83784249e-02, -5.21813408e-02],\n",
       "         [-8.96753371e-03, -2.94260904e-02, -4.97030430e-02],\n",
       "         [-5.77906892e-02, -6.27967864e-02, -6.59234449e-02]]],\n",
       "\n",
       "\n",
       "       [[[-7.93891493e-03, -9.09695867e-03, -3.91198043e-03],\n",
       "         [-7.90125877e-03, -1.41721666e-02, -7.45933410e-03],\n",
       "         [ 2.20793113e-02,  1.28408354e-02,  1.26705356e-02]]],\n",
       "\n",
       "\n",
       "       [[[-1.04690511e-02,  5.70325879e-03,  4.30034287e-03],\n",
       "         [ 1.39389699e-03,  3.27273807e-03, -1.06129935e-02],\n",
       "         [ 5.67882787e-03,  3.36409523e-03, -2.70381868e-02]]],\n",
       "\n",
       "\n",
       "       [[[-4.97241854e-04, -3.78793385e-03, -4.86248266e-03],\n",
       "         [-2.48270738e-03, -1.17121835e-03,  1.36313518e-03],\n",
       "         [ 1.59979216e-03,  1.20140449e-03,  8.56054306e-04]]],\n",
       "\n",
       "\n",
       "       [[[-2.39572730e-02, -1.21700699e-02, -7.87450117e-05],\n",
       "         [-5.92339784e-05,  4.42347117e-03,  5.11995237e-03],\n",
       "         [ 3.61453323e-03,  4.51216381e-03,  2.54717423e-04]]],\n",
       "\n",
       "\n",
       "       [[[-1.15534924e-02, -3.64633277e-04, -3.28768976e-03],\n",
       "         [ 1.73713174e-02,  4.54735756e-02,  3.38417813e-02],\n",
       "         [ 4.82083634e-02,  6.61032796e-02,  7.07224607e-02]]],\n",
       "\n",
       "\n",
       "       [[[-2.28819586e-02, -1.82586033e-02, -8.80507287e-03],\n",
       "         [-1.58327743e-02, -6.46635843e-03, -7.05746049e-03],\n",
       "         [-1.82398083e-03,  5.59793692e-03,  8.88839923e-03]]],\n",
       "\n",
       "\n",
       "       [[[-5.94598055e-03, -2.43951064e-02, -2.90465578e-02],\n",
       "         [ 2.08030781e-03, -7.84853566e-03, -2.22714767e-02],\n",
       "         [-4.52742819e-03,  8.16184655e-03,  5.04747778e-03]]]],\n",
       "      dtype=float32)"
      ]
     },
     "execution_count": 18,
     "metadata": {},
     "output_type": "execute_result"
    }
   ],
   "source": [
    "c1_grad.numpy()"
   ]
  },
  {
   "cell_type": "markdown",
   "metadata": {},
   "source": [
    "## Start with the REDIS AI part"
   ]
  },
  {
   "cell_type": "code",
   "execution_count": 15,
   "metadata": {},
   "outputs": [],
   "source": [
    "import redisai as rai"
   ]
  },
  {
   "cell_type": "code",
   "execution_count": 16,
   "metadata": {},
   "outputs": [],
   "source": [
    "con = rai.Client(host='192.168.99.102', port=6379)"
   ]
  },
  {
   "cell_type": "code",
   "execution_count": 19,
   "metadata": {},
   "outputs": [
    {
     "data": {
      "text/plain": [
       "'OK'"
      ]
     },
     "execution_count": 19,
     "metadata": {},
     "output_type": "execute_result"
    }
   ],
   "source": [
    "con.tensorset('grad-conv1', c1_grad.numpy(), dtype='float32')"
   ]
  },
  {
   "cell_type": "code",
   "execution_count": null,
   "metadata": {},
   "outputs": [],
   "source": []
  }
 ],
 "metadata": {
  "kernelspec": {
   "display_name": "Python 3",
   "language": "python",
   "name": "python3"
  },
  "language_info": {
   "codemirror_mode": {
    "name": "ipython",
    "version": 3
   },
   "file_extension": ".py",
   "mimetype": "text/x-python",
   "name": "python",
   "nbconvert_exporter": "python",
   "pygments_lexer": "ipython3",
   "version": "3.6.8"
  }
 },
 "nbformat": 4,
 "nbformat_minor": 4
}
