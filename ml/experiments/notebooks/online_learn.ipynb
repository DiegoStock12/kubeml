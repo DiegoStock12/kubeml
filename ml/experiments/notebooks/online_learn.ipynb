{
 "cells": [
  {
   "cell_type": "markdown",
   "metadata": {},
   "source": [
    "# Online learning to predict performance "
   ]
  },
  {
   "cell_type": "code",
   "execution_count": 26,
   "metadata": {},
   "outputs": [],
   "source": [
    "import pandas as pd\n",
    "import numpy as np\n",
    "import seaborn as sns\n",
    "import matplotlib.pyplot as plt\n",
    "\n",
    "\n",
    "# incremental training models\n",
    "\n",
    "# Classif\n",
    "from sklearn.naive_bayes import MultinomialNB, BernoulliNB\n",
    "from sklearn.linear_model import Perceptron, SGDClassifier, PassiveAggressiveClassifier\n",
    "\n",
    "# Regression\n",
    "from sklearn.linear_model import SGDRegressor, PassiveAggressiveRegressor\n",
    "from sklearn.model_selection import train_test_split\n",
    "\n",
    "from sklearn.ensemble import RandomForestRegressor, GradientBoostingRegressor\n",
    "from sklearn.model_selection import GridSearchCV\n",
    "\n",
    "from sklearn.metrics import mean_squared_error\n",
    "\n",
    "\n",
    "from sklearn.preprocessing import StandardScaler"
   ]
  },
  {
   "cell_type": "markdown",
   "metadata": {},
   "source": [
    "## Read the data"
   ]
  },
  {
   "cell_type": "code",
   "execution_count": 22,
   "metadata": {},
   "outputs": [],
   "source": [
    "df = pd.read_pickle('100experiments.pkl')\n",
    "\n",
    "\n",
    "# Set the acc to the final accuracy\n",
    "df['acc'] = df.accuracy.map(lambda a: a[-1])\n",
    "\n",
    "# Set the time to the sum of the epoch durations\n",
    "df['time'] = df.epoch_duration.map(sum)\n",
    "\n",
    "# Set the parallelism to the first since it is constant\n",
    "df.parallelism = df.parallelism.map(lambda l:l[0])\n",
    "\n",
    "# change -1 to inf so the order is right in the plot\n",
    "\n",
    "\n",
    "# ks = []\n",
    "# for p, batch, k in zip(df.parallelism, df.batch_size, df.k):\n",
    "#     ks.append(int((60000/p)/batch) if k == -1 else k)\n",
    "    \n"
   ]
  },
  {
   "cell_type": "code",
   "execution_count": 8,
   "metadata": {},
   "outputs": [
    {
     "data": {
      "text/plain": [
       "Index(['id', 'model_type', 'batch_size', 'epochs', 'dataset', 'lr',\n",
       "       'function_name', 'default_parallelism', 'static_parallelism',\n",
       "       'validate_every', 'k', 'goal_accuracy', 'validation_loss', 'accuracy',\n",
       "       'train_loss', 'parallelism', 'epoch_duration', 'acc', 'time'],\n",
       "      dtype='object')"
      ]
     },
     "execution_count": 8,
     "metadata": {},
     "output_type": "execute_result"
    }
   ],
   "source": [
    "df.columns"
   ]
  },
  {
   "cell_type": "markdown",
   "metadata": {},
   "source": [
    "## Try to fit the classifiers and compare performance"
   ]
  },
  {
   "cell_type": "code",
   "execution_count": 23,
   "metadata": {},
   "outputs": [],
   "source": [
    "# divide into train and test\n",
    "x_train, x_test = train_test_split(df, test_size=0.2, random_state=42)\n",
    "s = StandardScaler()\n",
    "\n",
    "y_train_acc, y_train_time = x_train['acc'], x_train['time']\n",
    "y_test_acc, y_test_time = x_test['acc'], x_test['time']\n",
    "\n",
    "x_train = x_train[['batch_size', 'lr', 'default_parallelism', 'k']]\n",
    "x_test = x_test[['batch_size', 'lr', 'default_parallelism', 'k']]\n",
    "\n",
    "x_train = s.fit_transform(x_train)\n",
    "x_test = s.transform(x_test)\n"
   ]
  },
  {
   "cell_type": "code",
   "execution_count": 18,
   "metadata": {},
   "outputs": [
    {
     "data": {
      "text/plain": [
       "array([[ 1.18578398, -1.        ,  1.5709298 ,  1.33154276],\n",
       "       [ 1.18578398, -1.        , -1.06071329, -0.54828231],\n",
       "       [-1.13063124, -1.        , -0.68476427, -0.86158649],\n",
       "       [-0.35849283, -1.        ,  0.06713375, -0.86158649],\n",
       "       [ 1.18578398, -1.        , -0.68476427, -0.86158649],\n",
       "       [-0.35849283, -1.        ,  1.5709298 ,  1.33154276],\n",
       "       [-0.35849283, -1.        ,  1.5709298 , -0.86158649],\n",
       "       [-0.35849283, -1.        , -1.06071329, -0.86158649],\n",
       "       [ 1.18578398, -1.        , -0.68476427,  1.33154276],\n",
       "       [-0.35849283, -1.        , -1.06071329,  1.33154276],\n",
       "       [-1.13063124, -1.        , -0.68476427, -0.54828231],\n",
       "       [ 1.18578398, -1.        ,  1.5709298 , -0.86158649],\n",
       "       [ 1.18578398, -1.        , -1.06071329, -0.86158649],\n",
       "       [-1.13063124, -1.        ,  1.5709298 ,  1.33154276],\n",
       "       [ 1.18578398, -1.        ,  0.06713375, -0.54828231],\n",
       "       [-0.35849283, -1.        ,  1.5709298 , -0.54828231],\n",
       "       [-1.13063124, -1.        , -1.06071329, -0.54828231],\n",
       "       [ 1.18578398, -1.        , -0.68476427, -0.54828231],\n",
       "       [ 1.18578398, -1.        , -1.06071329,  1.33154276],\n",
       "       [-1.13063124, -1.        ,  0.06713375,  1.33154276],\n",
       "       [ 1.18578398, -1.        ,  0.06713375,  1.33154276],\n",
       "       [-1.13063124, -1.        ,  0.06713375, -0.54828231],\n",
       "       [-1.13063124, -1.        , -1.06071329, -0.86158649],\n",
       "       [-1.13063124, -1.        ,  1.5709298 , -0.86158649],\n",
       "       [ 1.18578398, -1.        ,  0.06713375, -0.86158649],\n",
       "       [-0.35849283, -1.        ,  0.06713375,  1.33154276],\n",
       "       [-1.13063124, -1.        ,  0.06713375, -0.86158649],\n",
       "       [-0.35849283, -1.        , -0.68476427,  1.33154276]])"
      ]
     },
     "execution_count": 18,
     "metadata": {},
     "output_type": "execute_result"
    }
   ],
   "source": []
  },
  {
   "cell_type": "code",
   "execution_count": 25,
   "metadata": {
    "scrolled": true
   },
   "outputs": [
    {
     "name": "stdout",
     "output_type": "stream",
     "text": [
      "Fitting 5 folds for each of 252 candidates, totalling 1260 fits\n"
     ]
    },
    {
     "name": "stderr",
     "output_type": "stream",
     "text": [
      "[Parallel(n_jobs=8)]: Using backend LokyBackend with 8 concurrent workers.\n",
      "[Parallel(n_jobs=8)]: Done  16 tasks      | elapsed:    4.9s\n",
      "[Parallel(n_jobs=8)]: Done 112 tasks      | elapsed:   15.4s\n",
      "[Parallel(n_jobs=8)]: Done 272 tasks      | elapsed:   40.6s\n",
      "[Parallel(n_jobs=8)]: Done 496 tasks      | elapsed:  1.5min\n",
      "[Parallel(n_jobs=8)]: Done 784 tasks      | elapsed:  2.6min\n",
      "[Parallel(n_jobs=8)]: Done 1136 tasks      | elapsed:  4.2min\n",
      "[Parallel(n_jobs=8)]: Done 1260 out of 1260 | elapsed:  4.8min finished\n"
     ]
    },
    {
     "name": "stdout",
     "output_type": "stream",
     "text": [
      "RandomForestRegressor(criterion='mae', max_depth=4, max_features='log2',\n",
      "                      n_estimators=2000, random_state=42)\n"
     ]
    },
    {
     "data": {
      "text/plain": [
       "694.2374873011186"
      ]
     },
     "execution_count": 25,
     "metadata": {},
     "output_type": "execute_result"
    }
   ],
   "source": [
    "r = RandomForestRegressor(random_state=42)\n",
    "params_rf = {\n",
    "    'n_estimators': [50, 100, 150, 200, 500, 1000, 2000],\n",
    "    'max_features': ['auto', 'log2', 'sqrt'],\n",
    "    'max_depth': range(4,10),\n",
    "    'criterion': ['mse', 'mae']\n",
    "    \n",
    "}\n",
    "\n",
    "cv = GridSearchCV(estimator=r, param_grid=params_rf, n_jobs=8, cv=5, verbose=3)\n",
    "cv.fit(x_train, y_train_time)\n",
    "\n",
    "r = cv.best_estimator_\n",
    "print(r)\n",
    "\n",
    "\n",
    "y_pred = r.predict(x_test)\n",
    "y_pred\n",
    "mean_squared_error(y_pred, y_test_time)"
   ]
  },
  {
   "cell_type": "code",
   "execution_count": 27,
   "metadata": {},
   "outputs": [
    {
     "name": "stdout",
     "output_type": "stream",
     "text": [
      "Fitting the time...\n",
      "Fitting 5 folds for each of 147 candidates, totalling 735 fits\n"
     ]
    },
    {
     "name": "stderr",
     "output_type": "stream",
     "text": [
      "[Parallel(n_jobs=8)]: Using backend LokyBackend with 8 concurrent workers.\n",
      "[Parallel(n_jobs=8)]: Done  16 tasks      | elapsed:    0.0s\n",
      "[Parallel(n_jobs=8)]: Done 272 tasks      | elapsed:   13.1s\n",
      "[Parallel(n_jobs=8)]: Done 432 tasks      | elapsed:  1.5min\n",
      "[Parallel(n_jobs=8)]: Done 656 tasks      | elapsed:  4.4min\n",
      "[Parallel(n_jobs=8)]: Done 735 out of 735 | elapsed:  6.3min finished\n"
     ]
    },
    {
     "data": {
      "text/plain": [
       "GridSearchCV(cv=5, estimator=GradientBoostingRegressor(random_state=42),\n",
       "             n_jobs=8,\n",
       "             param_grid={'loss': ['ls', 'lad', 'huber'],\n",
       "                         'max_depth': range(3, 10),\n",
       "                         'n_estimators': [50, 100, 150, 200, 500, 1000, 2000]},\n",
       "             verbose=3)"
      ]
     },
     "execution_count": 27,
     "metadata": {},
     "output_type": "execute_result"
    }
   ],
   "source": [
    "# gradient bossting regressor\n",
    "reg_time = GradientBoostingRegressor(random_state=42)\n",
    "\n",
    "params = {\n",
    "    'n_estimators': [50, 100, 150, 200, 500, 1000, 2000],\n",
    "    'loss': ['ls', 'lad', 'huber'],\n",
    "    'max_depth': range(3,10),\n",
    "}\n",
    "\n",
    "\n",
    "# First cross validation\n",
    "print('Fitting the time...')\n",
    "cv_time = GridSearchCV(estimator=reg_time, param_grid=params, n_jobs=8, cv=5, verbose=3)\n",
    "cv_time.fit(x_train, y_train_time)"
   ]
  },
  {
   "cell_type": "code",
   "execution_count": 58,
   "metadata": {},
   "outputs": [
    {
     "name": "stdout",
     "output_type": "stream",
     "text": [
      "594.164592719591\n",
      "459.39315124290204\n"
     ]
    }
   ],
   "source": [
    "# fit the passive aggressive\n",
    "from sklearn.metrics import mean_squared_error\n",
    "\n",
    "pa = PassiveAggressiveRegressor()\n",
    "sg = SGDRegressor()\n",
    "\n",
    "for clf in [pa, sg]:\n",
    "    clf.fit(x_train, y_train)\n",
    "    y_pred = clf.predict(x_test)\n",
    "    print(mean_squared_error(y_pred, y_test))"
   ]
  },
  {
   "cell_type": "code",
   "execution_count": 104,
   "metadata": {},
   "outputs": [],
   "source": [
    "# online training\n",
    "sg = PassiveAggressiveRegressor()\n",
    "for feature, label in zip(x_train, y_train):\n",
    "#     print(feature.reshape(-1,), np.array([label]))\n",
    "    sg.partial_fit(feature.reshape(1, -1), np.array([label]))"
   ]
  },
  {
   "cell_type": "code",
   "execution_count": 100,
   "metadata": {},
   "outputs": [
    {
     "name": "stdout",
     "output_type": "stream",
     "text": [
      "818.1059058685958\n"
     ]
    }
   ],
   "source": [
    "y_pred = sg.predict(x_test)\n",
    "print(mean_squared_error(y_pred, y_test))"
   ]
  },
  {
   "cell_type": "code",
   "execution_count": 105,
   "metadata": {},
   "outputs": [
    {
     "data": {
      "text/plain": [
       "array([82.50197023])"
      ]
     },
     "execution_count": 105,
     "metadata": {},
     "output_type": "execute_result"
    }
   ],
   "source": [
    "d = s.transform(np.array([128, 0.01, 8, 16]).reshape(1,-1))\n",
    "d\n",
    "sg.predict(d)"
   ]
  },
  {
   "cell_type": "code",
   "execution_count": 126,
   "metadata": {},
   "outputs": [
    {
     "data": {
      "text/plain": [
       "[[256.0, 0.01, 1.0, 2],\n",
       " [256.0, 0.01, 1.0, 8],\n",
       " [256.0, 0.01, 1.0, 16],\n",
       " [256.0, 0.01, 1.0, 64],\n",
       " [256.0, 0.01, 1.0, -1]]"
      ]
     },
     "execution_count": 126,
     "metadata": {},
     "output_type": "execute_result"
    }
   ],
   "source": [
    "[[samples.batch_size, samples.lr, samples.default_parallelism, k] for k in Ks]"
   ]
  },
  {
   "cell_type": "code",
   "execution_count": 123,
   "metadata": {},
   "outputs": [],
   "source": [
    "Ks = [2,8, 16, 64, -1]\n",
    "\n",
    "samples = x.iloc[2]\n",
    "# [[[s.batch_size, s.lr, s.default_parallelism, K] for s in] for K in Ks]"
   ]
  },
  {
   "cell_type": "markdown",
   "metadata": {},
   "source": [
    "## Create the class for evaluating possible K levels"
   ]
  },
  {
   "cell_type": "code",
   "execution_count": 167,
   "metadata": {},
   "outputs": [],
   "source": [
    "class KOptimizer:\n",
    "    \n",
    "    Ks = [2,8, 16, 64, -1]\n",
    "    \n",
    "    def __init__(self, X, y_acc, y_time):\n",
    "        self.scaler = StandardScaler()\n",
    "        data = self.scaler.fit_transform(X)\n",
    "        self.time_reg = PassiveAggressiveRegressor(random_state=42)\n",
    "        self.acc_reg = PassiveAggressiveRegressor(random_state=42)\n",
    "        \n",
    "        # fit both regressors\n",
    "        self.time_reg.fit(data, y_time)\n",
    "        self.acc_reg.fit(data, y_acc)\n",
    "        \n",
    "    def __call__(self, X, y):\n",
    "        _x = np.array([[X.batch_size, X.lr, X.default_parallelism, k] for k in self.Ks])\n",
    "        stdata = self.scaler.transform(_x)\n",
    "        preds_acc, preds_time = self.acc_reg.predict(stdata), self.time_reg.predict(stdata)\n",
    "        print(_x, preds_acc, preds_time)\n",
    "        \n",
    "    def update(self, x: np.ndarray, time: float, acc: float):\n",
    "        _x = self.scaler.transform(x.reshape(1, -1))\n",
    "        self.time_reg.partial_fit(_x, np.array([time]))\n",
    "        self.acc_reg.partial_fit(_x, np.array([acc]))"
   ]
  },
  {
   "cell_type": "code",
   "execution_count": 173,
   "metadata": {},
   "outputs": [
    {
     "name": "stdout",
     "output_type": "stream",
     "text": [
      "[[ 6.4e+01  1.0e-02  8.0e+00  2.0e+00]\n",
      " [ 6.4e+01  1.0e-02  8.0e+00  8.0e+00]\n",
      " [ 6.4e+01  1.0e-02  8.0e+00  1.6e+01]\n",
      " [ 6.4e+01  1.0e-02  8.0e+00  6.4e+01]\n",
      " [ 6.4e+01  1.0e-02  8.0e+00 -1.0e+00]] [46.42098938 46.29519273 46.12746386 45.12109066 46.4838877 ] [ 0.38979026 -0.17957509 -0.93872889 -5.49365172  0.67447294]\n"
     ]
    }
   ],
   "source": [
    "# op = KOptimizer(x_train, y_train_acc, y_train_time)\n",
    "preds = op(df.iloc[15], df.iloc[15])\n",
    "preds"
   ]
  },
  {
   "cell_type": "code",
   "execution_count": 174,
   "metadata": {},
   "outputs": [
    {
     "name": "stdout",
     "output_type": "stream",
     "text": [
      "42.964120499\n",
      "43.45463995\n",
      "48.608870431\n",
      "49.348767040000006\n",
      "125.67063405100001\n",
      "157.845865048\n",
      "146.150401646\n",
      "77.11826426100001\n",
      "111.183158916\n",
      "91.873677077\n",
      "193.47928402899998\n",
      "30.571016984000003\n",
      "74.792759029\n",
      "127.452963605\n",
      "33.157986481\n",
      "25.206731129\n",
      "49.644195835000005\n",
      "129.857463547\n",
      "44.282958637\n",
      "242.788765065\n"
     ]
    }
   ],
   "source": [
    "for f, t, a in zip(s.transform(x_test), y_test_time, y_test_acc):\n",
    "    print(t)\n",
    "    op.update(f, t, a)"
   ]
  }
 ],
 "metadata": {
  "kernelspec": {
   "display_name": "Python 3",
   "language": "python",
   "name": "python3"
  },
  "language_info": {
   "codemirror_mode": {
    "name": "ipython",
    "version": 3
   },
   "file_extension": ".py",
   "mimetype": "text/x-python",
   "name": "python",
   "nbconvert_exporter": "python",
   "pygments_lexer": "ipython3",
   "version": "3.6.8"
  }
 },
 "nbformat": 4,
 "nbformat_minor": 4
}
