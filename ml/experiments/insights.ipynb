{
 "cells": [
  {
   "cell_type": "markdown",
   "metadata": {
    "collapsed": true,
    "pycharm": {
     "name": "#%% md\n"
    }
   },
   "source": [
    "# Gather insights from the experiments run on GCP"
   ]
  },
  {
   "cell_type": "code",
   "execution_count": 1,
   "metadata": {
    "pycharm": {
     "name": "#%%\n"
    }
   },
   "outputs": [],
   "source": [
    "import numpy as np\n",
    "import pandas as pd\n",
    "import seaborn as sns\n",
    "import matplotlib.pyplot as plt"
   ]
  },
  {
   "cell_type": "markdown",
   "metadata": {
    "pycharm": {
     "name": "#%% md\n"
    }
   },
   "source": [
    "## Read the experiments file"
   ]
  },
  {
   "cell_type": "code",
   "execution_count": 2,
   "metadata": {
    "pycharm": {
     "name": "#%%\n"
    }
   },
   "outputs": [
    {
     "data": {
      "text/html": [
       "<div>\n",
       "<style scoped>\n",
       "    .dataframe tbody tr th:only-of-type {\n",
       "        vertical-align: middle;\n",
       "    }\n",
       "\n",
       "    .dataframe tbody tr th {\n",
       "        vertical-align: top;\n",
       "    }\n",
       "\n",
       "    .dataframe thead th {\n",
       "        text-align: right;\n",
       "    }\n",
       "</style>\n",
       "<table border=\"1\" class=\"dataframe\">\n",
       "  <thead>\n",
       "    <tr style=\"text-align: right;\">\n",
       "      <th></th>\n",
       "      <th>id</th>\n",
       "      <th>model_type</th>\n",
       "      <th>batch_size</th>\n",
       "      <th>epochs</th>\n",
       "      <th>dataset</th>\n",
       "      <th>lr</th>\n",
       "      <th>function_name</th>\n",
       "      <th>default_parallelism</th>\n",
       "      <th>static_parallelism</th>\n",
       "      <th>validate_every</th>\n",
       "      <th>k</th>\n",
       "      <th>goal_accuracy</th>\n",
       "      <th>validation_loss</th>\n",
       "      <th>accuracy</th>\n",
       "      <th>train_loss</th>\n",
       "      <th>parallelism</th>\n",
       "      <th>epoch_duration</th>\n",
       "    </tr>\n",
       "  </thead>\n",
       "  <tbody>\n",
       "    <tr>\n",
       "      <th>0</th>\n",
       "      <td>00016a6d</td>\n",
       "      <td>example</td>\n",
       "      <td>32</td>\n",
       "      <td>5</td>\n",
       "      <td>mnist</td>\n",
       "      <td>0.01</td>\n",
       "      <td>lenet</td>\n",
       "      <td>8</td>\n",
       "      <td>True</td>\n",
       "      <td>1</td>\n",
       "      <td>2</td>\n",
       "      <td>100</td>\n",
       "      <td>[2.1973181882986244, 1.1784593651469903, 1.029...</td>\n",
       "      <td>[40.84, 61.44, 67.87, 71.9, 74.41, 74.41]</td>\n",
       "      <td>[2.274835508236346, 1.649385466371889, 1.06358...</td>\n",
       "      <td>[8, 8, 8, 8, 8]</td>\n",
       "      <td>[20.341937384, 18.199299126, 19.499556016, 16....</td>\n",
       "    </tr>\n",
       "    <tr>\n",
       "      <th>1</th>\n",
       "      <td>02bee949</td>\n",
       "      <td>example</td>\n",
       "      <td>256</td>\n",
       "      <td>5</td>\n",
       "      <td>mnist</td>\n",
       "      <td>0.01</td>\n",
       "      <td>lenet</td>\n",
       "      <td>8</td>\n",
       "      <td>True</td>\n",
       "      <td>1</td>\n",
       "      <td>-1</td>\n",
       "      <td>100</td>\n",
       "      <td>[2.286003202199936, 2.239145827293396, 1.84514...</td>\n",
       "      <td>[31.07, 34.76, 47.44, 65.17, 75.72, 75.72]</td>\n",
       "      <td>[2.2961234539747237, 2.272776414950689, 2.1365...</td>\n",
       "      <td>[8, 8, 8, 8, 8]</td>\n",
       "      <td>[8.504620223, 4.627196077, 4.501738296, 4.2119...</td>\n",
       "    </tr>\n",
       "    <tr>\n",
       "      <th>2</th>\n",
       "      <td>041d0a43</td>\n",
       "      <td>example</td>\n",
       "      <td>256</td>\n",
       "      <td>5</td>\n",
       "      <td>mnist</td>\n",
       "      <td>0.01</td>\n",
       "      <td>lenet</td>\n",
       "      <td>1</td>\n",
       "      <td>True</td>\n",
       "      <td>1</td>\n",
       "      <td>8</td>\n",
       "      <td>100</td>\n",
       "      <td>[1.455910474061966, 0.6767568618059159, 0.3643...</td>\n",
       "      <td>[54.56, 75.22, 86.61, 87.67, 88.19, 88.19]</td>\n",
       "      <td>[1.8920634332630368, 0.8980419049660365, 0.584...</td>\n",
       "      <td>[1, 1, 1, 1, 1]</td>\n",
       "      <td>[21.382301983, 21.158918694, 22.514624452, 25....</td>\n",
       "    </tr>\n",
       "    <tr>\n",
       "      <th>3</th>\n",
       "      <td>05ef4081</td>\n",
       "      <td>example</td>\n",
       "      <td>128</td>\n",
       "      <td>5</td>\n",
       "      <td>mnist</td>\n",
       "      <td>0.01</td>\n",
       "      <td>lenet</td>\n",
       "      <td>6</td>\n",
       "      <td>True</td>\n",
       "      <td>1</td>\n",
       "      <td>-1</td>\n",
       "      <td>100</td>\n",
       "      <td>[1.999684738207467, 0.8710694237600399, 0.3453...</td>\n",
       "      <td>[41.58, 73.5, 90.54, 95.6, 96.3, 96.3]</td>\n",
       "      <td>[2.2536008035634927, 1.3901311563623941, 0.596...</td>\n",
       "      <td>[6, 6, 6, 6, 6]</td>\n",
       "      <td>[8.202431631, 10.277207753999999, 10.47414276,...</td>\n",
       "    </tr>\n",
       "    <tr>\n",
       "      <th>4</th>\n",
       "      <td>0741fb85</td>\n",
       "      <td>example</td>\n",
       "      <td>256</td>\n",
       "      <td>5</td>\n",
       "      <td>mnist</td>\n",
       "      <td>0.01</td>\n",
       "      <td>lenet</td>\n",
       "      <td>8</td>\n",
       "      <td>True</td>\n",
       "      <td>1</td>\n",
       "      <td>64</td>\n",
       "      <td>100</td>\n",
       "      <td>[2.3002407133579252, 2.2971227765083313, 2.291...</td>\n",
       "      <td>[10.28, 10.29, 12.36, 14.23, 14.63, 14.63]</td>\n",
       "      <td>[2.3015892674525578, 2.298999429742495, 2.2951...</td>\n",
       "      <td>[8, 8, 8, 8, 8]</td>\n",
       "      <td>[7.473797848, 4.280385144, 4.659832883, 4.3311...</td>\n",
       "    </tr>\n",
       "  </tbody>\n",
       "</table>\n",
       "</div>"
      ],
      "text/plain": [
       "         id model_type  batch_size  epochs dataset    lr function_name  \\\n",
       "0  00016a6d    example          32       5   mnist  0.01         lenet   \n",
       "1  02bee949    example         256       5   mnist  0.01         lenet   \n",
       "2  041d0a43    example         256       5   mnist  0.01         lenet   \n",
       "3  05ef4081    example         128       5   mnist  0.01         lenet   \n",
       "4  0741fb85    example         256       5   mnist  0.01         lenet   \n",
       "\n",
       "   default_parallelism  static_parallelism  validate_every   k  goal_accuracy  \\\n",
       "0                    8                True               1   2            100   \n",
       "1                    8                True               1  -1            100   \n",
       "2                    1                True               1   8            100   \n",
       "3                    6                True               1  -1            100   \n",
       "4                    8                True               1  64            100   \n",
       "\n",
       "                                     validation_loss  \\\n",
       "0  [2.1973181882986244, 1.1784593651469903, 1.029...   \n",
       "1  [2.286003202199936, 2.239145827293396, 1.84514...   \n",
       "2  [1.455910474061966, 0.6767568618059159, 0.3643...   \n",
       "3  [1.999684738207467, 0.8710694237600399, 0.3453...   \n",
       "4  [2.3002407133579252, 2.2971227765083313, 2.291...   \n",
       "\n",
       "                                     accuracy  \\\n",
       "0   [40.84, 61.44, 67.87, 71.9, 74.41, 74.41]   \n",
       "1  [31.07, 34.76, 47.44, 65.17, 75.72, 75.72]   \n",
       "2  [54.56, 75.22, 86.61, 87.67, 88.19, 88.19]   \n",
       "3      [41.58, 73.5, 90.54, 95.6, 96.3, 96.3]   \n",
       "4  [10.28, 10.29, 12.36, 14.23, 14.63, 14.63]   \n",
       "\n",
       "                                          train_loss      parallelism  \\\n",
       "0  [2.274835508236346, 1.649385466371889, 1.06358...  [8, 8, 8, 8, 8]   \n",
       "1  [2.2961234539747237, 2.272776414950689, 2.1365...  [8, 8, 8, 8, 8]   \n",
       "2  [1.8920634332630368, 0.8980419049660365, 0.584...  [1, 1, 1, 1, 1]   \n",
       "3  [2.2536008035634927, 1.3901311563623941, 0.596...  [6, 6, 6, 6, 6]   \n",
       "4  [2.3015892674525578, 2.298999429742495, 2.2951...  [8, 8, 8, 8, 8]   \n",
       "\n",
       "                                      epoch_duration  \n",
       "0  [20.341937384, 18.199299126, 19.499556016, 16....  \n",
       "1  [8.504620223, 4.627196077, 4.501738296, 4.2119...  \n",
       "2  [21.382301983, 21.158918694, 22.514624452, 25....  \n",
       "3  [8.202431631, 10.277207753999999, 10.47414276,...  \n",
       "4  [7.473797848, 4.280385144, 4.659832883, 4.3311...  "
      ]
     },
     "execution_count": 2,
     "metadata": {},
     "output_type": "execute_result"
    }
   ],
   "source": [
    "experiment_file = './100experiments.pkl'\n",
    "df = pd.read_pickle(experiment_file)\n",
    "\n",
    "df.head()\n",
    "\n"
   ]
  },
  {
   "cell_type": "markdown",
   "metadata": {
    "pycharm": {
     "name": "#%% md\n"
    }
   },
   "source": [
    "### Create new columns for representation\n",
    "\n",
    "- Final accuracy\n",
    "- Total time taken\n",
    "- Parallelism"
   ]
  },
  {
   "cell_type": "code",
   "execution_count": 3,
   "metadata": {
    "pycharm": {
     "name": "#%%\n"
    }
   },
   "outputs": [],
   "source": [
    "# Set the acc to the final accuracy\n",
    "df['acc'] = df.accuracy.map(lambda a: a[-1])\n",
    "\n",
    "# Set the time to the sum of the epoch durations\n",
    "df['time'] = df.epoch_duration.map(sum)\n",
    "\n",
    "# Set the parallelism to the first since it is constant\n",
    "df.parallelism = df.parallelism.map(lambda l:l[0])\n",
    "\n",
    "# change -1 to inf so the order is right in the plot\n",
    "df.k = df.k.map(lambda val: float('inf') if val == -1 else val)\n"
   ]
  },
  {
   "cell_type": "code",
   "execution_count": 4,
   "metadata": {},
   "outputs": [
    {
     "data": {
      "text/plain": [
       "0     [20.341937384, 38.541236510000005, 58.04079252...\n",
       "1     [8.504620223, 13.1318163, 17.633554596, 21.845...\n",
       "2     [21.382301983, 42.541220677, 65.055845129, 90....\n",
       "3     [8.202431631, 18.479639385, 28.953782144999998...\n",
       "4     [7.473797848, 11.754182992, 16.414015875, 20.7...\n",
       "                            ...                        \n",
       "95    [13.80060439, 23.017119826, 30.306152857999997...\n",
       "96    [20.487885076, 33.284010195, 45.675402906, 62....\n",
       "97    [10.800646598, 20.237180422, 28.35235146700000...\n",
       "98    [9.994333652, 19.057147463, 25.756005469999998...\n",
       "99    [10.367504324, 21.367741483, 30.461424877, 36....\n",
       "Name: epoch_duration, Length: 100, dtype: object"
      ]
     },
     "execution_count": 4,
     "metadata": {},
     "output_type": "execute_result"
    }
   ],
   "source": [
    "from typing import List\n",
    "\n",
    "def accum_time(durations: List[float]):\n",
    "    # print('before', durations)\n",
    "    for i in range(1, len(durations)):\n",
    "        durations[i] += durations[i-1]\n",
    "    return durations\n",
    "        \n",
    "df.epoch_duration.map(lambda durs: accum_time(durs))\n",
    "        "
   ]
  },
  {
   "cell_type": "markdown",
   "metadata": {
    "pycharm": {
     "name": "#%% md\n"
    }
   },
   "source": [
    "### Plot the Correlations between the K, Batch and Parallelism with time and accuracy"
   ]
  },
  {
   "cell_type": "code",
   "execution_count": null,
   "metadata": {
    "pycharm": {
     "name": "#%%\n"
    },
    "scrolled": true
   },
   "outputs": [],
   "source": [
    "corr = df[['k', 'batch_size', 'parallelism', 'acc', 'time']].corr()\n",
    "sns.heatmap(corr,\n",
    "            annot=True\n",
    ")\n"
   ]
  },
  {
   "cell_type": "markdown",
   "metadata": {},
   "source": [
    "### Get the max accuracies and times and check the parameters used"
   ]
  },
  {
   "cell_type": "code",
   "execution_count": null,
   "metadata": {
    "pycharm": {
     "name": "#%%\n"
    }
   },
   "outputs": [],
   "source": [
    "# get the max accuracies\n",
    "df[['k', 'parallelism', 'acc', 'time']].loc[df.parallelism >= 4].sort_values(by='acc', ascending=False).head(10)"
   ]
  },
  {
   "cell_type": "markdown",
   "metadata": {
    "pycharm": {
     "name": "#%% md\n"
    }
   },
   "source": [
    "## Calculate TTA with different accuracies\n",
    "\n"
   ]
  },
  {
   "cell_type": "code",
   "execution_count": 8,
   "metadata": {
    "pycharm": {
     "name": "#%%\n"
    }
   },
   "outputs": [],
   "source": [
    "# Calculate time to accuracy for different accuracies\n",
    "def tta(acc:int, df: pd.DataFrame):\n",
    "\n",
    "    res = []\n",
    "    for _, row in df.iterrows():\n",
    "        done = False\n",
    "        dur, accuracy = row.epoch_duration, row.accuracy\n",
    "        for idx, (t, a) in enumerate(zip(dur, accuracy[:len(dur)])):\n",
    "            if a >= acc:\n",
    "                res.append(t)\n",
    "                done = True\n",
    "                break\n",
    "\n",
    "        if not done:\n",
    "            res.append(np.nan)\n",
    "\n",
    "    return res"
   ]
  },
  {
   "cell_type": "code",
   "execution_count": 15,
   "metadata": {
    "pycharm": {
     "name": "#%%\n"
    }
   },
   "outputs": [
    {
     "data": {
      "text/html": [
       "<div>\n",
       "<style scoped>\n",
       "    .dataframe tbody tr th:only-of-type {\n",
       "        vertical-align: middle;\n",
       "    }\n",
       "\n",
       "    .dataframe tbody tr th {\n",
       "        vertical-align: top;\n",
       "    }\n",
       "\n",
       "    .dataframe thead th {\n",
       "        text-align: right;\n",
       "    }\n",
       "</style>\n",
       "<table border=\"1\" class=\"dataframe\">\n",
       "  <thead>\n",
       "    <tr style=\"text-align: right;\">\n",
       "      <th></th>\n",
       "      <th>id</th>\n",
       "      <th>model_type</th>\n",
       "      <th>batch_size</th>\n",
       "      <th>epochs</th>\n",
       "      <th>dataset</th>\n",
       "      <th>lr</th>\n",
       "      <th>function_name</th>\n",
       "      <th>default_parallelism</th>\n",
       "      <th>static_parallelism</th>\n",
       "      <th>validate_every</th>\n",
       "      <th>...</th>\n",
       "      <th>goal_accuracy</th>\n",
       "      <th>validation_loss</th>\n",
       "      <th>accuracy</th>\n",
       "      <th>train_loss</th>\n",
       "      <th>parallelism</th>\n",
       "      <th>epoch_duration</th>\n",
       "      <th>acc</th>\n",
       "      <th>time</th>\n",
       "      <th>tta_90</th>\n",
       "      <th>tta_95</th>\n",
       "    </tr>\n",
       "  </thead>\n",
       "  <tbody>\n",
       "    <tr>\n",
       "      <th>83</th>\n",
       "      <td>d26bf03f</td>\n",
       "      <td>example</td>\n",
       "      <td>32</td>\n",
       "      <td>5</td>\n",
       "      <td>mnist</td>\n",
       "      <td>0.01</td>\n",
       "      <td>lenet</td>\n",
       "      <td>4</td>\n",
       "      <td>True</td>\n",
       "      <td>1</td>\n",
       "      <td>...</td>\n",
       "      <td>100</td>\n",
       "      <td>[0.10292607633647667, 0.07041365020365764, 0.0...</td>\n",
       "      <td>[96.74, 97.72, 98.1, 98.46, 98.69, 98.69]</td>\n",
       "      <td>[0.629087566103204, 0.1199973800370776, 0.0805...</td>\n",
       "      <td>4</td>\n",
       "      <td>[10.32526709, 18.848605152, 26.793319092, 34.8...</td>\n",
       "      <td>98.69</td>\n",
       "      <td>42.964120</td>\n",
       "      <td>10.325267</td>\n",
       "      <td>10.325267</td>\n",
       "    </tr>\n",
       "    <tr>\n",
       "      <th>49</th>\n",
       "      <td>66d47050</td>\n",
       "      <td>example</td>\n",
       "      <td>64</td>\n",
       "      <td>5</td>\n",
       "      <td>mnist</td>\n",
       "      <td>0.01</td>\n",
       "      <td>lenet</td>\n",
       "      <td>2</td>\n",
       "      <td>True</td>\n",
       "      <td>1</td>\n",
       "      <td>...</td>\n",
       "      <td>100</td>\n",
       "      <td>[0.11060942608157208, 0.061826164755324396, 0....</td>\n",
       "      <td>[96.41, 98.05, 98.15, 98.39, 98.63, 98.63]</td>\n",
       "      <td>[0.5604856002860878, 0.10562132961024392, 0.07...</td>\n",
       "      <td>2</td>\n",
       "      <td>[14.746297403, 37.64234764, 52.635753502, 65.3...</td>\n",
       "      <td>98.63</td>\n",
       "      <td>82.002812</td>\n",
       "      <td>14.746297</td>\n",
       "      <td>14.746297</td>\n",
       "    </tr>\n",
       "    <tr>\n",
       "      <th>29</th>\n",
       "      <td>419bcd56</td>\n",
       "      <td>example</td>\n",
       "      <td>32</td>\n",
       "      <td>5</td>\n",
       "      <td>mnist</td>\n",
       "      <td>0.01</td>\n",
       "      <td>lenet</td>\n",
       "      <td>2</td>\n",
       "      <td>True</td>\n",
       "      <td>1</td>\n",
       "      <td>...</td>\n",
       "      <td>100</td>\n",
       "      <td>[0.17406658710429843, 0.059029900857975284, 0....</td>\n",
       "      <td>[95.43, 98.21, 98.29, 98.54, 98.73, 98.73]</td>\n",
       "      <td>[0.8068039657278288, 0.11768194570779086, 0.07...</td>\n",
       "      <td>2</td>\n",
       "      <td>[16.264284773, 39.565087823, 54.660093239, 71....</td>\n",
       "      <td>98.73</td>\n",
       "      <td>86.893557</td>\n",
       "      <td>16.264285</td>\n",
       "      <td>16.264285</td>\n",
       "    </tr>\n",
       "    <tr>\n",
       "      <th>8</th>\n",
       "      <td>0dc83307</td>\n",
       "      <td>example</td>\n",
       "      <td>32</td>\n",
       "      <td>5</td>\n",
       "      <td>mnist</td>\n",
       "      <td>0.01</td>\n",
       "      <td>lenet</td>\n",
       "      <td>2</td>\n",
       "      <td>True</td>\n",
       "      <td>1</td>\n",
       "      <td>...</td>\n",
       "      <td>100</td>\n",
       "      <td>[0.09055285320316736, 0.058425187083831896, 0....</td>\n",
       "      <td>[97.23, 98.2, 98.42, 98.78, 98.65, 98.65]</td>\n",
       "      <td>[0.42031963104602393, 0.09073004207162938, 0.0...</td>\n",
       "      <td>2</td>\n",
       "      <td>[16.420068681, 32.189033001, 49.047589318, 62....</td>\n",
       "      <td>98.65</td>\n",
       "      <td>79.060111</td>\n",
       "      <td>16.420069</td>\n",
       "      <td>16.420069</td>\n",
       "    </tr>\n",
       "    <tr>\n",
       "      <th>89</th>\n",
       "      <td>eeb44baf</td>\n",
       "      <td>example</td>\n",
       "      <td>32</td>\n",
       "      <td>5</td>\n",
       "      <td>mnist</td>\n",
       "      <td>0.01</td>\n",
       "      <td>lenet</td>\n",
       "      <td>8</td>\n",
       "      <td>True</td>\n",
       "      <td>1</td>\n",
       "      <td>...</td>\n",
       "      <td>100</td>\n",
       "      <td>[0.22910406498815686, 0.11014689749051719, 0.0...</td>\n",
       "      <td>[93.29, 96.63, 97.59, 98.07, 98.39, 98.39]</td>\n",
       "      <td>[1.182567041634527, 0.22010011421594788, 0.139...</td>\n",
       "      <td>8</td>\n",
       "      <td>[10.743975843, 16.878279368999998, 23.82004253...</td>\n",
       "      <td>98.39</td>\n",
       "      <td>35.428428</td>\n",
       "      <td>10.743976</td>\n",
       "      <td>16.878279</td>\n",
       "    </tr>\n",
       "    <tr>\n",
       "      <th>...</th>\n",
       "      <td>...</td>\n",
       "      <td>...</td>\n",
       "      <td>...</td>\n",
       "      <td>...</td>\n",
       "      <td>...</td>\n",
       "      <td>...</td>\n",
       "      <td>...</td>\n",
       "      <td>...</td>\n",
       "      <td>...</td>\n",
       "      <td>...</td>\n",
       "      <td>...</td>\n",
       "      <td>...</td>\n",
       "      <td>...</td>\n",
       "      <td>...</td>\n",
       "      <td>...</td>\n",
       "      <td>...</td>\n",
       "      <td>...</td>\n",
       "      <td>...</td>\n",
       "      <td>...</td>\n",
       "      <td>...</td>\n",
       "      <td>...</td>\n",
       "    </tr>\n",
       "    <tr>\n",
       "      <th>91</th>\n",
       "      <td>f30bf704</td>\n",
       "      <td>example</td>\n",
       "      <td>256</td>\n",
       "      <td>5</td>\n",
       "      <td>mnist</td>\n",
       "      <td>0.01</td>\n",
       "      <td>lenet</td>\n",
       "      <td>2</td>\n",
       "      <td>True</td>\n",
       "      <td>1</td>\n",
       "      <td>...</td>\n",
       "      <td>100</td>\n",
       "      <td>[2.279031002521515, 1.2781946495175363, 0.6694...</td>\n",
       "      <td>[27.05, 60.78, 82.45, 92.22, 94.16, 94.16]</td>\n",
       "      <td>[2.2936452438433967, 2.041442214449247, 0.8207...</td>\n",
       "      <td>2</td>\n",
       "      <td>[14.89196145, 35.346955344, 51.335390313000005...</td>\n",
       "      <td>94.16</td>\n",
       "      <td>80.251625</td>\n",
       "      <td>66.505707</td>\n",
       "      <td>NaN</td>\n",
       "    </tr>\n",
       "    <tr>\n",
       "      <th>92</th>\n",
       "      <td>f3bfc948</td>\n",
       "      <td>example</td>\n",
       "      <td>64</td>\n",
       "      <td>5</td>\n",
       "      <td>mnist</td>\n",
       "      <td>0.01</td>\n",
       "      <td>lenet</td>\n",
       "      <td>4</td>\n",
       "      <td>True</td>\n",
       "      <td>1</td>\n",
       "      <td>...</td>\n",
       "      <td>100</td>\n",
       "      <td>[1.2649675668424862, 0.5818309753563753, 0.557...</td>\n",
       "      <td>[56.18, 76.54, 77.12, 77.19, 77.41, 77.41]</td>\n",
       "      <td>[1.7007387750922474, 0.8153636388265234, 0.596...</td>\n",
       "      <td>4</td>\n",
       "      <td>[10.605140908, 18.366917311999998, 24.61664449...</td>\n",
       "      <td>77.41</td>\n",
       "      <td>37.790345</td>\n",
       "      <td>NaN</td>\n",
       "      <td>NaN</td>\n",
       "    </tr>\n",
       "    <tr>\n",
       "      <th>93</th>\n",
       "      <td>f5d666dc</td>\n",
       "      <td>example</td>\n",
       "      <td>256</td>\n",
       "      <td>5</td>\n",
       "      <td>mnist</td>\n",
       "      <td>0.01</td>\n",
       "      <td>lenet</td>\n",
       "      <td>4</td>\n",
       "      <td>True</td>\n",
       "      <td>1</td>\n",
       "      <td>...</td>\n",
       "      <td>100</td>\n",
       "      <td>[2.2895358562469483, 2.2524772465229033, 1.874...</td>\n",
       "      <td>[28.01, 30.72, 42.67, 62.72, 64.14, 64.14]</td>\n",
       "      <td>[2.2971765839805207, 2.2748339533184967, 2.126...</td>\n",
       "      <td>4</td>\n",
       "      <td>[11.252547062, 20.738763149, 29.68315434099999...</td>\n",
       "      <td>64.14</td>\n",
       "      <td>47.925944</td>\n",
       "      <td>NaN</td>\n",
       "      <td>NaN</td>\n",
       "    </tr>\n",
       "    <tr>\n",
       "      <th>95</th>\n",
       "      <td>f7733184</td>\n",
       "      <td>example</td>\n",
       "      <td>64</td>\n",
       "      <td>5</td>\n",
       "      <td>mnist</td>\n",
       "      <td>0.01</td>\n",
       "      <td>lenet</td>\n",
       "      <td>8</td>\n",
       "      <td>True</td>\n",
       "      <td>1</td>\n",
       "      <td>...</td>\n",
       "      <td>100</td>\n",
       "      <td>[1.4588187522948928, 0.7854528687182506, 0.453...</td>\n",
       "      <td>[45.1, 73.47, 83.86, 85.64, 86.25, 86.25]</td>\n",
       "      <td>[2.0253294189056503, 1.097543101261815, 0.7000...</td>\n",
       "      <td>8</td>\n",
       "      <td>[13.80060439, 23.017119826, 30.306152857999997...</td>\n",
       "      <td>86.25</td>\n",
       "      <td>48.214698</td>\n",
       "      <td>NaN</td>\n",
       "      <td>NaN</td>\n",
       "    </tr>\n",
       "    <tr>\n",
       "      <th>97</th>\n",
       "      <td>faed83de</td>\n",
       "      <td>example</td>\n",
       "      <td>256</td>\n",
       "      <td>5</td>\n",
       "      <td>mnist</td>\n",
       "      <td>0.01</td>\n",
       "      <td>lenet</td>\n",
       "      <td>8</td>\n",
       "      <td>True</td>\n",
       "      <td>1</td>\n",
       "      <td>...</td>\n",
       "      <td>100</td>\n",
       "      <td>[2.3029221117496492, 2.301830756664276, 2.3007...</td>\n",
       "      <td>[13.31, 14.69, 17.33, 20.07, 21.9, 21.9]</td>\n",
       "      <td>[2.30340778529644, 2.302276806036631, 2.301234...</td>\n",
       "      <td>8</td>\n",
       "      <td>[10.800646598, 20.237180422, 28.35235146700000...</td>\n",
       "      <td>21.90</td>\n",
       "      <td>44.303748</td>\n",
       "      <td>NaN</td>\n",
       "      <td>NaN</td>\n",
       "    </tr>\n",
       "  </tbody>\n",
       "</table>\n",
       "<p>100 rows × 21 columns</p>\n",
       "</div>"
      ],
      "text/plain": [
       "          id model_type  batch_size  epochs dataset    lr function_name  \\\n",
       "83  d26bf03f    example          32       5   mnist  0.01         lenet   \n",
       "49  66d47050    example          64       5   mnist  0.01         lenet   \n",
       "29  419bcd56    example          32       5   mnist  0.01         lenet   \n",
       "8   0dc83307    example          32       5   mnist  0.01         lenet   \n",
       "89  eeb44baf    example          32       5   mnist  0.01         lenet   \n",
       "..       ...        ...         ...     ...     ...   ...           ...   \n",
       "91  f30bf704    example         256       5   mnist  0.01         lenet   \n",
       "92  f3bfc948    example          64       5   mnist  0.01         lenet   \n",
       "93  f5d666dc    example         256       5   mnist  0.01         lenet   \n",
       "95  f7733184    example          64       5   mnist  0.01         lenet   \n",
       "97  faed83de    example         256       5   mnist  0.01         lenet   \n",
       "\n",
       "    default_parallelism  static_parallelism  validate_every  ...  \\\n",
       "83                    4                True               1  ...   \n",
       "49                    2                True               1  ...   \n",
       "29                    2                True               1  ...   \n",
       "8                     2                True               1  ...   \n",
       "89                    8                True               1  ...   \n",
       "..                  ...                 ...             ...  ...   \n",
       "91                    2                True               1  ...   \n",
       "92                    4                True               1  ...   \n",
       "93                    4                True               1  ...   \n",
       "95                    8                True               1  ...   \n",
       "97                    8                True               1  ...   \n",
       "\n",
       "    goal_accuracy                                    validation_loss  \\\n",
       "83            100  [0.10292607633647667, 0.07041365020365764, 0.0...   \n",
       "49            100  [0.11060942608157208, 0.061826164755324396, 0....   \n",
       "29            100  [0.17406658710429843, 0.059029900857975284, 0....   \n",
       "8             100  [0.09055285320316736, 0.058425187083831896, 0....   \n",
       "89            100  [0.22910406498815686, 0.11014689749051719, 0.0...   \n",
       "..            ...                                                ...   \n",
       "91            100  [2.279031002521515, 1.2781946495175363, 0.6694...   \n",
       "92            100  [1.2649675668424862, 0.5818309753563753, 0.557...   \n",
       "93            100  [2.2895358562469483, 2.2524772465229033, 1.874...   \n",
       "95            100  [1.4588187522948928, 0.7854528687182506, 0.453...   \n",
       "97            100  [2.3029221117496492, 2.301830756664276, 2.3007...   \n",
       "\n",
       "                                      accuracy  \\\n",
       "83   [96.74, 97.72, 98.1, 98.46, 98.69, 98.69]   \n",
       "49  [96.41, 98.05, 98.15, 98.39, 98.63, 98.63]   \n",
       "29  [95.43, 98.21, 98.29, 98.54, 98.73, 98.73]   \n",
       "8    [97.23, 98.2, 98.42, 98.78, 98.65, 98.65]   \n",
       "89  [93.29, 96.63, 97.59, 98.07, 98.39, 98.39]   \n",
       "..                                         ...   \n",
       "91  [27.05, 60.78, 82.45, 92.22, 94.16, 94.16]   \n",
       "92  [56.18, 76.54, 77.12, 77.19, 77.41, 77.41]   \n",
       "93  [28.01, 30.72, 42.67, 62.72, 64.14, 64.14]   \n",
       "95   [45.1, 73.47, 83.86, 85.64, 86.25, 86.25]   \n",
       "97    [13.31, 14.69, 17.33, 20.07, 21.9, 21.9]   \n",
       "\n",
       "                                           train_loss parallelism  \\\n",
       "83  [0.629087566103204, 0.1199973800370776, 0.0805...           4   \n",
       "49  [0.5604856002860878, 0.10562132961024392, 0.07...           2   \n",
       "29  [0.8068039657278288, 0.11768194570779086, 0.07...           2   \n",
       "8   [0.42031963104602393, 0.09073004207162938, 0.0...           2   \n",
       "89  [1.182567041634527, 0.22010011421594788, 0.139...           8   \n",
       "..                                                ...         ...   \n",
       "91  [2.2936452438433967, 2.041442214449247, 0.8207...           2   \n",
       "92  [1.7007387750922474, 0.8153636388265234, 0.596...           4   \n",
       "93  [2.2971765839805207, 2.2748339533184967, 2.126...           4   \n",
       "95  [2.0253294189056503, 1.097543101261815, 0.7000...           8   \n",
       "97  [2.30340778529644, 2.302276806036631, 2.301234...           8   \n",
       "\n",
       "                                       epoch_duration    acc       time  \\\n",
       "83  [10.32526709, 18.848605152, 26.793319092, 34.8...  98.69  42.964120   \n",
       "49  [14.746297403, 37.64234764, 52.635753502, 65.3...  98.63  82.002812   \n",
       "29  [16.264284773, 39.565087823, 54.660093239, 71....  98.73  86.893557   \n",
       "8   [16.420068681, 32.189033001, 49.047589318, 62....  98.65  79.060111   \n",
       "89  [10.743975843, 16.878279368999998, 23.82004253...  98.39  35.428428   \n",
       "..                                                ...    ...        ...   \n",
       "91  [14.89196145, 35.346955344, 51.335390313000005...  94.16  80.251625   \n",
       "92  [10.605140908, 18.366917311999998, 24.61664449...  77.41  37.790345   \n",
       "93  [11.252547062, 20.738763149, 29.68315434099999...  64.14  47.925944   \n",
       "95  [13.80060439, 23.017119826, 30.306152857999997...  86.25  48.214698   \n",
       "97  [10.800646598, 20.237180422, 28.35235146700000...  21.90  44.303748   \n",
       "\n",
       "       tta_90     tta_95  \n",
       "83  10.325267  10.325267  \n",
       "49  14.746297  14.746297  \n",
       "29  16.264285  16.264285  \n",
       "8   16.420069  16.420069  \n",
       "89  10.743976  16.878279  \n",
       "..        ...        ...  \n",
       "91  66.505707        NaN  \n",
       "92        NaN        NaN  \n",
       "93        NaN        NaN  \n",
       "95        NaN        NaN  \n",
       "97        NaN        NaN  \n",
       "\n",
       "[100 rows x 21 columns]"
      ]
     },
     "execution_count": 15,
     "metadata": {},
     "output_type": "execute_result"
    }
   ],
   "source": [
    "\n",
    "df['tta_95'] = tta(95, df)\n",
    "\n",
    "\n",
    "\n",
    "df.sort_values('tta_95')\n"
   ]
  },
  {
   "cell_type": "code",
   "execution_count": 16,
   "metadata": {
    "pycharm": {
     "name": "#%%\n"
    }
   },
   "outputs": [
    {
     "data": {
      "text/plain": [
       "<AxesSubplot:xlabel='k', ylabel='tta_95'>"
      ]
     },
     "execution_count": 16,
     "metadata": {},
     "output_type": "execute_result"
    },
    {
     "data": {
      "image/png": "[encoded data removed]",
      "text/plain": [
       "<Figure size 432x288 with 1 Axes>"
      ]
     },
     "metadata": {
      "needs_background": "light"
     },
     "output_type": "display_data"
    }
   ],
   "source": [
    "sns.barplot(x='k', y='tta_95', data=df)"
   ]
  },
  {
   "cell_type": "code",
   "execution_count": null,
   "metadata": {
    "pycharm": {
     "name": "#%%\n"
    }
   },
   "outputs": [],
   "source": [
    "df.head(10)"
   ]
  },
  {
   "cell_type": "markdown",
   "metadata": {},
   "source": [
    "### Plot the distributions of time and accuracy as a function of K, Batch and parallelism"
   ]
  },
  {
   "cell_type": "markdown",
   "metadata": {},
   "source": [
    "#### Plot the accuracy as a factor"
   ]
  },
  {
   "cell_type": "code",
   "execution_count": 13,
   "metadata": {
    "pycharm": {
     "name": "#%%\n"
    }
   },
   "outputs": [
    {
     "data": {
      "text/plain": [
       "<AxesSubplot:xlabel='parallelism', ylabel='acc'>"
      ]
     },
     "execution_count": 13,
     "metadata": {},
     "output_type": "execute_result"
    },
    {
     "data": {
      "image/png": "[encoded data removed]",
      "text/plain": [
       "<Figure size 1080x360 with 3 Axes>"
      ]
     },
     "metadata": {
      "needs_background": "light"
     },
     "output_type": "display_data"
    }
   ],
   "source": [
    "f, ax = plt.subplots(1, 3, sharey=True, figsize=(15, 5))\n",
    "sns.barplot(x='batch_size', y='acc', hue='k', data=df, ax=ax[0])\n",
    "sns.barplot(x='k', y='acc', data=df, ax=ax[1])\n",
    "sns.barplot(x='parallelism', y='acc', data=df, hue='k' ,ax=ax[2])\n",
    "\n",
    "# plt.savefig('./figures/accuracy.png', dpi=300)"
   ]
  },
  {
   "cell_type": "markdown",
   "metadata": {
    "pycharm": {
     "name": "#%% md\n"
    }
   },
   "source": [
    "#### Plot the time as a factor"
   ]
  },
  {
   "cell_type": "code",
   "execution_count": 12,
   "metadata": {
    "pycharm": {
     "name": "#%%\n"
    }
   },
   "outputs": [
    {
     "data": {
      "text/plain": [
       "<AxesSubplot:xlabel='parallelism', ylabel='time'>"
      ]
     },
     "execution_count": 12,
     "metadata": {},
     "output_type": "execute_result"
    },
    {
     "data": {
      "image/png": "[encoded data removed]",
      "text/plain": [
       "<Figure size 1080x864 with 2 Axes>"
      ]
     },
     "metadata": {
      "needs_background": "light"
     },
     "output_type": "display_data"
    }
   ],
   "source": [
    "f, ax = plt.subplots(2, 1, sharey=True, figsize=(15, 12))\n",
    "sns.barplot(x='batch_size', y='time', hue='k', data=df, ax=ax[0])\n",
    "# sns.barplot(x='k', y='time', data=df, ax=ax[1])\n",
    "sns.barplot(x='parallelism', y='time', data=df, ax=ax[1], hue='k')\n",
    "\n",
    "# plt.savefig('./figures/time.png', dpi=300)"
   ]
  },
  {
   "cell_type": "markdown",
   "metadata": {},
   "source": [
    "## Plot the Accuracy progression varying K and parallelism"
   ]
  },
  {
   "cell_type": "markdown",
   "metadata": {
    "pycharm": {
     "name": "#%% md\n"
    }
   },
   "source": [
    "#### Keep K and Batch set, vary parallelism"
   ]
  },
  {
   "cell_type": "code",
   "execution_count": null,
   "metadata": {
    "pycharm": {
     "name": "#%%\n"
    }
   },
   "outputs": [],
   "source": [
    "# Plot the validation lines of k=-1 and batch = 32 with different parallelism\n",
    "def plot_loss_with_k_and_batch(k: int, batch:int, ax: plt.Axes = None):\n",
    "    d = df.loc[(df.k==k) & (df.batch_size==batch)].sort_values(by='parallelism', ascending=False)\n",
    "\n",
    "    plt.rc('font', size=13)\n",
    "    if ax is None:\n",
    "        f = plt.figure(figsize=(10, 5))\n",
    "        for _, row in d.iterrows():\n",
    "#             print(row.accuracy)\n",
    "            plt.plot(range(1,6), row.accuracy[:-1] if len(row.accuracy) == 6 else row.accuracy, label=str(row.parallelism))\n",
    "        plt.xlabel('Epoch')\n",
    "        plt.ylabel('Accuracy (%)')\n",
    "        plt.title(f'Accuracy evolution with LeNet (batch={batch}, k={k})')\n",
    "        plt.legend(title='parallelism', bbox_to_anchor=(1.05, 0.8))\n",
    "        \n",
    "    else:\n",
    "        for _, row in d.iterrows():\n",
    "#             print(row.accuracy)\n",
    "            ax.plot(range(1,6), row.accuracy[:-1] if len(row.accuracy) == 6 else row.accuracy, label=str(row.parallelism))\n",
    "        ax.set_xlabel('Epoch')\n",
    "        ax.set_ylabel('Accuracy (%)')\n",
    "        ax.set_title(f'Batch={batch}, k={k}')\n",
    "        ax.legend(title='parallelism')\n",
    "        \n",
    "\n",
    "f, axes = plt.subplots(nrows=3, ncols=3, figsize=(20, 15), sharex=True)\n",
    "\n",
    "plt.suptitle('Behavior of K, Parallelism and Batch in Accuracy')\n",
    "\n",
    "plot_loss_with_k_and_batch(k=2, batch=32, ax=axes[0][0])\n",
    "plot_loss_with_k_and_batch(k=16, batch=32, ax=axes[0][1])   \n",
    "plot_loss_with_k_and_batch(k=64, batch=32, ax=axes[0][2])\n",
    "\n",
    "plot_loss_with_k_and_batch(k=2, batch=64, ax=axes[1][0])\n",
    "plot_loss_with_k_and_batch(k=16, batch=64, ax=axes[1][1])   \n",
    "plot_loss_with_k_and_batch(k=64, batch=64, ax=axes[1][2])\n",
    "\n",
    "plot_loss_with_k_and_batch(k=2, batch=128, ax=axes[2][0])\n",
    "plot_loss_with_k_and_batch(k=16, batch=128, ax=axes[2][1])   \n",
    "plot_loss_with_k_and_batch(k=64, batch=128, ax=axes[2][2])\n",
    "\n",
    "\n",
    "plt.savefig('./figures/accuracy_study.png', dpi=300)\n"
   ]
  },
  {
   "cell_type": "markdown",
   "metadata": {
    "pycharm": {
     "name": "#%% md\n"
    }
   },
   "source": [
    "#### Keep Parallelism and batch set, vary K"
   ]
  },
  {
   "cell_type": "code",
   "execution_count": null,
   "metadata": {},
   "outputs": [],
   "source": [
    "# Plot the validation lines of k=-1 and batch = 32 with different parallelism\n",
    "def plot_loss_with_parallelism_and_batch(p: int, batch:int, ax: plt.Axes = None):\n",
    "    d = df.loc[(df.parallelism==p) & (df.batch_size==batch)].sort_values(by='k', ascending=False)\n",
    "    \n",
    "    approx_k = (60000/p)/batch\n",
    "\n",
    "    plt.rc('font', size=16)\n",
    "    if ax is None:\n",
    "        f = plt.figure(figsize=(10, 5))\n",
    "        for _, row in d.iterrows():\n",
    "#             print(row.accuracy)\n",
    "            plt.plot(range(1,6), row.accuracy[:-1] if len(row.accuracy) == 6 else row.accuracy, label=str(row.k))\n",
    "        plt.xlabel('Epoch')\n",
    "        plt.ylabel('Accuracy (%)')\n",
    "        plt.title(f'Accuracy evolution with LeNet (batch={batch}, k={k})')\n",
    "        plt.legend(title='parallelism', bbox_to_anchor=(1.05, 0.8))\n",
    "        \n",
    "    else:\n",
    "        for _, row in d.iterrows():\n",
    "            label = str(row.k) if row.k != float('inf') else f'{row.k} ({int(approx_k)})'\n",
    "            ax.plot(range(1,6), row.accuracy[:-1] if len(row.accuracy) == 6 else row.accuracy, label=label)\n",
    "        ax.set_xlabel('Epoch')\n",
    "        ax.set_ylabel('Accuracy (%)')\n",
    "        ax.set_title(f'Batch={batch}, Parallelism={p}')\n",
    "        ax.legend(title='k')\n",
    "        \n",
    "\n",
    "f, axes = plt.subplots(nrows=3, ncols=3, figsize=(30, 20), sharex=True)\n",
    "\n",
    "plt.suptitle('Behavior of K, Parallelism and Batch in Accuracy')\n",
    "\n",
    "plot_loss_with_parallelism_and_batch(p=2, batch=32, ax=axes[0][0])\n",
    "plot_loss_with_parallelism_and_batch(p=4, batch=32, ax=axes[0][1])   \n",
    "plot_loss_with_parallelism_and_batch(p=8, batch=32, ax=axes[0][2])\n",
    "\n",
    "plot_loss_with_parallelism_and_batch(p=2, batch=64, ax=axes[1][0])\n",
    "plot_loss_with_parallelism_and_batch(p=4, batch=64, ax=axes[1][1])   \n",
    "plot_loss_with_parallelism_and_batch(p=8, batch=64, ax=axes[1][2])\n",
    "\n",
    "plot_loss_with_parallelism_and_batch(p=2, batch=128, ax=axes[2][0])\n",
    "plot_loss_with_parallelism_and_batch(p=4, batch=128, ax=axes[2][1])   \n",
    "plot_loss_with_parallelism_and_batch(p=8, batch=128, ax=axes[2][2])\n",
    "\n",
    "\n",
    "plt.savefig('./figures/accuracy_study_varying_k.png', dpi=300)"
   ]
  },
  {
   "cell_type": "markdown",
   "metadata": {
    "pycharm": {
     "name": "#%% md\n"
    }
   },
   "source": [
    "#### Plot 3d dependencies between K and parallelism on time and accuracy"
   ]
  },
  {
   "cell_type": "code",
   "execution_count": null,
   "metadata": {
    "pycharm": {
     "name": "#%%\n"
    }
   },
   "outputs": [],
   "source": [
    "# f, ax = plt.subplots(1, 2, projection='3d')\n",
    "\n",
    "f = plt.figure()\n",
    "ax = f.add_subplot(1, 2, 1, projection='3d')\n",
    "\n",
    "from scipy.interpolate import griddata\n",
    "X, Y = np.meshgrid(df.k.map(lambda v: 500 if v == float('inf') else v), df.parallelism)\n",
    "Z = griddata((df.k.map(lambda v: 500 if v == float('inf') else v),\n",
    "              df.parallelism),\n",
    "              df.acc, (X, Y), method='cubic')\n",
    "\n",
    "ax.plot_surface(X, Y, Z, rstride=1, cstride=1, cmap='coolwarm',\n",
    "                       linewidth=0, antialiased=False)\n"
   ]
  },
  {
   "cell_type": "code",
   "execution_count": null,
   "metadata": {
    "pycharm": {
     "name": "#%%\n"
    }
   },
   "outputs": [],
   "source": [
    "d = df.loc[df.batch==64]"
   ]
  }
 ],
 "metadata": {
  "kernelspec": {
   "display_name": "Python 3",
   "language": "python",
   "name": "python3"
  },
  "language_info": {
   "codemirror_mode": {
    "name": "ipython",
    "version": 3
   },
   "file_extension": ".py",
   "mimetype": "text/x-python",
   "name": "python",
   "nbconvert_exporter": "python",
   "pygments_lexer": "ipython3",
   "version": "3.6.8"
  }
 },
 "nbformat": 4,
 "nbformat_minor": 1
}