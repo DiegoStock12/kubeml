{
 "cells": [
  {
   "cell_type": "markdown",
   "metadata": {
    "collapsed": true,
    "pycharm": {
     "name": "#%% md\n"
    }
   },
   "source": [
    "# Gather insights from the experiments run on GCP"
   ]
  },
  {
   "cell_type": "code",
   "execution_count": 2,
   "metadata": {
    "pycharm": {
     "name": "#%%\n"
    }
   },
   "outputs": [],
   "source": [
    "import numpy as np\n",
    "import pandas as pd\n",
    "import seaborn as sns\n",
    "import matplotlib.pyplot as plt\n",
    "\n",
    "from common.utils import check_missing_experiments, join_df"
   ]
  },
  {
   "cell_type": "markdown",
   "metadata": {},
   "source": [
    "## Merge the experiments"
   ]
  },
  {
   "cell_type": "code",
   "execution_count": 102,
   "metadata": {},
   "outputs": [],
   "source": [
    "df = join_df('./results/lenet/train')"
   ]
  },
  {
   "cell_type": "code",
   "execution_count": 42,
   "metadata": {
    "collapsed": true
   },
   "outputs": [
    {
     "data": {
      "text/html": [
       "<div>\n",
       "<style scoped>\n",
       "    .dataframe tbody tr th:only-of-type {\n",
       "        vertical-align: middle;\n",
       "    }\n",
       "\n",
       "    .dataframe tbody tr th {\n",
       "        vertical-align: top;\n",
       "    }\n",
       "\n",
       "    .dataframe thead th {\n",
       "        text-align: right;\n",
       "    }\n",
       "</style>\n",
       "<table border=\"1\" class=\"dataframe\">\n",
       "  <thead>\n",
       "    <tr style=\"text-align: right;\">\n",
       "      <th></th>\n",
       "      <th>id</th>\n",
       "      <th>hash</th>\n",
       "      <th>model_type</th>\n",
       "      <th>batch_size</th>\n",
       "      <th>epochs</th>\n",
       "      <th>dataset</th>\n",
       "      <th>lr</th>\n",
       "      <th>function_name</th>\n",
       "      <th>default_parallelism</th>\n",
       "      <th>static_parallelism</th>\n",
       "      <th>...</th>\n",
       "      <th>k</th>\n",
       "      <th>goal_accuracy</th>\n",
       "      <th>validation_loss</th>\n",
       "      <th>accuracy</th>\n",
       "      <th>train_loss</th>\n",
       "      <th>parallelism</th>\n",
       "      <th>epoch_duration</th>\n",
       "      <th>acc</th>\n",
       "      <th>time</th>\n",
       "      <th>global_batch</th>\n",
       "    </tr>\n",
       "  </thead>\n",
       "  <tbody>\n",
       "    <tr>\n",
       "      <th>0</th>\n",
       "      <td>01da4199</td>\n",
       "      <td>11bd6f57e69e3e22</td>\n",
       "      <td>example</td>\n",
       "      <td>128</td>\n",
       "      <td>30</td>\n",
       "      <td>mnist</td>\n",
       "      <td>0.01</td>\n",
       "      <td>lenet</td>\n",
       "      <td>1</td>\n",
       "      <td>True</td>\n",
       "      <td>...</td>\n",
       "      <td>8.0</td>\n",
       "      <td>100</td>\n",
       "      <td>[0.5485860196095479, 0.33591695903222774, 0.30...</td>\n",
       "      <td>[82.4, 87.38, 88.11, 88.39, 88.66, 88.83, 88.9...</td>\n",
       "      <td>[1.2349506525291225, 0.4026279076302456, 0.333...</td>\n",
       "      <td>1</td>\n",
       "      <td>[10.077449058, 20.70638898, 31.288472717, 39.4...</td>\n",
       "      <td>89.15</td>\n",
       "      <td>253.146634</td>\n",
       "      <td>128</td>\n",
       "    </tr>\n",
       "    <tr>\n",
       "      <th>1</th>\n",
       "      <td>02bf7ea4</td>\n",
       "      <td>e64b768614e0c4b2</td>\n",
       "      <td>example</td>\n",
       "      <td>64</td>\n",
       "      <td>30</td>\n",
       "      <td>mnist</td>\n",
       "      <td>0.01</td>\n",
       "      <td>lenet</td>\n",
       "      <td>8</td>\n",
       "      <td>True</td>\n",
       "      <td>...</td>\n",
       "      <td>16.0</td>\n",
       "      <td>100</td>\n",
       "      <td>[1.1590004384897317, 0.5489612417236255, 0.412...</td>\n",
       "      <td>[61.23, 82.58, 85.46, 86.82, 87.37, 87.78, 87....</td>\n",
       "      <td>[1.923023720543521, 0.9670081298856531, 0.5196...</td>\n",
       "      <td>8</td>\n",
       "      <td>[4.964808212, 8.864663592, 10.289265984, 12.48...</td>\n",
       "      <td>98.94</td>\n",
       "      <td>71.093838</td>\n",
       "      <td>512</td>\n",
       "    </tr>\n",
       "    <tr>\n",
       "      <th>2</th>\n",
       "      <td>02c2c3e4</td>\n",
       "      <td>ca950a6673f71c02</td>\n",
       "      <td>example</td>\n",
       "      <td>32</td>\n",
       "      <td>30</td>\n",
       "      <td>mnist</td>\n",
       "      <td>0.01</td>\n",
       "      <td>lenet</td>\n",
       "      <td>1</td>\n",
       "      <td>True</td>\n",
       "      <td>...</td>\n",
       "      <td>inf</td>\n",
       "      <td>100</td>\n",
       "      <td>[0.5235689711837342, 0.06617930386145339, 0.05...</td>\n",
       "      <td>[79.21, 98.05, 98.38, 98.07, 98.99, 99.01, 98....</td>\n",
       "      <td>[0.962662495748202, 0.21830440933372205, 0.054...</td>\n",
       "      <td>1</td>\n",
       "      <td>[16.602884641, 33.534667633, 50.038592171, 66....</td>\n",
       "      <td>98.88</td>\n",
       "      <td>474.427546</td>\n",
       "      <td>32</td>\n",
       "    </tr>\n",
       "    <tr>\n",
       "      <th>3</th>\n",
       "      <td>04ae4d90</td>\n",
       "      <td>c072e7d8b6f4fc7e</td>\n",
       "      <td>example</td>\n",
       "      <td>128</td>\n",
       "      <td>30</td>\n",
       "      <td>mnist</td>\n",
       "      <td>0.01</td>\n",
       "      <td>lenet</td>\n",
       "      <td>8</td>\n",
       "      <td>True</td>\n",
       "      <td>...</td>\n",
       "      <td>16.0</td>\n",
       "      <td>100</td>\n",
       "      <td>[2.1896064281463623, 1.1859648537032212, 0.969...</td>\n",
       "      <td>[40.67, 61.14, 64.63, 74.55, 75.76, 76.56, 77....</td>\n",
       "      <td>[2.2638734688728372, 1.6678354446776211, 1.106...</td>\n",
       "      <td>8</td>\n",
       "      <td>[4.530563918, 7.907191199, 9.017845282, 11.031...</td>\n",
       "      <td>79.08</td>\n",
       "      <td>69.049013</td>\n",
       "      <td>1024</td>\n",
       "    </tr>\n",
       "    <tr>\n",
       "      <th>4</th>\n",
       "      <td>06c0714b</td>\n",
       "      <td>9f3c17b028508b1d</td>\n",
       "      <td>example</td>\n",
       "      <td>16</td>\n",
       "      <td>30</td>\n",
       "      <td>mnist</td>\n",
       "      <td>0.01</td>\n",
       "      <td>lenet</td>\n",
       "      <td>2</td>\n",
       "      <td>True</td>\n",
       "      <td>...</td>\n",
       "      <td>8.0</td>\n",
       "      <td>100</td>\n",
       "      <td>[0.3074608722148463, 0.2818065830274485, 0.270...</td>\n",
       "      <td>[87.89, 88.59, 88.89, 98.67, 98.76, 98.73, 98....</td>\n",
       "      <td>[0.6123104479752464, 0.30102516629621995, 0.27...</td>\n",
       "      <td>2</td>\n",
       "      <td>[16.859196504, 33.998285302, 50.667089106, 67....</td>\n",
       "      <td>99.01</td>\n",
       "      <td>510.302252</td>\n",
       "      <td>32</td>\n",
       "    </tr>\n",
       "    <tr>\n",
       "      <th>...</th>\n",
       "      <td>...</td>\n",
       "      <td>...</td>\n",
       "      <td>...</td>\n",
       "      <td>...</td>\n",
       "      <td>...</td>\n",
       "      <td>...</td>\n",
       "      <td>...</td>\n",
       "      <td>...</td>\n",
       "      <td>...</td>\n",
       "      <td>...</td>\n",
       "      <td>...</td>\n",
       "      <td>...</td>\n",
       "      <td>...</td>\n",
       "      <td>...</td>\n",
       "      <td>...</td>\n",
       "      <td>...</td>\n",
       "      <td>...</td>\n",
       "      <td>...</td>\n",
       "      <td>...</td>\n",
       "      <td>...</td>\n",
       "      <td>...</td>\n",
       "    </tr>\n",
       "    <tr>\n",
       "      <th>188</th>\n",
       "      <td>fc4d208e</td>\n",
       "      <td>e4b3277b60ea90de</td>\n",
       "      <td>example</td>\n",
       "      <td>16</td>\n",
       "      <td>30</td>\n",
       "      <td>mnist</td>\n",
       "      <td>0.01</td>\n",
       "      <td>lenet</td>\n",
       "      <td>8</td>\n",
       "      <td>True</td>\n",
       "      <td>...</td>\n",
       "      <td>8.0</td>\n",
       "      <td>100</td>\n",
       "      <td>[0.6245469527602195, 0.43687923605144025, 0.31...</td>\n",
       "      <td>[76.44, 87.13, 88.04, 88.41, 88.62, 88.78, 88....</td>\n",
       "      <td>[1.2015166558508794, 0.6135705711463835, 0.372...</td>\n",
       "      <td>8</td>\n",
       "      <td>[8.497983709, 15.847054416, 20.791052635, 25.7...</td>\n",
       "      <td>89.19</td>\n",
       "      <td>153.539430</td>\n",
       "      <td>128</td>\n",
       "    </tr>\n",
       "    <tr>\n",
       "      <th>189</th>\n",
       "      <td>fcb9d493</td>\n",
       "      <td>a77733fe0915a9ca</td>\n",
       "      <td>example</td>\n",
       "      <td>128</td>\n",
       "      <td>30</td>\n",
       "      <td>mnist</td>\n",
       "      <td>0.01</td>\n",
       "      <td>lenet</td>\n",
       "      <td>8</td>\n",
       "      <td>True</td>\n",
       "      <td>...</td>\n",
       "      <td>32.0</td>\n",
       "      <td>100</td>\n",
       "      <td>[2.060601424567307, 1.1168363494209097, 0.7244...</td>\n",
       "      <td>[41.58, 60.83, 74.03, 75.89, 77.02, 77.6, 77.9...</td>\n",
       "      <td>[2.2459395184285116, 1.467923200111491, 0.9983...</td>\n",
       "      <td>8</td>\n",
       "      <td>[4.554515011, 8.00623632, 9.027556518, 10.6646...</td>\n",
       "      <td>88.99</td>\n",
       "      <td>69.081612</td>\n",
       "      <td>1024</td>\n",
       "    </tr>\n",
       "    <tr>\n",
       "      <th>190</th>\n",
       "      <td>fda9af79</td>\n",
       "      <td>e64b768614e0c4b2</td>\n",
       "      <td>example</td>\n",
       "      <td>64</td>\n",
       "      <td>30</td>\n",
       "      <td>mnist</td>\n",
       "      <td>0.01</td>\n",
       "      <td>lenet</td>\n",
       "      <td>8</td>\n",
       "      <td>True</td>\n",
       "      <td>...</td>\n",
       "      <td>16.0</td>\n",
       "      <td>100</td>\n",
       "      <td>[1.1601699021211855, 0.5499503313545968, 0.413...</td>\n",
       "      <td>[61.22, 82.72, 85.47, 86.82, 87.37, 87.77, 87....</td>\n",
       "      <td>[1.9230494542590655, 0.9735961563962822, 0.520...</td>\n",
       "      <td>8</td>\n",
       "      <td>[5.047451498, 8.744733544, 10.195139693, 12.29...</td>\n",
       "      <td>98.91</td>\n",
       "      <td>70.761765</td>\n",
       "      <td>512</td>\n",
       "    </tr>\n",
       "    <tr>\n",
       "      <th>191</th>\n",
       "      <td>fdf430ea</td>\n",
       "      <td>a31f2f9fde57be67</td>\n",
       "      <td>example</td>\n",
       "      <td>32</td>\n",
       "      <td>30</td>\n",
       "      <td>mnist</td>\n",
       "      <td>0.01</td>\n",
       "      <td>lenet</td>\n",
       "      <td>8</td>\n",
       "      <td>True</td>\n",
       "      <td>...</td>\n",
       "      <td>inf</td>\n",
       "      <td>100</td>\n",
       "      <td>[0.7765196597995088, 0.10789918404919789, 0.07...</td>\n",
       "      <td>[81.64, 96.77, 97.81, 98.04, 98.16, 98.34, 98....</td>\n",
       "      <td>[1.4277215178003888, 0.272522231729715, 0.1509...</td>\n",
       "      <td>8</td>\n",
       "      <td>[5.244792456, 9.119434646, 10.83224465, 12.540...</td>\n",
       "      <td>99.09</td>\n",
       "      <td>71.152022</td>\n",
       "      <td>256</td>\n",
       "    </tr>\n",
       "    <tr>\n",
       "      <th>192</th>\n",
       "      <td>fdfb44d5</td>\n",
       "      <td>1cea5dc3e30453c9</td>\n",
       "      <td>example</td>\n",
       "      <td>64</td>\n",
       "      <td>30</td>\n",
       "      <td>mnist</td>\n",
       "      <td>0.01</td>\n",
       "      <td>lenet</td>\n",
       "      <td>2</td>\n",
       "      <td>True</td>\n",
       "      <td>...</td>\n",
       "      <td>16.0</td>\n",
       "      <td>100</td>\n",
       "      <td>[0.4931060737295515, 0.3288563168162753, 0.075...</td>\n",
       "      <td>[83.13, 87.41, 97.56, 98.13, 98.39, 98.52, 98....</td>\n",
       "      <td>[1.1751603583122292, 0.38083885626324143, 0.14...</td>\n",
       "      <td>2</td>\n",
       "      <td>[7.30146012, 14.67890982, 19.811757251, 24.751...</td>\n",
       "      <td>99.02</td>\n",
       "      <td>155.757218</td>\n",
       "      <td>128</td>\n",
       "    </tr>\n",
       "  </tbody>\n",
       "</table>\n",
       "<p>193 rows × 21 columns</p>\n",
       "</div>"
      ],
      "text/plain": [
       "           id              hash model_type  batch_size  epochs dataset    lr  \\\n",
       "0    01da4199  11bd6f57e69e3e22    example         128      30   mnist  0.01   \n",
       "1    02bf7ea4  e64b768614e0c4b2    example          64      30   mnist  0.01   \n",
       "2    02c2c3e4  ca950a6673f71c02    example          32      30   mnist  0.01   \n",
       "3    04ae4d90  c072e7d8b6f4fc7e    example         128      30   mnist  0.01   \n",
       "4    06c0714b  9f3c17b028508b1d    example          16      30   mnist  0.01   \n",
       "..        ...               ...        ...         ...     ...     ...   ...   \n",
       "188  fc4d208e  e4b3277b60ea90de    example          16      30   mnist  0.01   \n",
       "189  fcb9d493  a77733fe0915a9ca    example         128      30   mnist  0.01   \n",
       "190  fda9af79  e64b768614e0c4b2    example          64      30   mnist  0.01   \n",
       "191  fdf430ea  a31f2f9fde57be67    example          32      30   mnist  0.01   \n",
       "192  fdfb44d5  1cea5dc3e30453c9    example          64      30   mnist  0.01   \n",
       "\n",
       "    function_name  default_parallelism  static_parallelism  ...     k  \\\n",
       "0           lenet                    1                True  ...   8.0   \n",
       "1           lenet                    8                True  ...  16.0   \n",
       "2           lenet                    1                True  ...   inf   \n",
       "3           lenet                    8                True  ...  16.0   \n",
       "4           lenet                    2                True  ...   8.0   \n",
       "..            ...                  ...                 ...  ...   ...   \n",
       "188         lenet                    8                True  ...   8.0   \n",
       "189         lenet                    8                True  ...  32.0   \n",
       "190         lenet                    8                True  ...  16.0   \n",
       "191         lenet                    8                True  ...   inf   \n",
       "192         lenet                    2                True  ...  16.0   \n",
       "\n",
       "     goal_accuracy                                    validation_loss  \\\n",
       "0              100  [0.5485860196095479, 0.33591695903222774, 0.30...   \n",
       "1              100  [1.1590004384897317, 0.5489612417236255, 0.412...   \n",
       "2              100  [0.5235689711837342, 0.06617930386145339, 0.05...   \n",
       "3              100  [2.1896064281463623, 1.1859648537032212, 0.969...   \n",
       "4              100  [0.3074608722148463, 0.2818065830274485, 0.270...   \n",
       "..             ...                                                ...   \n",
       "188            100  [0.6245469527602195, 0.43687923605144025, 0.31...   \n",
       "189            100  [2.060601424567307, 1.1168363494209097, 0.7244...   \n",
       "190            100  [1.1601699021211855, 0.5499503313545968, 0.413...   \n",
       "191            100  [0.7765196597995088, 0.10789918404919789, 0.07...   \n",
       "192            100  [0.4931060737295515, 0.3288563168162753, 0.075...   \n",
       "\n",
       "                                              accuracy  \\\n",
       "0    [82.4, 87.38, 88.11, 88.39, 88.66, 88.83, 88.9...   \n",
       "1    [61.23, 82.58, 85.46, 86.82, 87.37, 87.78, 87....   \n",
       "2    [79.21, 98.05, 98.38, 98.07, 98.99, 99.01, 98....   \n",
       "3    [40.67, 61.14, 64.63, 74.55, 75.76, 76.56, 77....   \n",
       "4    [87.89, 88.59, 88.89, 98.67, 98.76, 98.73, 98....   \n",
       "..                                                 ...   \n",
       "188  [76.44, 87.13, 88.04, 88.41, 88.62, 88.78, 88....   \n",
       "189  [41.58, 60.83, 74.03, 75.89, 77.02, 77.6, 77.9...   \n",
       "190  [61.22, 82.72, 85.47, 86.82, 87.37, 87.77, 87....   \n",
       "191  [81.64, 96.77, 97.81, 98.04, 98.16, 98.34, 98....   \n",
       "192  [83.13, 87.41, 97.56, 98.13, 98.39, 98.52, 98....   \n",
       "\n",
       "                                            train_loss parallelism  \\\n",
       "0    [1.2349506525291225, 0.4026279076302456, 0.333...           1   \n",
       "1    [1.923023720543521, 0.9670081298856531, 0.5196...           8   \n",
       "2    [0.962662495748202, 0.21830440933372205, 0.054...           1   \n",
       "3    [2.2638734688728372, 1.6678354446776211, 1.106...           8   \n",
       "4    [0.6123104479752464, 0.30102516629621995, 0.27...           2   \n",
       "..                                                 ...         ...   \n",
       "188  [1.2015166558508794, 0.6135705711463835, 0.372...           8   \n",
       "189  [2.2459395184285116, 1.467923200111491, 0.9983...           8   \n",
       "190  [1.9230494542590655, 0.9735961563962822, 0.520...           8   \n",
       "191  [1.4277215178003888, 0.272522231729715, 0.1509...           8   \n",
       "192  [1.1751603583122292, 0.38083885626324143, 0.14...           2   \n",
       "\n",
       "                                        epoch_duration    acc        time  \\\n",
       "0    [10.077449058, 20.70638898, 31.288472717, 39.4...  89.15  253.146634   \n",
       "1    [4.964808212, 8.864663592, 10.289265984, 12.48...  98.94   71.093838   \n",
       "2    [16.602884641, 33.534667633, 50.038592171, 66....  98.88  474.427546   \n",
       "3    [4.530563918, 7.907191199, 9.017845282, 11.031...  79.08   69.049013   \n",
       "4    [16.859196504, 33.998285302, 50.667089106, 67....  99.01  510.302252   \n",
       "..                                                 ...    ...         ...   \n",
       "188  [8.497983709, 15.847054416, 20.791052635, 25.7...  89.19  153.539430   \n",
       "189  [4.554515011, 8.00623632, 9.027556518, 10.6646...  88.99   69.081612   \n",
       "190  [5.047451498, 8.744733544, 10.195139693, 12.29...  98.91   70.761765   \n",
       "191  [5.244792456, 9.119434646, 10.83224465, 12.540...  99.09   71.152022   \n",
       "192  [7.30146012, 14.67890982, 19.811757251, 24.751...  99.02  155.757218   \n",
       "\n",
       "     global_batch  \n",
       "0             128  \n",
       "1             512  \n",
       "2              32  \n",
       "3            1024  \n",
       "4              32  \n",
       "..            ...  \n",
       "188           128  \n",
       "189          1024  \n",
       "190           512  \n",
       "191           256  \n",
       "192           128  \n",
       "\n",
       "[193 rows x 21 columns]"
      ]
     },
     "execution_count": 42,
     "metadata": {},
     "output_type": "execute_result"
    }
   ],
   "source": [
    "# get duplicated rows\n",
    "df[df.duplicated(['hash'], keep=False)]"
   ]
  },
  {
   "cell_type": "markdown",
   "metadata": {},
   "source": [
    "### Define the custom palette for graphs\n"
   ]
  },
  {
   "cell_type": "code",
   "execution_count": 55,
   "metadata": {},
   "outputs": [
    {
     "data": {
      "image/png": "[encoded data removed]",
      "text/plain": [
       "<Figure size 360x72 with 1 Axes>"
      ]
     },
     "metadata": {},
     "output_type": "display_data"
    }
   ],
   "source": [
    "green_red_palette = ['#264653', '#2A9D8F', '#E9C46A', '#F4A261', '#E76F51']\n",
    "blue_yellow_palette=  ['#0077b6', '#d62828', '#f77f00', '#fcbf49', '#eae2b7']\n",
    "cool_p = ['#f87575', '#ffa9a3', '#b9e6ff', '#5c95ff', '#7e6c6c']\n",
    "wall_p = ['#e63946', '#f1faee', '#a8dadc', '#457b9d', '#1d3557']\n",
    "\n",
    "sns.palplot(sns.color_palette(blue_yellow_palette))\n",
    "\n",
    "\n",
    "sns.set_theme(style='whitegrid', palette=blue_yellow_palette, )\n",
    "# sns.set_palette(blue_yellow_palette)"
   ]
  },
  {
   "cell_type": "markdown",
   "metadata": {
    "pycharm": {
     "name": "#%% md\n"
    }
   },
   "source": [
    "## Read the experiments file"
   ]
  },
  {
   "cell_type": "code",
   "execution_count": null,
   "metadata": {
    "pycharm": {
     "name": "#%%\n"
    },
    "scrolled": true
   },
   "outputs": [],
   "source": [
    "experiment_file = './resnet_36exp.pkl'\n",
    "df = pd.read_pickle(experiment_file)\n",
    "\n",
    "df.head()\n",
    "\n"
   ]
  },
  {
   "cell_type": "markdown",
   "metadata": {
    "pycharm": {
     "name": "#%% md\n"
    }
   },
   "source": [
    "### Create new columns for representation\n",
    "\n",
    "- Final accuracy\n",
    "- Total time taken\n",
    "- Parallelism"
   ]
  },
  {
   "cell_type": "code",
   "execution_count": 103,
   "metadata": {
    "pycharm": {
     "name": "#%%\n"
    }
   },
   "outputs": [],
   "source": [
    "# Set the acc to the final accuracy\n",
    "df['acc'] = df.accuracy.map(lambda a: a[-1])\n",
    "\n",
    "# Set the time to the sum of the epoch durations\n",
    "df['time'] = df.epoch_duration.map(lambda t: t[-1])\n",
    "\n",
    "# Set the parallelism to the first since it is constant\n",
    "df.parallelism = df.parallelism.map(lambda l:l[0])\n",
    "\n",
    "# change -1 to inf so the order is right in the plot\n",
    "df.k = df.k.map(lambda val: float('inf') if val == -1 else val)\n",
    "\n",
    "df['global_batch'] = df.batch_size * df.parallelism\n",
    "\n"
   ]
  },
  {
   "cell_type": "code",
   "execution_count": null,
   "metadata": {},
   "outputs": [],
   "source": [
    "from typing import List\n",
    "\n",
    "def accum_time(durations: List[float]):\n",
    "    # print('before', durations)\n",
    "    for i in range(1, len(durations)):\n",
    "        durations[i] += durations[i-1]\n",
    "    return durations\n",
    "        \n",
    "df.epoch_duration.map(lambda durs: accum_time(durs))\n",
    "        "
   ]
  },
  {
   "cell_type": "markdown",
   "metadata": {
    "pycharm": {
     "name": "#%% md\n"
    }
   },
   "source": [
    "### Plot the Correlations between the K, Batch and Parallelism with time and accuracy"
   ]
  },
  {
   "cell_type": "code",
   "execution_count": 43,
   "metadata": {
    "pycharm": {
     "name": "#%%\n"
    },
    "scrolled": true
   },
   "outputs": [
    {
     "data": {
      "text/plain": [
       "<AxesSubplot:>"
      ]
     },
     "execution_count": 43,
     "metadata": {},
     "output_type": "execute_result"
    },
    {
     "data": {
      "image/png": "[encoded data removed]",
      "text/plain": [
       "<Figure size 432x288 with 2 Axes>"
      ]
     },
     "metadata": {},
     "output_type": "display_data"
    }
   ],
   "source": [
    "\n",
    "\n",
    "corr = df[['k', 'batch_size', 'parallelism', 'acc', 'time']].corr()\n",
    "sns.heatmap(corr,\n",
    "            annot=True,\n",
    ")\n",
    "\n",
    "# plt.savefig('./figures/resnet34/heat.png', dpi=300)\n"
   ]
  },
  {
   "cell_type": "code",
   "execution_count": null,
   "metadata": {
    "pycharm": {
     "name": "#%%\n"
    }
   },
   "outputs": [],
   "source": [
    "df.sort_values('time')\n"
   ]
  },
  {
   "cell_type": "markdown",
   "metadata": {
    "pycharm": {
     "name": "#%% md\n"
    }
   },
   "source": [
    "### Get the max accuracies and times and check the parameters used"
   ]
  },
  {
   "cell_type": "code",
   "execution_count": null,
   "metadata": {
    "pycharm": {
     "name": "#%%\n"
    }
   },
   "outputs": [],
   "source": [
    "# get the max accuracies\n",
    "df[['k', 'parallelism', 'acc','batch_size','time']].sort_values(by='time', ascending=True)"
   ]
  },
  {
   "cell_type": "markdown",
   "metadata": {
    "pycharm": {
     "name": "#%% md\n"
    }
   },
   "source": [
    "## Which of the parameter combinations offer a better bang for the buck"
   ]
  },
  {
   "cell_type": "code",
   "execution_count": null,
   "metadata": {},
   "outputs": [],
   "source": [
    "m = df.loc[df.acc>10].groupby(['k', 'global_batch']).mean()\n",
    "m['rate'] = m['acc']/m['time']\n",
    "m.sort_values('rate', ascending=False)[['batch_size','acc', 'time', 'rate']]"
   ]
  },
  {
   "cell_type": "markdown",
   "metadata": {
    "pycharm": {
     "name": "#%% md\n"
    }
   },
   "source": [
    "## Calculate TTA with different accuracies\n",
    "\n"
   ]
  },
  {
   "cell_type": "code",
   "execution_count": 104,
   "metadata": {
    "pycharm": {
     "name": "#%%\n"
    }
   },
   "outputs": [],
   "source": [
    "# Calculate time to accuracy for different accuracies\n",
    "def tta_crossbow(acc:int, df: pd.DataFrame):\n",
    "    \"\"\"Computes the tta as in the crossbow paper\n",
    "    where the tta is the median of the last 5 epochs\"\"\"\n",
    "\n",
    "    res = []\n",
    "    for _, row in df.iterrows():\n",
    "        done = False\n",
    "        dur, accuracy = row.epoch_duration, row.accuracy\n",
    "        for idx, (t, a) in enumerate(zip(dur, accuracy[:len(dur)])):\n",
    "            \n",
    "            # if there are less than 5 elements behind, continue\n",
    "            if idx < 4:\n",
    "                continue\n",
    "                \n",
    "            # calculate the median of the next five elements\n",
    "            if np.median(accuracy[idx - 4:idx+1]) >= acc:\n",
    "                res.append(t)\n",
    "                done = True\n",
    "                break\n",
    "\n",
    "        if not done:\n",
    "            res.append(np.nan)\n",
    "\n",
    "    return res\n",
    "\n",
    "\n",
    "def tta(acc:int, df:pd.DataFrame):\n",
    "    \n",
    "    \n",
    "    res = []\n",
    "    for _, row in df.iterrows():\n",
    "        done=False\n",
    "        dur, accuracy = row.epoch_duration, row.accuracy\n",
    "        for idx, (t, a) in enumerate(zip(dur, accuracy[:len(dur)])):\n",
    "            if a >= acc:\n",
    "                res.append(t)\n",
    "                done = True\n",
    "                break\n",
    "\n",
    "        if not done:\n",
    "            res.append(np.nan)\n",
    "\n",
    "    return res\n",
    "        "
   ]
  },
  {
   "cell_type": "code",
   "execution_count": 105,
   "metadata": {
    "pycharm": {
     "name": "#%%\n"
    }
   },
   "outputs": [
    {
     "data": {
      "image/png": "[encoded data removed]",
      "text/plain": [
       "<Figure size 432x288 with 1 Axes>"
      ]
     },
     "metadata": {},
     "output_type": "display_data"
    }
   ],
   "source": [
    "\n",
    "df['tta_99'] = tta(99, df)\n",
    "df['tta_cross_99'] = tta_crossbow(99, df)\n",
    "\n",
    "\n",
    "\n",
    "s = df.sort_values('tta_cross_99')[['k', 'batch_size', 'parallelism', 'tta_cross_99', 'tta_99', 'acc', 'accuracy', 'epoch_duration']]\n",
    "\n",
    "# plot the best\n",
    "best = s.iloc[0]\n",
    "best\n",
    "\n",
    "\n",
    "x = range(1, len(best.accuracy)+1)\n",
    "plt.figure()\n",
    "plt.title(f'Best tta_99 (B={best.batch_size}, k={best.k}, P={best.parallelism})')\n",
    "sns.lineplot(x=best.epoch_duration, y = best.accuracy)\n",
    "sns.lineplot(x=best.epoch_duration, y= 99)\n",
    "plt.scatter(best.tta_cross_99, 99, marker='X', s=60, c='r')\n",
    "plt.xlabel('Time (s)', fontsize=15)\n",
    "plt.ylabel('Accuracy (%)', fontsize=15)\n",
    "\n",
    "plt.savefig('./figures/gpu/best.png', dpi=300)\n"
   ]
  },
  {
   "cell_type": "code",
   "execution_count": 100,
   "metadata": {},
   "outputs": [
    {
     "data": {
      "text/plain": [
       "35.899966737"
      ]
     },
     "execution_count": 100,
     "metadata": {},
     "output_type": "execute_result"
    }
   ],
   "source": [
    "best.tta_cross_99"
   ]
  },
  {
   "cell_type": "code",
   "execution_count": 108,
   "metadata": {
    "pycharm": {
     "name": "#%%\n"
    }
   },
   "outputs": [
    {
     "data": {
      "image/png": "[encoded data removed]",
      "text/plain": [
       "<Figure size 1440x360 with 3 Axes>"
      ]
     },
     "metadata": {},
     "output_type": "display_data"
    }
   ],
   "source": [
    "f, ax = plt.subplots(1, 3, sharey=True, figsize=(20, 5))\n",
    "sns.barplot(x='batch_size', y='tta_cross_99', data=df, ax=ax[0])\n",
    "sns.barplot(x='k', y='tta_cross_99', data=df, ax=ax[1])\n",
    "sns.barplot(x='parallelism', y='tta_cross_99', data=df ,ax=ax[2])\n",
    "sns.despine()\n",
    "\n",
    "plt.savefig('./figures/gpu/tta_99.png', dpi=300)\n",
    "\n",
    "# sns.barplot(x='k', y='tta_99', data=df)"
   ]
  },
  {
   "cell_type": "markdown",
   "metadata": {},
   "source": [
    "## Do ANOVA Linear Model to calculate the influence of the parameters\n",
    "\n",
    "Using ANOVA we can get an idea of how the different parameters interact with each other and their influence"
   ]
  },
  {
   "cell_type": "code",
   "execution_count": 51,
   "metadata": {},
   "outputs": [],
   "source": [
    "# For the ANOVA test\n",
    "import researchpy as rp\n",
    "import statsmodels.api as sm\n",
    "from statsmodels.formula.api import ols"
   ]
  },
  {
   "cell_type": "code",
   "execution_count": 52,
   "metadata": {},
   "outputs": [],
   "source": [
    "def ANOVA(df: pd.DataFrame, y: str, use_all = False,verbose=False):\n",
    "    \"\"\"Run the ANOVA analysis with the batch, k and parallelism columns for the \n",
    "    given output variable\"\"\"\n",
    "    \n",
    "    # If use all is true we use all the variables to check either accuracy and time\n",
    "    # including also the iowait and the cpu to see what fully influences the stuff\n",
    "    \n",
    "    \n",
    "    if not use_all:\n",
    "        # Plot the summary dataframe\n",
    "        if verbose:\n",
    "            display(rp.summary_cont(df.groupby(['batch_size', 'k', 'parallelism']))[y])\n",
    "\n",
    "        model = ols(f'{y} ~ batch_size*k*parallelism', df).fit()\n",
    "        \n",
    "    else:\n",
    "        if y not in ['acc', 'time']:\n",
    "            raise ValueError('When use_all = True we predict either final_accuracy or time, not', y)\n",
    "        if verbose:\n",
    "            display(rp.summary_cont(df.groupby(['batch_size', 'k', 'parallelism']))[y])\n",
    "\n",
    "        model = ols(f'{y} ~ cpu*batch*njobs*cpu_mean*iowait_mean', df).fit()\n",
    "        \n",
    "\n",
    "    if verbose:\n",
    "        print(f\"Overall model F({model.df_model: .0f},{model.df_resid: .0f}) = {model.fvalue: .3f}, p = {model.f_pvalue: .4f}\")\n",
    "        display(model.summary())\n",
    "    \n",
    "    res = sm.stats.anova_lm(model, typ=2)\n",
    "    \n",
    "    return res, model"
   ]
  },
  {
   "cell_type": "code",
   "execution_count": 64,
   "metadata": {
    "scrolled": false
   },
   "outputs": [
    {
     "name": "stderr",
     "output_type": "stream",
     "text": [
      "c:\\users\\diego\\cs\\qpe\\venv\\lib\\site-packages\\scipy\\stats\\_distn_infrastructure.py:2023: RuntimeWarning: invalid value encountered in multiply\n",
      "  lower_bound = _a * scale + loc\n",
      "c:\\users\\diego\\cs\\qpe\\venv\\lib\\site-packages\\scipy\\stats\\_distn_infrastructure.py:2024: RuntimeWarning: invalid value encountered in multiply\n",
      "  upper_bound = _b * scale + loc\n"
     ]
    },
    {
     "name": "stdout",
     "output_type": "stream",
     "text": [
      "\n",
      "\n"
     ]
    },
    {
     "data": {
      "text/html": [
       "<div>\n",
       "<style scoped>\n",
       "    .dataframe tbody tr th:only-of-type {\n",
       "        vertical-align: middle;\n",
       "    }\n",
       "\n",
       "    .dataframe tbody tr th {\n",
       "        vertical-align: top;\n",
       "    }\n",
       "\n",
       "    .dataframe thead th {\n",
       "        text-align: right;\n",
       "    }\n",
       "</style>\n",
       "<table border=\"1\" class=\"dataframe\">\n",
       "  <thead>\n",
       "    <tr style=\"text-align: right;\">\n",
       "      <th></th>\n",
       "      <th></th>\n",
       "      <th></th>\n",
       "      <th>N</th>\n",
       "      <th>Mean</th>\n",
       "      <th>SD</th>\n",
       "      <th>SE</th>\n",
       "      <th>95% Conf.</th>\n",
       "      <th>Interval</th>\n",
       "    </tr>\n",
       "    <tr>\n",
       "      <th>batch_size</th>\n",
       "      <th>k</th>\n",
       "      <th>parallelism</th>\n",
       "      <th></th>\n",
       "      <th></th>\n",
       "      <th></th>\n",
       "      <th></th>\n",
       "      <th></th>\n",
       "      <th></th>\n",
       "    </tr>\n",
       "  </thead>\n",
       "  <tbody>\n",
       "    <tr>\n",
       "      <th rowspan=\"5\" valign=\"top\">16</th>\n",
       "      <th rowspan=\"4\" valign=\"top\">-1</th>\n",
       "      <th>1</th>\n",
       "      <td>2</td>\n",
       "      <td>430.5227</td>\n",
       "      <td>184.8758</td>\n",
       "      <td>130.7269</td>\n",
       "      <td>-1230.5202</td>\n",
       "      <td>2091.5656</td>\n",
       "    </tr>\n",
       "    <tr>\n",
       "      <th>2</th>\n",
       "      <td>3</td>\n",
       "      <td>73.2681</td>\n",
       "      <td>11.6722</td>\n",
       "      <td>6.7389</td>\n",
       "      <td>44.2728</td>\n",
       "      <td>102.2634</td>\n",
       "    </tr>\n",
       "    <tr>\n",
       "      <th>4</th>\n",
       "      <td>3</td>\n",
       "      <td>51.8494</td>\n",
       "      <td>10.0766</td>\n",
       "      <td>5.8177</td>\n",
       "      <td>26.8177</td>\n",
       "      <td>76.8811</td>\n",
       "    </tr>\n",
       "    <tr>\n",
       "      <th>8</th>\n",
       "      <td>3</td>\n",
       "      <td>31.1736</td>\n",
       "      <td>1.4511</td>\n",
       "      <td>0.8378</td>\n",
       "      <td>27.5688</td>\n",
       "      <td>34.7784</td>\n",
       "    </tr>\n",
       "    <tr>\n",
       "      <th>8</th>\n",
       "      <th>1</th>\n",
       "      <td>1</td>\n",
       "      <td>190.4946</td>\n",
       "      <td>NaN</td>\n",
       "      <td>NaN</td>\n",
       "      <td>NaN</td>\n",
       "      <td>NaN</td>\n",
       "    </tr>\n",
       "    <tr>\n",
       "      <th>...</th>\n",
       "      <th>...</th>\n",
       "      <th>...</th>\n",
       "      <td>...</td>\n",
       "      <td>...</td>\n",
       "      <td>...</td>\n",
       "      <td>...</td>\n",
       "      <td>...</td>\n",
       "      <td>...</td>\n",
       "    </tr>\n",
       "    <tr>\n",
       "      <th rowspan=\"5\" valign=\"top\">128</th>\n",
       "      <th>16</th>\n",
       "      <th>8</th>\n",
       "      <td>0</td>\n",
       "      <td>NaN</td>\n",
       "      <td>NaN</td>\n",
       "      <td>NaN</td>\n",
       "      <td>NaN</td>\n",
       "      <td>NaN</td>\n",
       "    </tr>\n",
       "    <tr>\n",
       "      <th rowspan=\"4\" valign=\"top\">32</th>\n",
       "      <th>1</th>\n",
       "      <td>0</td>\n",
       "      <td>NaN</td>\n",
       "      <td>NaN</td>\n",
       "      <td>NaN</td>\n",
       "      <td>NaN</td>\n",
       "      <td>NaN</td>\n",
       "    </tr>\n",
       "    <tr>\n",
       "      <th>2</th>\n",
       "      <td>0</td>\n",
       "      <td>NaN</td>\n",
       "      <td>NaN</td>\n",
       "      <td>NaN</td>\n",
       "      <td>NaN</td>\n",
       "      <td>NaN</td>\n",
       "    </tr>\n",
       "    <tr>\n",
       "      <th>4</th>\n",
       "      <td>0</td>\n",
       "      <td>NaN</td>\n",
       "      <td>NaN</td>\n",
       "      <td>NaN</td>\n",
       "      <td>NaN</td>\n",
       "      <td>NaN</td>\n",
       "    </tr>\n",
       "    <tr>\n",
       "      <th>8</th>\n",
       "      <td>0</td>\n",
       "      <td>NaN</td>\n",
       "      <td>NaN</td>\n",
       "      <td>NaN</td>\n",
       "      <td>NaN</td>\n",
       "      <td>NaN</td>\n",
       "    </tr>\n",
       "  </tbody>\n",
       "</table>\n",
       "<p>64 rows × 6 columns</p>\n",
       "</div>"
      ],
      "text/plain": [
       "                            N      Mean        SD        SE  95% Conf.  \\\n",
       "batch_size k   parallelism                                               \n",
       "16         -1  1            2  430.5227  184.8758  130.7269 -1230.5202   \n",
       "               2            3   73.2681   11.6722    6.7389    44.2728   \n",
       "               4            3   51.8494   10.0766    5.8177    26.8177   \n",
       "               8            3   31.1736    1.4511    0.8378    27.5688   \n",
       "            8  1            1  190.4946       NaN       NaN        NaN   \n",
       "...                        ..       ...       ...       ...        ...   \n",
       "128         16 8            0       NaN       NaN       NaN        NaN   \n",
       "            32 1            0       NaN       NaN       NaN        NaN   \n",
       "               2            0       NaN       NaN       NaN        NaN   \n",
       "               4            0       NaN       NaN       NaN        NaN   \n",
       "               8            0       NaN       NaN       NaN        NaN   \n",
       "\n",
       "                             Interval  \n",
       "batch_size k   parallelism             \n",
       "16         -1  1            2091.5656  \n",
       "               2             102.2634  \n",
       "               4              76.8811  \n",
       "               8              34.7784  \n",
       "            8  1                  NaN  \n",
       "...                               ...  \n",
       "128         16 8                  NaN  \n",
       "            32 1                  NaN  \n",
       "               2                  NaN  \n",
       "               4                  NaN  \n",
       "               8                  NaN  \n",
       "\n",
       "[64 rows x 6 columns]"
      ]
     },
     "metadata": {},
     "output_type": "display_data"
    },
    {
     "name": "stdout",
     "output_type": "stream",
     "text": [
      "Overall model F( 7, 67) =  4.773, p =  0.0002\n"
     ]
    },
    {
     "data": {
      "text/html": [
       "<table class=\"simpletable\">\n",
       "<caption>OLS Regression Results</caption>\n",
       "<tr>\n",
       "  <th>Dep. Variable:</th>         <td>tta_99</td>      <th>  R-squared:         </th> <td>   0.333</td>\n",
       "</tr>\n",
       "<tr>\n",
       "  <th>Model:</th>                   <td>OLS</td>       <th>  Adj. R-squared:    </th> <td>   0.263</td>\n",
       "</tr>\n",
       "<tr>\n",
       "  <th>Method:</th>             <td>Least Squares</td>  <th>  F-statistic:       </th> <td>   4.773</td>\n",
       "</tr>\n",
       "<tr>\n",
       "  <th>Date:</th>             <td>Thu, 15 Apr 2021</td> <th>  Prob (F-statistic):</th> <td>0.000213</td>\n",
       "</tr>\n",
       "<tr>\n",
       "  <th>Time:</th>                 <td>11:01:56</td>     <th>  Log-Likelihood:    </th> <td> -456.03</td>\n",
       "</tr>\n",
       "<tr>\n",
       "  <th>No. Observations:</th>      <td>    75</td>      <th>  AIC:               </th> <td>   928.1</td>\n",
       "</tr>\n",
       "<tr>\n",
       "  <th>Df Residuals:</th>          <td>    67</td>      <th>  BIC:               </th> <td>   946.6</td>\n",
       "</tr>\n",
       "<tr>\n",
       "  <th>Df Model:</th>              <td>     7</td>      <th>                     </th>     <td> </td>   \n",
       "</tr>\n",
       "<tr>\n",
       "  <th>Covariance Type:</th>      <td>nonrobust</td>    <th>                     </th>     <td> </td>   \n",
       "</tr>\n",
       "</table>\n",
       "<table class=\"simpletable\">\n",
       "<tr>\n",
       "              <td></td>                <th>coef</th>     <th>std err</th>      <th>t</th>      <th>P>|t|</th>  <th>[0.025</th>    <th>0.975]</th>  \n",
       "</tr>\n",
       "<tr>\n",
       "  <th>Intercept</th>                <td>  206.3957</td> <td>   57.217</td> <td>    3.607</td> <td> 0.001</td> <td>   92.191</td> <td>  320.601</td>\n",
       "</tr>\n",
       "<tr>\n",
       "  <th>batch_size</th>               <td>    0.7391</td> <td>    1.442</td> <td>    0.513</td> <td> 0.610</td> <td>   -2.139</td> <td>    3.617</td>\n",
       "</tr>\n",
       "<tr>\n",
       "  <th>k</th>                        <td>    6.2846</td> <td>    3.439</td> <td>    1.828</td> <td> 0.072</td> <td>   -0.579</td> <td>   13.148</td>\n",
       "</tr>\n",
       "<tr>\n",
       "  <th>batch_size:k</th>             <td>   -0.1840</td> <td>    0.106</td> <td>   -1.740</td> <td> 0.087</td> <td>   -0.395</td> <td>    0.027</td>\n",
       "</tr>\n",
       "<tr>\n",
       "  <th>parallelism</th>              <td>  -11.7483</td> <td>   18.329</td> <td>   -0.641</td> <td> 0.524</td> <td>  -48.332</td> <td>   24.836</td>\n",
       "</tr>\n",
       "<tr>\n",
       "  <th>batch_size:parallelism</th>   <td>   -0.6323</td> <td>    0.635</td> <td>   -0.996</td> <td> 0.323</td> <td>   -1.900</td> <td>    0.635</td>\n",
       "</tr>\n",
       "<tr>\n",
       "  <th>k:parallelism</th>            <td>   -1.3451</td> <td>    0.966</td> <td>   -1.393</td> <td> 0.168</td> <td>   -3.273</td> <td>    0.583</td>\n",
       "</tr>\n",
       "<tr>\n",
       "  <th>batch_size:k:parallelism</th> <td>    0.0487</td> <td>    0.035</td> <td>    1.376</td> <td> 0.173</td> <td>   -0.022</td> <td>    0.119</td>\n",
       "</tr>\n",
       "</table>\n",
       "<table class=\"simpletable\">\n",
       "<tr>\n",
       "  <th>Omnibus:</th>       <td>32.327</td> <th>  Durbin-Watson:     </th> <td>   1.669</td>\n",
       "</tr>\n",
       "<tr>\n",
       "  <th>Prob(Omnibus):</th> <td> 0.000</td> <th>  Jarque-Bera (JB):  </th> <td>  63.550</td>\n",
       "</tr>\n",
       "<tr>\n",
       "  <th>Skew:</th>          <td> 1.562</td> <th>  Prob(JB):          </th> <td>1.59e-14</td>\n",
       "</tr>\n",
       "<tr>\n",
       "  <th>Kurtosis:</th>      <td> 6.252</td> <th>  Cond. No.          </th> <td>1.00e+04</td>\n",
       "</tr>\n",
       "</table><br/><br/>Notes:<br/>[1] Standard Errors assume that the covariance matrix of the errors is correctly specified.<br/>[2] The condition number is large,  1e+04. This might indicate that there are<br/>strong multicollinearity or other numerical problems."
      ],
      "text/plain": [
       "<class 'statsmodels.iolib.summary.Summary'>\n",
       "\"\"\"\n",
       "                            OLS Regression Results                            \n",
       "==============================================================================\n",
       "Dep. Variable:                 tta_99   R-squared:                       0.333\n",
       "Model:                            OLS   Adj. R-squared:                  0.263\n",
       "Method:                 Least Squares   F-statistic:                     4.773\n",
       "Date:                Thu, 15 Apr 2021   Prob (F-statistic):           0.000213\n",
       "Time:                        11:01:56   Log-Likelihood:                -456.03\n",
       "No. Observations:                  75   AIC:                             928.1\n",
       "Df Residuals:                      67   BIC:                             946.6\n",
       "Df Model:                           7                                         \n",
       "Covariance Type:            nonrobust                                         \n",
       "============================================================================================\n",
       "                               coef    std err          t      P>|t|      [0.025      0.975]\n",
       "--------------------------------------------------------------------------------------------\n",
       "Intercept                  206.3957     57.217      3.607      0.001      92.191     320.601\n",
       "batch_size                   0.7391      1.442      0.513      0.610      -2.139       3.617\n",
       "k                            6.2846      3.439      1.828      0.072      -0.579      13.148\n",
       "batch_size:k                -0.1840      0.106     -1.740      0.087      -0.395       0.027\n",
       "parallelism                -11.7483     18.329     -0.641      0.524     -48.332      24.836\n",
       "batch_size:parallelism      -0.6323      0.635     -0.996      0.323      -1.900       0.635\n",
       "k:parallelism               -1.3451      0.966     -1.393      0.168      -3.273       0.583\n",
       "batch_size:k:parallelism     0.0487      0.035      1.376      0.173      -0.022       0.119\n",
       "==============================================================================\n",
       "Omnibus:                       32.327   Durbin-Watson:                   1.669\n",
       "Prob(Omnibus):                  0.000   Jarque-Bera (JB):               63.550\n",
       "Skew:                           1.562   Prob(JB):                     1.59e-14\n",
       "Kurtosis:                       6.252   Cond. No.                     1.00e+04\n",
       "==============================================================================\n",
       "\n",
       "Notes:\n",
       "[1] Standard Errors assume that the covariance matrix of the errors is correctly specified.\n",
       "[2] The condition number is large,  1e+04. This might indicate that there are\n",
       "strong multicollinearity or other numerical problems.\n",
       "\"\"\""
      ]
     },
     "metadata": {},
     "output_type": "display_data"
    },
    {
     "data": {
      "text/html": [
       "<div>\n",
       "<style scoped>\n",
       "    .dataframe tbody tr th:only-of-type {\n",
       "        vertical-align: middle;\n",
       "    }\n",
       "\n",
       "    .dataframe tbody tr th {\n",
       "        vertical-align: top;\n",
       "    }\n",
       "\n",
       "    .dataframe thead th {\n",
       "        text-align: right;\n",
       "    }\n",
       "</style>\n",
       "<table border=\"1\" class=\"dataframe\">\n",
       "  <thead>\n",
       "    <tr style=\"text-align: right;\">\n",
       "      <th></th>\n",
       "      <th>sum_sq</th>\n",
       "      <th>df</th>\n",
       "      <th>F</th>\n",
       "      <th>PR(&gt;F)</th>\n",
       "    </tr>\n",
       "  </thead>\n",
       "  <tbody>\n",
       "    <tr>\n",
       "      <th>batch_size</th>\n",
       "      <td>29705.250670</td>\n",
       "      <td>1.0</td>\n",
       "      <td>2.370853</td>\n",
       "      <td>1.283294e-01</td>\n",
       "    </tr>\n",
       "    <tr>\n",
       "      <th>k</th>\n",
       "      <td>9290.475151</td>\n",
       "      <td>1.0</td>\n",
       "      <td>0.741497</td>\n",
       "      <td>3.922530e-01</td>\n",
       "    </tr>\n",
       "    <tr>\n",
       "      <th>batch_size:k</th>\n",
       "      <td>14282.859994</td>\n",
       "      <td>1.0</td>\n",
       "      <td>1.139952</td>\n",
       "      <td>2.894945e-01</td>\n",
       "    </tr>\n",
       "    <tr>\n",
       "      <th>parallelism</th>\n",
       "      <td>383125.921724</td>\n",
       "      <td>1.0</td>\n",
       "      <td>30.578271</td>\n",
       "      <td>5.709075e-07</td>\n",
       "    </tr>\n",
       "    <tr>\n",
       "      <th>batch_size:parallelism</th>\n",
       "      <td>206.350605</td>\n",
       "      <td>1.0</td>\n",
       "      <td>0.016469</td>\n",
       "      <td>8.982698e-01</td>\n",
       "    </tr>\n",
       "    <tr>\n",
       "      <th>k:parallelism</th>\n",
       "      <td>1251.611859</td>\n",
       "      <td>1.0</td>\n",
       "      <td>0.099894</td>\n",
       "      <td>7.529389e-01</td>\n",
       "    </tr>\n",
       "    <tr>\n",
       "      <th>batch_size:k:parallelism</th>\n",
       "      <td>23719.063192</td>\n",
       "      <td>1.0</td>\n",
       "      <td>1.893080</td>\n",
       "      <td>1.734370e-01</td>\n",
       "    </tr>\n",
       "    <tr>\n",
       "      <th>Residual</th>\n",
       "      <td>839466.597590</td>\n",
       "      <td>67.0</td>\n",
       "      <td>NaN</td>\n",
       "      <td>NaN</td>\n",
       "    </tr>\n",
       "  </tbody>\n",
       "</table>\n",
       "</div>"
      ],
      "text/plain": [
       "                                 sum_sq    df          F        PR(>F)\n",
       "batch_size                 29705.250670   1.0   2.370853  1.283294e-01\n",
       "k                           9290.475151   1.0   0.741497  3.922530e-01\n",
       "batch_size:k               14282.859994   1.0   1.139952  2.894945e-01\n",
       "parallelism               383125.921724   1.0  30.578271  5.709075e-07\n",
       "batch_size:parallelism       206.350605   1.0   0.016469  8.982698e-01\n",
       "k:parallelism               1251.611859   1.0   0.099894  7.529389e-01\n",
       "batch_size:k:parallelism   23719.063192   1.0   1.893080  1.734370e-01\n",
       "Residual                  839466.597590  67.0        NaN           NaN"
      ]
     },
     "execution_count": 64,
     "metadata": {},
     "output_type": "execute_result"
    }
   ],
   "source": [
    "# df.k = df.k.map(lambda val: -1 if val == float('inf') else val)\n",
    "\n",
    "res, model = ANOVA(df, y='tta_99', verbose=True)\n",
    "\n",
    "res"
   ]
  },
  {
   "cell_type": "markdown",
   "metadata": {},
   "source": [
    "### Plot the distributions of time and accuracy as a function of K, Batch and parallelism"
   ]
  },
  {
   "cell_type": "markdown",
   "metadata": {
    "pycharm": {
     "name": "#%% md\n"
    }
   },
   "source": [
    "#### Plot the accuracy as a factor"
   ]
  },
  {
   "cell_type": "code",
   "execution_count": 97,
   "metadata": {
    "pycharm": {
     "name": "#%%\n"
    }
   },
   "outputs": [
    {
     "data": {
      "image/png": "[encoded data removed]",
      "text/plain": [
       "<Figure size 1440x360 with 3 Axes>"
      ]
     },
     "metadata": {},
     "output_type": "display_data"
    }
   ],
   "source": [
    "plt.rc('font', size=16)\n",
    "\n",
    "f, ax = plt.subplots(1, 3, sharey=True, figsize=(20, 5))\n",
    "sns.barplot(x='batch_size', y='acc', hue='k', data=df, ax=ax[0], capsize=.05)\n",
    "sns.barplot(x='k', y='acc', data=df, ax=ax[1], capsize=.05, hue='parallelism')\n",
    "sns.barplot(x='parallelism', y='acc', data=df, hue='k' ,ax=ax[2] ,capsize=.05)\n",
    "sns.despine()\n",
    "plt.legend(title='k', ncol=4, bbox_to_anchor=(0.075,1))\n",
    "\n",
    "for a in ax:\n",
    "    a.set_ylim([75, 100])\n",
    "\n",
    "\n",
    "\n",
    "# plt.savefig('./figures/resnet34/accuracy.png', dpi=300)"
   ]
  },
  {
   "cell_type": "code",
   "execution_count": 98,
   "metadata": {
    "scrolled": false
   },
   "outputs": [
    {
     "data": {
      "text/plain": [
       "<AxesSubplot:xlabel='parallelism', ylabel='tta_cross_99'>"
      ]
     },
     "execution_count": 98,
     "metadata": {},
     "output_type": "execute_result"
    },
    {
     "data": {
      "image/png": "[encoded data removed]",
      "text/plain": [
       "<Figure size 1080x720 with 1 Axes>"
      ]
     },
     "metadata": {},
     "output_type": "display_data"
    }
   ],
   "source": [
    "plt.rc('font', size=16)\n",
    "plt.figure(figsize=(15,10))\n",
    "sns.barplot(x='parallelism', y='tta_cross_99', data=df, capsize=.02, hue='batch_size')\n",
    "\n",
    "\n",
    "# plt.savefig('./figures/resnet34/acc_per_k_and_parallelism.png', dpi=300)"
   ]
  },
  {
   "cell_type": "markdown",
   "metadata": {
    "pycharm": {
     "name": "#%% md\n"
    }
   },
   "source": [
    "#### Plot the time as a factor"
   ]
  },
  {
   "cell_type": "code",
   "execution_count": 99,
   "metadata": {
    "pycharm": {
     "name": "#%%\n"
    }
   },
   "outputs": [
    {
     "data": {
      "text/plain": [
       "<AxesSubplot:xlabel='parallelism', ylabel='time'>"
      ]
     },
     "execution_count": 99,
     "metadata": {},
     "output_type": "execute_result"
    },
    {
     "data": {
      "image/png": "[encoded data removed]",
      "text/plain": [
       "<Figure size 1440x360 with 3 Axes>"
      ]
     },
     "metadata": {},
     "output_type": "display_data"
    }
   ],
   "source": [
    "f, ax = plt.subplots(1, 3, sharey=True, figsize=(20, 5))\n",
    "sns.barplot(x='batch_size', y='time', hue='k', data=df, ax=ax[0])\n",
    "sns.barplot(x='k', y='time', data=df, ax=ax[1])\n",
    "sns.barplot(x='parallelism', y='time', data=df, ax=ax[2], hue='k')\n",
    "\n",
    "# plt.savefig('./figures/resnet34/time.png', dpi=300)"
   ]
  },
  {
   "cell_type": "markdown",
   "metadata": {},
   "source": [
    "plt.rc('font', size=16)\n",
    "f, ax = plt.subplots(1, 3, figsize=(20,8), sharey=True)\n",
    "sns.barplot(x='k', y='time', data=df.loc[df.batch_size==32], capsize=.05, hue='parallelism', ax=ax[0])\n",
    "sns.barplot(x='k', y='time', data=df.loc[df.batch_size==64], capsize=.05, hue='parallelism', ax=ax[1])\n",
    "sns.barplot(x='k', y='time', data=df.loc[df.batch_size==128], capsize=.05, hue='parallelism', ax=ax[2])\n",
    "\n",
    "plt.savefig('./figures/resnet34/time_per_all.png', dpi=300)"
   ]
  },
  {
   "cell_type": "code",
   "execution_count": null,
   "metadata": {
    "pycharm": {
     "name": "#%%\n"
    },
    "scrolled": true
   },
   "outputs": [],
   "source": [
    "# Plot the validation lines of k=-1 and batch = 32 with different parallelism\n",
    "def plot_loss_with_k_and_batch(k: int, batch:int, ax: plt.Axes = None):\n",
    "    d = df.loc[(df.k==k) & (df.batch_size==batch)].sort_values(by='parallelism', ascending=False)\n",
    "\n",
    "    plt.rc('font', size=13)\n",
    "    if ax is None:\n",
    "        f = plt.figure(figsize=(10, 5))\n",
    "        for _, row in d.iterrows():\n",
    "#             print(row.accuracy)\n",
    "            plt.plot(range(1,6), row.accuracy[:-1] if len(row.accuracy) == 6 else row.accuracy, label=str(row.parallelism))\n",
    "        plt.xlabel('Epoch')\n",
    "        plt.ylabel('Accuracy (%)')\n",
    "        plt.title(f'Accuracy evolution with LeNet (batch={batch}, k={k})')\n",
    "        plt.legend(title='parallelism', bbox_to_anchor=(1.05, 0.8))\n",
    "        \n",
    "    else:\n",
    "        for _, row in d.iterrows():\n",
    "#             print(row.accuracy)\n",
    "            ax.plot(range(1,6), row.accuracy[:-1] if len(row.accuracy) == 6 else row.accuracy, label=str(row.parallelism))\n",
    "        ax.set_xlabel('Epoch')\n",
    "        ax.set_ylabel('Accuracy (%)')\n",
    "        ax.set_title(f'Batch={batch}, k={k}')\n",
    "        ax.legend(title='parallelism')\n",
    "        \n",
    "\n",
    "f, axes = plt.subplots(nrows=3, ncols=3, figsize=(20, 15), sharex=True)\n",
    "\n",
    "plt.suptitle('Behavior of K, Parallelism and Batch in Accuracy')\n",
    "\n",
    "plot_loss_with_k_and_batch(k=8, batch=32, ax=axes[0][0])\n",
    "plot_loss_with_k_and_batch(k=16, batch=32, ax=axes[0][1])   \n",
    "plot_loss_with_k_and_batch(k=64, batch=32, ax=axes[0][2])\n",
    "    \n",
    "plot_loss_with_k_and_batch(k=8, batch=64, ax=axes[1][0])\n",
    "plot_loss_with_k_and_batch(k=16, batch=64, ax=axes[1][1])   \n",
    "plot_loss_with_k_and_batch(k=64, batch=64, ax=axes[1][2])\n",
    "\n",
    "plot_loss_with_k_and_batch(k=8, batch=128, ax=axes[2][0])\n",
    "plot_loss_with_k_and_batch(k=16, batch=128, ax=axes[2][1])   \n",
    "plot_loss_with_k_and_batch(k=64, batch=128, ax=axes[2][2])\n",
    "\n",
    "\n",
    "# plt.savefig('./figures/accuracy_study.png', dpi=300)\n"
   ]
  },
  {
   "cell_type": "markdown",
   "metadata": {},
   "source": [
    "#### Keep Parallelism and batch set, vary K"
   ]
  },
  {
   "cell_type": "markdown",
   "metadata": {
    "pycharm": {
     "name": "#%% md\n"
    }
   },
   "source": [
    "#### Keep K and Batch set, vary parallelism"
   ]
  },
  {
   "cell_type": "code",
   "execution_count": null,
   "metadata": {
    "pycharm": {
     "name": "#%%\n"
    }
   },
   "outputs": [],
   "source": [
    "# Plot the validation lines of k=-1 and batch = 32 with different parallelism\n",
    "def plot_loss_with_k_and_batch(k: int, batch:int, ax: plt.Axes = None):\n",
    "    d = df.loc[(df.k==k) & (df.batch_size==batch)].sort_values(by='parallelism', ascending=False)\n",
    "\n",
    "    plt.rc('font', size=13)\n",
    "    if ax is None:\n",
    "        f = plt.figure(figsize=(10, 5))\n",
    "        for _, row in d.iterrows():\n",
    "#             print(row.accuracy)\n",
    "            plt.plot(range(1,6), row.accuracy[:-1] if len(row.accuracy) == 6 else row.accuracy, label=str(row.parallelism))\n",
    "        plt.xlabel('Epoch')\n",
    "        plt.ylabel('Accuracy (%)')\n",
    "        plt.title(f'Accuracy evolution with LeNet (batch={batch}, k={k})')\n",
    "        plt.legend(title='parallelism', bbox_to_anchor=(1.05, 0.8))\n",
    "        \n",
    "    else:\n",
    "        for _, row in d.iterrows():\n",
    "#             print(row.accuracy)\n",
    "            ax.plot(range(1,6), row.accuracy[:-1] if len(row.accuracy) == 6 else row.accuracy, label=str(row.parallelism))\n",
    "        ax.set_xlabel('Epoch')\n",
    "        ax.set_ylabel('Accuracy (%)')\n",
    "        ax.set_title(f'Batch={batch}, k={k}')\n",
    "        ax.legend(title='parallelism')\n",
    "        \n",
    "\n",
    "f, axes = plt.subplots(nrows=3, ncols=3, figsize=(20, 15), sharex=True)\n",
    "\n",
    "plt.suptitle('Behavior of K, Parallelism and Batch in Accuracy')\n",
    "\n",
    "plot_loss_with_k_and_batch(k=8, batch=32, ax=axes[0][0])\n",
    "plot_loss_with_k_and_batch(k=16, batch=32, ax=axes[0][1])   \n",
    "plot_loss_with_k_and_batch(k=64, batch=32, ax=axes[0][2])\n",
    "    \n",
    "plot_loss_with_k_and_batch(k=8, batch=64, ax=axes[1][0])\n",
    "plot_loss_with_k_and_batch(k=16, batch=64, ax=axes[1][1])   \n",
    "plot_loss_with_k_and_batch(k=64, batch=64, ax=axes[1][2])\n",
    "\n",
    "plot_loss_with_k_and_batch(k=8, batch=128, ax=axes[2][0])\n",
    "plot_loss_with_k_and_batch(k=16, batch=128, ax=axes[2][1])   \n",
    "plot_loss_with_k_and_batch(k=64, batch=128, ax=axes[2][2])\n",
    "\n",
    "\n",
    "# plt.savefig('./figures/accuracy_study.png', dpi=300)\n"
   ]
  },
  {
   "cell_type": "markdown",
   "metadata": {
    "pycharm": {
     "name": "#%% md\n"
    }
   },
   "source": [
    "#### Keep Parallelism and batch set, vary K"
   ]
  },
  {
   "cell_type": "code",
   "execution_count": null,
   "metadata": {},
   "outputs": [],
   "source": [
    "# Plot the validation lines of k=-1 and batch = 32 with different parallelism\n",
    "def plot_loss_with_parallelism_and_batch(p: int, batch:int, ax: plt.Axes = None):\n",
    "    d = df.loc[(df.parallelism==p) & (df.batch_size==batch)].sort_values(by='k', ascending=False)\n",
    "    \n",
    "    approx_k = (60000/p)/batch\n",
    "\n",
    "    plt.rc('font', size=16)\n",
    "    if ax is None:\n",
    "        f = plt.figure(figsize=(10, 5))\n",
    "        for _, row in d.iterrows():\n",
    "#             print(row.accuracy)\n",
    "            plt.plot(range(1,6), row.accuracy[:-1] if len(row.accuracy) == 6 else row.accuracy, label=str(row.k))\n",
    "        plt.xlabel('Epoch')\n",
    "        plt.ylabel('Accuracy (%)')\n",
    "        plt.title(f'Accuracy evolution with LeNet (batch={batch}, k={k})')\n",
    "        plt.legend(title='parallelism', bbox_to_anchor=(1.05, 0.8))\n",
    "        \n",
    "    else:\n",
    "        for _, row in d.iterrows():\n",
    "            label = str(row.k) if row.k != float('inf') else f'{row.k} ({int(approx_k)})'\n",
    "            ax.plot(range(1,6), row.accuracy[:-1] if len(row.accuracy) == 6 else row.accuracy, label=label)\n",
    "        ax.set_xlabel('Epoch')\n",
    "        ax.set_ylabel('Accuracy (%)')\n",
    "        ax.set_title(f'Batch={batch}, Parallelism={p}')\n",
    "        ax.legend(title='k')\n",
    "        \n",
    "\n",
    "f, axes = plt.subplots(nrows=3, ncols=3, figsize=(30, 20), sharex=True)\n",
    "\n",
    "plt.suptitle('Behavior of K, Parallelism and Batch in Accuracy')\n",
    "\n",
    "plot_loss_with_parallelism_and_batch(p=2, batch=32, ax=axes[0][0])\n",
    "plot_loss_with_parallelism_and_batch(p=4, batch=32, ax=axes[0][1])   \n",
    "plot_loss_with_parallelism_and_batch(p=8, batch=32, ax=axes[0][2])\n",
    "\n",
    "plot_loss_with_parallelism_and_batch(p=2, batch=64, ax=axes[1][0])\n",
    "plot_loss_with_parallelism_and_batch(p=4, batch=64, ax=axes[1][1])   \n",
    "plot_loss_with_parallelism_and_batch(p=8, batch=64, ax=axes[1][2])\n",
    "\n",
    "plot_loss_with_parallelism_and_batch(p=2, batch=128, ax=axes[2][0])\n",
    "plot_loss_with_parallelism_and_batch(p=4, batch=128, ax=axes[2][1])   \n",
    "plot_loss_with_parallelism_and_batch(p=8, batch=128, ax=axes[2][2])\n",
    "\n",
    "\n",
    "plt.savefig('./figures/accuracy_study_varying_k.png', dpi=300)"
   ]
  },
  {
   "cell_type": "markdown",
   "metadata": {
    "pycharm": {
     "name": "#%% md\n"
    }
   },
   "source": [
    "#### Plot 3d dependencies between K and parallelism on time and accuracy"
   ]
  },
  {
   "cell_type": "code",
   "execution_count": null,
   "metadata": {
    "pycharm": {
     "name": "#%%\n"
    }
   },
   "outputs": [],
   "source": [
    "# f, ax = plt.subplots(1, 2, projection='3d')\n",
    "\n",
    "f = plt.figure()\n",
    "ax = f.add_subplot(1, 2, 1, projection='3d')\n",
    "\n",
    "from scipy.interpolate import griddata\n",
    "X, Y = np.meshgrid(df.k.map(lambda v: 500 if v == float('inf') else v), df.parallelism)\n",
    "Z = griddata((df.k.map(lambda v: 500 if v == float('inf') else v),\n",
    "              df.parallelism),\n",
    "              df.acc, (X, Y), method='cubic')\n",
    "\n",
    "ax.plot_surface(X, Y, Z, rstride=1, cstride=1, cmap='coolwarm',\n",
    "                       linewidth=0, antialiased=False)\n"
   ]
  },
  {
   "cell_type": "code",
   "execution_count": null,
   "metadata": {
    "pycharm": {
     "name": "#%%\n"
    }
   },
   "outputs": [],
   "source": [
    "d = df.loc[df.batch==64]"
   ]
  }
 ],
 "metadata": {
  "kernelspec": {
   "display_name": "Python 3",
   "language": "python",
   "name": "python3"
  },
  "language_info": {
   "codemirror_mode": {
    "name": "ipython",
    "version": 3
   },
   "file_extension": ".py",
   "mimetype": "text/x-python",
   "name": "python",
   "nbconvert_exporter": "python",
   "pygments_lexer": "ipython3",
   "version": "3.6.8"
  }
 },
 "nbformat": 4,
 "nbformat_minor": 1
}
