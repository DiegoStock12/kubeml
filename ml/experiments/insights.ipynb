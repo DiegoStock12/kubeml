{
 "cells": [
  {
   "cell_type": "markdown",
   "metadata": {
    "collapsed": true,
    "pycharm": {
     "name": "#%% md\n"
    }
   },
   "source": [
    "# Gather insights from the experiments run on GCP"
   ]
  },
  {
   "cell_type": "code",
   "execution_count": 1,
   "metadata": {
    "pycharm": {
     "name": "#%%\n"
    }
   },
   "outputs": [],
   "source": [
    "import numpy as np\n",
    "import pandas as pd\n",
    "import seaborn as sns\n",
    "import matplotlib.pyplot as plt\n",
    "\n",
    "from common.utils import check_missing_experiments, join_df\n",
    "from common.metrics import *"
   ]
  },
  {
   "cell_type": "markdown",
   "metadata": {},
   "source": [
    "## Define the TTA Formula "
   ]
  },
  {
   "cell_type": "code",
   "execution_count": 2,
   "metadata": {
    "pycharm": {
     "name": "#%%\n"
    }
   },
   "outputs": [],
   "source": [
    "# Calculate time to accuracy for different accuracies\n",
    "def tta_crossbow(acc:int, df: pd.DataFrame, acc_column='accuracy', time_column='epoch_duration'):\n",
    "    \"\"\"Computes the tta as in the crossbow paper\n",
    "    where the tta is the median of the last 5 epochs\"\"\"\n",
    "\n",
    "    res = []\n",
    "    for _, row in df.iterrows():\n",
    "        done = False\n",
    "        dur, accuracy = row[time_column], row[acc_column]\n",
    "        \n",
    "        for idx, (t, a) in enumerate(zip(dur, accuracy[:len(dur)])):\n",
    "            \n",
    "            # if there are less than 5 elements behind, continue\n",
    "            if idx < 4:\n",
    "                continue\n",
    "                \n",
    "            # calculate the median of the next five elements\n",
    "            if np.median(accuracy[idx - 4:idx+1]) >= acc:\n",
    "                res.append(t)\n",
    "                done = True\n",
    "                break\n",
    "\n",
    "        if not done:\n",
    "            res.append(np.nan)\n",
    "\n",
    "    return res\n",
    "\n",
    "\n",
    "def tta(acc:int, df:pd.DataFrame,  acc_column='accuracy', time_column='epoch_duration'):\n",
    "    \n",
    "    \n",
    "    res = []\n",
    "    for _, row in df.iterrows():\n",
    "        done=False\n",
    "        dur, accuracy = row[time_column], row[acc_column]\n",
    "        \n",
    "        for idx, (t, a) in enumerate(zip(dur, accuracy[:len(dur)])):\n",
    "         \n",
    "            if a >= acc:\n",
    "                res.append(t)\n",
    "                done = True\n",
    "                break\n",
    "\n",
    "        if not done:\n",
    "            res.append(np.nan)\n",
    "\n",
    "    return res\n",
    "        "
   ]
  },
  {
   "cell_type": "markdown",
   "metadata": {},
   "source": [
    "# KubeML Experiments\n",
    "\n",
    "How to treat the kubeml experiments"
   ]
  },
  {
   "cell_type": "markdown",
   "metadata": {},
   "source": [
    "### Load the train results"
   ]
  },
  {
   "cell_type": "code",
   "execution_count": 96,
   "metadata": {},
   "outputs": [],
   "source": [
    "df = join_df('./results/lenet/train')"
   ]
  },
  {
   "cell_type": "code",
   "execution_count": null,
   "metadata": {},
   "outputs": [],
   "source": [
    "# get duplicated rows\n",
    "df[df.duplicated(['hash'], keep=False)]"
   ]
  },
  {
   "cell_type": "markdown",
   "metadata": {},
   "source": [
    "Define the extra variables"
   ]
  },
  {
   "cell_type": "code",
   "execution_count": 97,
   "metadata": {
    "pycharm": {
     "name": "#%%\n"
    }
   },
   "outputs": [],
   "source": [
    "# Set the acc to the final accuracy\n",
    "df['acc'] = df.accuracy.map(lambda a: a[-1])\n",
    "\n",
    "# Set the time to the sum of the epoch durations\n",
    "df['time'] = df.epoch_duration.map(lambda t: t[-1])\n",
    "\n",
    "# Set the parallelism to the first since it is constant\n",
    "df.parallelism = df.parallelism.map(lambda l:l[0])\n",
    "\n",
    "# change -1 to inf so the order is right in the plot\n",
    "df.k = df.k.map(lambda val: float('inf') if val == -1 else val)\n",
    "\n",
    "df['global_batch'] = df.batch_size * df.parallelism\n",
    "\n",
    "\n"
   ]
  },
  {
   "cell_type": "code",
   "execution_count": 98,
   "metadata": {},
   "outputs": [],
   "source": [
    "# compute the ttas\n",
    "df['tta_99'] = tta(99, df)\n",
    "df['tta_cross_99'] = tta_crossbow(99, df)"
   ]
  },
  {
   "cell_type": "markdown",
   "metadata": {},
   "source": [
    "### For the metrics in the lenet\n",
    "\n",
    "The first replication does not have the proper format, so we need to reformat it and combine it with the train results"
   ]
  },
  {
   "cell_type": "code",
   "execution_count": 99,
   "metadata": {},
   "outputs": [],
   "source": [
    "metrics1 = join_df('./results/lenet/metrics/1/')\n",
    "metrics2 = join_df('./results/lenet/metrics/2/')\n",
    "metrics3 = join_df('./results/lenet/metrics/3/')\n",
    "\n",
    "cpu = metrics1.groupby('exp_name')['cpu'].apply(list)\n",
    "mem = metrics1.groupby('exp_name')['mem'].apply(list)\n",
    "exps = metrics1.groupby('exp_name')['exp_name']\n",
    "\n",
    "metrics1 = pd.DataFrame({\n",
    "    'cpu':cpu,\n",
    "    'mem':mem\n",
    "})\n",
    "metrics1['exp_name'] = metrics1.index\n",
    "\n",
    "# concat all metrics and rename the exp_name as in the train\n",
    "m = pd.concat([metrics1, metrics2, metrics3], ignore_index=True)\n",
    "m.rename(columns={'exp_name':'id'}, inplace=True)\n"
   ]
  },
  {
   "cell_type": "markdown",
   "metadata": {},
   "source": [
    "Now we need to add extra summary columns to the metrics"
   ]
  },
  {
   "cell_type": "code",
   "execution_count": 100,
   "metadata": {},
   "outputs": [],
   "source": [
    "# functions to compute the mean of each and add columns\n",
    "m['mem'] = m['mem'].map(lambda l: l[0] if isinstance(l[0], list) else l)\n",
    "m['cpu'] = m['cpu'].map(lambda l: l[0] if isinstance(l[0], list) else l)\n",
    "\n",
    "# cpu util\n",
    "m['cpu_mean'] = m['cpu'].map(lambda l: np.mean([s.percent for s in l]))\n",
    "\n",
    "# gpu mean mem and util\n",
    "m['gpu_0_mean_usage'] = m['gpu_0'].map(lambda l: np.mean([s.load for s in l if s.mem_used != 0]) if not isinstance(l, float) else l)\n",
    "m['gpu_1_mean_usage'] = m['gpu_1'].map(lambda l: np.mean([s.load for s in l if s.mem_used !=0]) if not isinstance(l, float) else l)\n",
    "m['gpu_0_mean_memory'] = m['gpu_0'].map(lambda l: np.mean([s.mem_used for s in l if s.mem_used != 0])if not isinstance(l, float) else l)\n",
    "m['gpu_1_mean_memory'] = m['gpu_1'].map(lambda l: np.mean([s.mem_used for s in l if s.mem_used != 0])if not isinstance(l, float) else l)\n",
    "m['gpu_usage'] = (m['gpu_0_mean_usage'] + m['gpu_1_mean_usage']) /2\n",
    "\n",
    "# memory mean util\n",
    "m['mem_mean'] = m['mem'].map(lambda l: np.mean([s.percent for s in l]))"
   ]
  },
  {
   "cell_type": "markdown",
   "metadata": {},
   "source": [
    "#### Combine and Save the whole experiment"
   ]
  },
  {
   "cell_type": "code",
   "execution_count": 101,
   "metadata": {},
   "outputs": [],
   "source": [
    "d = df.merge(m, on='id')\n",
    "d.to_pickle('./dataframes/lenet_kubeml.pkl')"
   ]
  },
  {
   "cell_type": "markdown",
   "metadata": {},
   "source": [
    "# TensorFlow Experiments\n",
    "\n",
    "How to treat the TF experiments"
   ]
  },
  {
   "cell_type": "code",
   "execution_count": 37,
   "metadata": {},
   "outputs": [],
   "source": [
    "df = join_df('./results/tf/lenet/train/1/', './results/tf/lenet/train/2', './results/tf/lenet/train/3')\n",
    "\n",
    "# Set the acc to the final accuracy\n",
    "df['acc'] = df.val_accuracy.map(lambda a: a[-1])\n",
    "\n",
    "# Set the time to the sum of the epoch durations\n",
    "df['time'] = df.times.map(lambda t: t[-1])\n",
    "\n"
   ]
  },
  {
   "cell_type": "code",
   "execution_count": 91,
   "metadata": {},
   "outputs": [],
   "source": [
    "# Define the TTA\n",
    "df['tta_69'] = tta(0.69, df, time_column='times', acc_column='val_accuracy')\n",
    "df['tta_cross_69'] = tta_crossbow(0.69, df, time_column='times', acc_column='val_accuracy')"
   ]
  },
  {
   "cell_type": "markdown",
   "metadata": {},
   "source": [
    "## Merge the metrics from different  folders\n"
   ]
  },
  {
   "cell_type": "code",
   "execution_count": 38,
   "metadata": {
    "scrolled": false
   },
   "outputs": [],
   "source": [
    "m = join_df('./results/tf/lenet/metrics/1/', './results/tf/lenet/metrics/2', './results/tf/lenet/metrics/3')"
   ]
  },
  {
   "cell_type": "code",
   "execution_count": 39,
   "metadata": {},
   "outputs": [],
   "source": [
    "# functions to compute the mean of each and add columns\n",
    "m['mem'] = m['mem'].map(lambda l: l[0] if isinstance(l[0], list) else l)\n",
    "m['cpu'] = m['cpu'].map(lambda l: l[0] if isinstance(l[0], list) else l)\n",
    "\n",
    "# cpu util\n",
    "m['cpu_mean'] = m['cpu'].map(lambda l: np.mean([s.percent for s in l]))\n",
    "\n",
    "# gpu mean mem and util\n",
    "m['gpu_0_mean_usage'] = m['gpu_0'].map(lambda l: np.mean([s.load for s in l if s.mem_used != 0]) if not isinstance(l, float) else l)\n",
    "m['gpu_1_mean_usage'] = m['gpu_1'].map(lambda l: np.mean([s.load for s in l if s.mem_used !=0]) if not isinstance(l, float) else l)\n",
    "m['gpu_0_mean_memory'] = m['gpu_0'].map(lambda l: np.mean([s.mem_used for s in l if s.mem_used != 0])if not isinstance(l, float) else l)\n",
    "m['gpu_1_mean_memory'] = m['gpu_1'].map(lambda l: np.mean([s.mem_used for s in l if s.mem_used != 0])if not isinstance(l, float) else l)\n",
    "m['gpu_usage'] = (m['gpu_0_mean_usage'] + m['gpu_1_mean_usage']) /2\n",
    "\n",
    "# memory mean util\n",
    "m['mem_mean'] = m['mem'].map(lambda l: np.mean([s.percent for s in l]))"
   ]
  },
  {
   "cell_type": "markdown",
   "metadata": {},
   "source": [
    "Join on the index"
   ]
  },
  {
   "cell_type": "code",
   "execution_count": 40,
   "metadata": {},
   "outputs": [],
   "source": [
    "df = df.join(m)"
   ]
  },
  {
   "cell_type": "markdown",
   "metadata": {},
   "source": [
    "Save the experiments"
   ]
  },
  {
   "cell_type": "code",
   "execution_count": 95,
   "metadata": {},
   "outputs": [],
   "source": [
    "df.to_pickle('./dataframes/lenet_kubeml.pkl')"
   ]
  },
  {
   "cell_type": "markdown",
   "metadata": {},
   "source": [
    "# Visualization of Results\n"
   ]
  },
  {
   "cell_type": "markdown",
   "metadata": {},
   "source": [
    "Set the color palette"
   ]
  },
  {
   "cell_type": "code",
   "execution_count": 8,
   "metadata": {},
   "outputs": [
    {
     "data": {
      "image/png": "[encoded data removed]",
      "text/plain": [
       "<Figure size 360x72 with 1 Axes>"
      ]
     },
     "metadata": {
      "needs_background": "light"
     },
     "output_type": "display_data"
    }
   ],
   "source": [
    "green_red_palette = ['#264653', '#2A9D8F', '#E9C46A', '#F4A261', '#E76F51']\n",
    "blue_yellow_palette=  ['#0077b6', '#d62828', '#f77f00', '#fcbf49', '#eae2b7']\n",
    "cool_p = ['#f87575', '#ffa9a3', '#b9e6ff', '#5c95ff', '#7e6c6c']\n",
    "wall_p = ['#e63946', '#f1faee', '#a8dadc', '#457b9d', '#1d3557']\n",
    "\n",
    "sns.palplot(sns.color_palette(blue_yellow_palette))\n",
    "\n",
    "\n",
    "sns.set_theme(style='whitegrid', palette=blue_yellow_palette, )\n",
    "# sns.set_palette(blue_yellow_palette)"
   ]
  },
  {
   "cell_type": "markdown",
   "metadata": {
    "pycharm": {
     "name": "#%% md\n"
    }
   },
   "source": [
    "# Read the experiments file"
   ]
  },
  {
   "cell_type": "code",
   "execution_count": 119,
   "metadata": {
    "pycharm": {
     "name": "#%%\n"
    },
    "scrolled": true
   },
   "outputs": [
    {
     "data": {
      "text/html": [
       "<div>\n",
       "<style scoped>\n",
       "    .dataframe tbody tr th:only-of-type {\n",
       "        vertical-align: middle;\n",
       "    }\n",
       "\n",
       "    .dataframe tbody tr th {\n",
       "        vertical-align: top;\n",
       "    }\n",
       "\n",
       "    .dataframe thead th {\n",
       "        text-align: right;\n",
       "    }\n",
       "</style>\n",
       "<table border=\"1\" class=\"dataframe\">\n",
       "  <thead>\n",
       "    <tr style=\"text-align: right;\">\n",
       "      <th></th>\n",
       "      <th>model</th>\n",
       "      <th>hash</th>\n",
       "      <th>batch_size</th>\n",
       "      <th>epochs</th>\n",
       "      <th>accuracy</th>\n",
       "      <th>loss</th>\n",
       "      <th>val_accuracy</th>\n",
       "      <th>val_loss</th>\n",
       "      <th>times</th>\n",
       "      <th>acc</th>\n",
       "      <th>...</th>\n",
       "      <th>mem</th>\n",
       "      <th>gpu_0</th>\n",
       "      <th>gpu_1</th>\n",
       "      <th>cpu_mean</th>\n",
       "      <th>gpu_0_mean_usage</th>\n",
       "      <th>gpu_1_mean_usage</th>\n",
       "      <th>gpu_0_mean_memory</th>\n",
       "      <th>gpu_1_mean_memory</th>\n",
       "      <th>gpu_usage</th>\n",
       "      <th>mem_mean</th>\n",
       "    </tr>\n",
       "  </thead>\n",
       "  <tbody>\n",
       "    <tr>\n",
       "      <th>0</th>\n",
       "      <td>resnet</td>\n",
       "      <td>3b64b0be38fb8e94</td>\n",
       "      <td>32</td>\n",
       "      <td>30</td>\n",
       "      <td>[0.17032000422477722, 0.2808600068092346, 0.35...</td>\n",
       "      <td>[2.386634588241577, 1.8890058994293213, 1.7486...</td>\n",
       "      <td>[0.2615000009536743, 0.3276999890804291, 0.395...</td>\n",
       "      <td>[1.8862396478652954, 1.725894570350647, 1.6532...</td>\n",
       "      <td>[86.82871699333191, 161.10458970069885, 235.44...</td>\n",
       "      <td>0.6542</td>\n",
       "      <td>...</td>\n",
       "      <td>[MemoryStats(total=270332.669952, free=195649....</td>\n",
       "      <td>[GpuStats(id=0, name='GeForce RTX 2080 Ti', lo...</td>\n",
       "      <td>[GpuStats(id=1, name='GeForce RTX 2080 Ti', lo...</td>\n",
       "      <td>2.481411</td>\n",
       "      <td>0.690529</td>\n",
       "      <td>0.692117</td>\n",
       "      <td>10914.000000</td>\n",
       "      <td>10914.000000</td>\n",
       "      <td>0.691323</td>\n",
       "      <td>5.612619</td>\n",
       "    </tr>\n",
       "    <tr>\n",
       "      <th>1</th>\n",
       "      <td>resnet</td>\n",
       "      <td>9848e15a8cb9456b</td>\n",
       "      <td>256</td>\n",
       "      <td>30</td>\n",
       "      <td>[0.20927999913692474, 0.35989999771118164, 0.4...</td>\n",
       "      <td>[2.9395194053649902, 1.7702909708023071, 1.570...</td>\n",
       "      <td>[0.14980000257492065, 0.17270000278949738, 0.3...</td>\n",
       "      <td>[2.747114896774292, 2.5870492458343506, 1.9928...</td>\n",
       "      <td>[26.537360668182373, 38.13520431518555, 49.665...</td>\n",
       "      <td>0.6561</td>\n",
       "      <td>...</td>\n",
       "      <td>[MemoryStats(total=270332.669952, free=200833....</td>\n",
       "      <td>[GpuStats(id=0, name='GeForce RTX 2080 Ti', lo...</td>\n",
       "      <td>[GpuStats(id=1, name='GeForce RTX 2080 Ti', lo...</td>\n",
       "      <td>2.831624</td>\n",
       "      <td>0.688376</td>\n",
       "      <td>0.685897</td>\n",
       "      <td>10896.752137</td>\n",
       "      <td>10896.478632</td>\n",
       "      <td>0.687137</td>\n",
       "      <td>5.124786</td>\n",
       "    </tr>\n",
       "    <tr>\n",
       "      <th>2</th>\n",
       "      <td>resnet</td>\n",
       "      <td>e551b774a7b5ccc0</td>\n",
       "      <td>128</td>\n",
       "      <td>30</td>\n",
       "      <td>[0.21724000573158264, 0.33597999811172485, 0.4...</td>\n",
       "      <td>[2.6788625717163086, 1.7895755767822266, 1.611...</td>\n",
       "      <td>[0.23649999499320984, 0.2770000100135803, 0.44...</td>\n",
       "      <td>[2.0208323001861572, 1.976898431777954, 1.5212...</td>\n",
       "      <td>[33.218318939208984, 53.329391956329346, 73.47...</td>\n",
       "      <td>0.6531</td>\n",
       "      <td>...</td>\n",
       "      <td>[MemoryStats(total=270332.669952, free=194600....</td>\n",
       "      <td>[GpuStats(id=0, name='GeForce RTX 2080 Ti', lo...</td>\n",
       "      <td>[GpuStats(id=1, name='GeForce RTX 2080 Ti', lo...</td>\n",
       "      <td>2.474020</td>\n",
       "      <td>0.705098</td>\n",
       "      <td>0.702794</td>\n",
       "      <td>10914.000000</td>\n",
       "      <td>10914.000000</td>\n",
       "      <td>0.703946</td>\n",
       "      <td>5.612255</td>\n",
       "    </tr>\n",
       "    <tr>\n",
       "      <th>3</th>\n",
       "      <td>resnet</td>\n",
       "      <td>eeaea0a56be5c6c9</td>\n",
       "      <td>64</td>\n",
       "      <td>30</td>\n",
       "      <td>[0.21930000185966492, 0.346560001373291, 0.435...</td>\n",
       "      <td>[2.442678451538086, 1.7620742321014404, 1.5449...</td>\n",
       "      <td>[0.20569999516010284, 0.38609999418258667, 0.4...</td>\n",
       "      <td>[2.4119229316711426, 1.6152931451797485, 1.422...</td>\n",
       "      <td>[51.08732867240906, 89.5283989906311, 127.9574...</td>\n",
       "      <td>0.6581</td>\n",
       "      <td>...</td>\n",
       "      <td>[MemoryStats(total=270332.669952, free=195794....</td>\n",
       "      <td>[GpuStats(id=0, name='GeForce RTX 2080 Ti', lo...</td>\n",
       "      <td>[GpuStats(id=1, name='GeForce RTX 2080 Ti', lo...</td>\n",
       "      <td>2.461558</td>\n",
       "      <td>0.694571</td>\n",
       "      <td>0.694883</td>\n",
       "      <td>10914.000000</td>\n",
       "      <td>10914.000000</td>\n",
       "      <td>0.694727</td>\n",
       "      <td>5.626494</td>\n",
       "    </tr>\n",
       "    <tr>\n",
       "      <th>4</th>\n",
       "      <td>resnet</td>\n",
       "      <td>3b64b0be38fb8e94</td>\n",
       "      <td>32</td>\n",
       "      <td>30</td>\n",
       "      <td>[0.17776000499725342, 0.25637999176979065, 0.3...</td>\n",
       "      <td>[2.443981170654297, 1.9975420236587524, 1.8435...</td>\n",
       "      <td>[0.2281000018119812, 0.31769999861717224, 0.39...</td>\n",
       "      <td>[2.1482324600219727, 1.9316531419754028, 1.673...</td>\n",
       "      <td>[91.24218130111694, 167.12129759788513, 242.37...</td>\n",
       "      <td>0.6825</td>\n",
       "      <td>...</td>\n",
       "      <td>[MemoryStats(total=270332.669952, free=193895....</td>\n",
       "      <td>[GpuStats(id=0, name='GeForce RTX 2080 Ti', lo...</td>\n",
       "      <td>[GpuStats(id=1, name='GeForce RTX 2080 Ti', lo...</td>\n",
       "      <td>2.543989</td>\n",
       "      <td>0.685997</td>\n",
       "      <td>0.692999</td>\n",
       "      <td>10914.000000</td>\n",
       "      <td>10914.000000</td>\n",
       "      <td>0.689498</td>\n",
       "      <td>5.696301</td>\n",
       "    </tr>\n",
       "    <tr>\n",
       "      <th>5</th>\n",
       "      <td>resnet</td>\n",
       "      <td>9848e15a8cb9456b</td>\n",
       "      <td>256</td>\n",
       "      <td>30</td>\n",
       "      <td>[0.2289399951696396, 0.3654800057411194, 0.430...</td>\n",
       "      <td>[2.9462780952453613, 1.74190092086792, 1.57160...</td>\n",
       "      <td>[0.1525000035762787, 0.31060001254081726, 0.30...</td>\n",
       "      <td>[9.569252967834473, 1.8199352025985718, 1.9944...</td>\n",
       "      <td>[28.763103485107422, 40.597825050354004, 52.13...</td>\n",
       "      <td>0.6531</td>\n",
       "      <td>...</td>\n",
       "      <td>[MemoryStats(total=270332.669952, free=200769....</td>\n",
       "      <td>[GpuStats(id=0, name='GeForce RTX 2080 Ti', lo...</td>\n",
       "      <td>[GpuStats(id=1, name='GeForce RTX 2080 Ti', lo...</td>\n",
       "      <td>2.790083</td>\n",
       "      <td>0.673802</td>\n",
       "      <td>0.674545</td>\n",
       "      <td>10896.942149</td>\n",
       "      <td>10896.545455</td>\n",
       "      <td>0.674174</td>\n",
       "      <td>5.247934</td>\n",
       "    </tr>\n",
       "    <tr>\n",
       "      <th>6</th>\n",
       "      <td>resnet</td>\n",
       "      <td>e551b774a7b5ccc0</td>\n",
       "      <td>128</td>\n",
       "      <td>30</td>\n",
       "      <td>[0.18846000730991364, 0.30963999032974243, 0.4...</td>\n",
       "      <td>[2.8464584350585938, 1.8502916097640991, 1.623...</td>\n",
       "      <td>[0.2199999988079071, 0.28279998898506165, 0.38...</td>\n",
       "      <td>[2.0936760902404785, 2.0967390537261963, 1.697...</td>\n",
       "      <td>[35.912309885025024, 56.74307084083557, 77.750...</td>\n",
       "      <td>0.6798</td>\n",
       "      <td>...</td>\n",
       "      <td>[MemoryStats(total=270332.669952, free=194188....</td>\n",
       "      <td>[GpuStats(id=0, name='GeForce RTX 2080 Ti', lo...</td>\n",
       "      <td>[GpuStats(id=1, name='GeForce RTX 2080 Ti', lo...</td>\n",
       "      <td>2.576887</td>\n",
       "      <td>0.680755</td>\n",
       "      <td>0.690613</td>\n",
       "      <td>10914.000000</td>\n",
       "      <td>10914.000000</td>\n",
       "      <td>0.685684</td>\n",
       "      <td>5.627358</td>\n",
       "    </tr>\n",
       "    <tr>\n",
       "      <th>7</th>\n",
       "      <td>resnet</td>\n",
       "      <td>eeaea0a56be5c6c9</td>\n",
       "      <td>64</td>\n",
       "      <td>30</td>\n",
       "      <td>[0.16877999901771545, 0.31738001108169556, 0.4...</td>\n",
       "      <td>[2.5261449813842773, 1.8163659572601318, 1.648...</td>\n",
       "      <td>[0.2387000024318695, 0.34369999170303345, 0.43...</td>\n",
       "      <td>[2.001915693283081, 1.765451192855835, 1.73678...</td>\n",
       "      <td>[54.50707030296326, 93.83418011665344, 133.832...</td>\n",
       "      <td>0.6773</td>\n",
       "      <td>...</td>\n",
       "      <td>[MemoryStats(total=270332.669952, free=194010....</td>\n",
       "      <td>[GpuStats(id=0, name='GeForce RTX 2080 Ti', lo...</td>\n",
       "      <td>[GpuStats(id=1, name='GeForce RTX 2080 Ti', lo...</td>\n",
       "      <td>2.542065</td>\n",
       "      <td>0.681788</td>\n",
       "      <td>0.690705</td>\n",
       "      <td>10914.000000</td>\n",
       "      <td>10914.000000</td>\n",
       "      <td>0.686247</td>\n",
       "      <td>5.648866</td>\n",
       "    </tr>\n",
       "    <tr>\n",
       "      <th>8</th>\n",
       "      <td>resnet</td>\n",
       "      <td>3b64b0be38fb8e94</td>\n",
       "      <td>32</td>\n",
       "      <td>30</td>\n",
       "      <td>[0.194240003824234, 0.3152199983596802, 0.3870...</td>\n",
       "      <td>[2.36903977394104, 1.8614556789398193, 1.71788...</td>\n",
       "      <td>[0.22830000519752502, 0.35499998927116394, 0.4...</td>\n",
       "      <td>[1.996896505355835, 1.8208531141281128, 1.6707...</td>\n",
       "      <td>[91.85955429077148, 168.55097484588623, 245.45...</td>\n",
       "      <td>0.6482</td>\n",
       "      <td>...</td>\n",
       "      <td>[MemoryStats(total=270332.669952, free=193835....</td>\n",
       "      <td>[GpuStats(id=0, name='GeForce RTX 2080 Ti', lo...</td>\n",
       "      <td>[GpuStats(id=1, name='GeForce RTX 2080 Ti', lo...</td>\n",
       "      <td>2.559844</td>\n",
       "      <td>0.675593</td>\n",
       "      <td>0.678110</td>\n",
       "      <td>10914.000000</td>\n",
       "      <td>10914.000000</td>\n",
       "      <td>0.676851</td>\n",
       "      <td>5.707171</td>\n",
       "    </tr>\n",
       "    <tr>\n",
       "      <th>9</th>\n",
       "      <td>resnet</td>\n",
       "      <td>9848e15a8cb9456b</td>\n",
       "      <td>256</td>\n",
       "      <td>30</td>\n",
       "      <td>[0.17047999799251556, 0.28755998611450195, 0.3...</td>\n",
       "      <td>[3.061053514480591, 2.008331775665283, 1.72609...</td>\n",
       "      <td>[0.10949999839067459, 0.15289999544620514, 0.3...</td>\n",
       "      <td>[2.5662691593170166, 2.3880715370178223, 1.798...</td>\n",
       "      <td>[29.048789501190186, 41.015719413757324, 52.65...</td>\n",
       "      <td>0.6254</td>\n",
       "      <td>...</td>\n",
       "      <td>[MemoryStats(total=270332.669952, free=200785....</td>\n",
       "      <td>[GpuStats(id=0, name='GeForce RTX 2080 Ti', lo...</td>\n",
       "      <td>[GpuStats(id=1, name='GeForce RTX 2080 Ti', lo...</td>\n",
       "      <td>2.671074</td>\n",
       "      <td>0.675124</td>\n",
       "      <td>0.679174</td>\n",
       "      <td>10896.942149</td>\n",
       "      <td>10896.528926</td>\n",
       "      <td>0.677149</td>\n",
       "      <td>5.276860</td>\n",
       "    </tr>\n",
       "    <tr>\n",
       "      <th>10</th>\n",
       "      <td>resnet</td>\n",
       "      <td>e551b774a7b5ccc0</td>\n",
       "      <td>128</td>\n",
       "      <td>30</td>\n",
       "      <td>[0.25071999430656433, 0.40685999393463135, 0.4...</td>\n",
       "      <td>[2.636397123336792, 1.6303213834762573, 1.4578...</td>\n",
       "      <td>[0.25859999656677246, 0.4004000127315521, 0.46...</td>\n",
       "      <td>[1.9681475162506104, 1.703709363937378, 1.5188...</td>\n",
       "      <td>[36.018375873565674, 57.17633390426636, 78.124...</td>\n",
       "      <td>0.6885</td>\n",
       "      <td>...</td>\n",
       "      <td>[MemoryStats(total=270332.669952, free=194070....</td>\n",
       "      <td>[GpuStats(id=0, name='GeForce RTX 2080 Ti', lo...</td>\n",
       "      <td>[GpuStats(id=1, name='GeForce RTX 2080 Ti', lo...</td>\n",
       "      <td>2.588732</td>\n",
       "      <td>0.682254</td>\n",
       "      <td>0.686761</td>\n",
       "      <td>10914.000000</td>\n",
       "      <td>10914.000000</td>\n",
       "      <td>0.684507</td>\n",
       "      <td>5.649296</td>\n",
       "    </tr>\n",
       "    <tr>\n",
       "      <th>11</th>\n",
       "      <td>resnet</td>\n",
       "      <td>eeaea0a56be5c6c9</td>\n",
       "      <td>64</td>\n",
       "      <td>30</td>\n",
       "      <td>[0.19458000361919403, 0.36792001128196716, 0.4...</td>\n",
       "      <td>[2.4999794960021973, 1.7349265813827515, 1.561...</td>\n",
       "      <td>[0.2529999911785126, 0.38280001282691956, 0.46...</td>\n",
       "      <td>[2.0103321075439453, 1.7002928256988525, 1.548...</td>\n",
       "      <td>[55.50187683105469, 95.9315071105957, 136.0994...</td>\n",
       "      <td>0.6880</td>\n",
       "      <td>...</td>\n",
       "      <td>[MemoryStats(total=270332.669952, free=193943....</td>\n",
       "      <td>[GpuStats(id=0, name='GeForce RTX 2080 Ti', lo...</td>\n",
       "      <td>[GpuStats(id=1, name='GeForce RTX 2080 Ti', lo...</td>\n",
       "      <td>2.570968</td>\n",
       "      <td>0.675955</td>\n",
       "      <td>0.681663</td>\n",
       "      <td>10914.000000</td>\n",
       "      <td>10914.000000</td>\n",
       "      <td>0.678809</td>\n",
       "      <td>5.668734</td>\n",
       "    </tr>\n",
       "  </tbody>\n",
       "</table>\n",
       "<p>12 rows × 25 columns</p>\n",
       "</div>"
      ],
      "text/plain": [
       "     model              hash  batch_size  epochs  \\\n",
       "0   resnet  3b64b0be38fb8e94          32      30   \n",
       "1   resnet  9848e15a8cb9456b         256      30   \n",
       "2   resnet  e551b774a7b5ccc0         128      30   \n",
       "3   resnet  eeaea0a56be5c6c9          64      30   \n",
       "4   resnet  3b64b0be38fb8e94          32      30   \n",
       "5   resnet  9848e15a8cb9456b         256      30   \n",
       "6   resnet  e551b774a7b5ccc0         128      30   \n",
       "7   resnet  eeaea0a56be5c6c9          64      30   \n",
       "8   resnet  3b64b0be38fb8e94          32      30   \n",
       "9   resnet  9848e15a8cb9456b         256      30   \n",
       "10  resnet  e551b774a7b5ccc0         128      30   \n",
       "11  resnet  eeaea0a56be5c6c9          64      30   \n",
       "\n",
       "                                             accuracy  \\\n",
       "0   [0.17032000422477722, 0.2808600068092346, 0.35...   \n",
       "1   [0.20927999913692474, 0.35989999771118164, 0.4...   \n",
       "2   [0.21724000573158264, 0.33597999811172485, 0.4...   \n",
       "3   [0.21930000185966492, 0.346560001373291, 0.435...   \n",
       "4   [0.17776000499725342, 0.25637999176979065, 0.3...   \n",
       "5   [0.2289399951696396, 0.3654800057411194, 0.430...   \n",
       "6   [0.18846000730991364, 0.30963999032974243, 0.4...   \n",
       "7   [0.16877999901771545, 0.31738001108169556, 0.4...   \n",
       "8   [0.194240003824234, 0.3152199983596802, 0.3870...   \n",
       "9   [0.17047999799251556, 0.28755998611450195, 0.3...   \n",
       "10  [0.25071999430656433, 0.40685999393463135, 0.4...   \n",
       "11  [0.19458000361919403, 0.36792001128196716, 0.4...   \n",
       "\n",
       "                                                 loss  \\\n",
       "0   [2.386634588241577, 1.8890058994293213, 1.7486...   \n",
       "1   [2.9395194053649902, 1.7702909708023071, 1.570...   \n",
       "2   [2.6788625717163086, 1.7895755767822266, 1.611...   \n",
       "3   [2.442678451538086, 1.7620742321014404, 1.5449...   \n",
       "4   [2.443981170654297, 1.9975420236587524, 1.8435...   \n",
       "5   [2.9462780952453613, 1.74190092086792, 1.57160...   \n",
       "6   [2.8464584350585938, 1.8502916097640991, 1.623...   \n",
       "7   [2.5261449813842773, 1.8163659572601318, 1.648...   \n",
       "8   [2.36903977394104, 1.8614556789398193, 1.71788...   \n",
       "9   [3.061053514480591, 2.008331775665283, 1.72609...   \n",
       "10  [2.636397123336792, 1.6303213834762573, 1.4578...   \n",
       "11  [2.4999794960021973, 1.7349265813827515, 1.561...   \n",
       "\n",
       "                                         val_accuracy  \\\n",
       "0   [0.2615000009536743, 0.3276999890804291, 0.395...   \n",
       "1   [0.14980000257492065, 0.17270000278949738, 0.3...   \n",
       "2   [0.23649999499320984, 0.2770000100135803, 0.44...   \n",
       "3   [0.20569999516010284, 0.38609999418258667, 0.4...   \n",
       "4   [0.2281000018119812, 0.31769999861717224, 0.39...   \n",
       "5   [0.1525000035762787, 0.31060001254081726, 0.30...   \n",
       "6   [0.2199999988079071, 0.28279998898506165, 0.38...   \n",
       "7   [0.2387000024318695, 0.34369999170303345, 0.43...   \n",
       "8   [0.22830000519752502, 0.35499998927116394, 0.4...   \n",
       "9   [0.10949999839067459, 0.15289999544620514, 0.3...   \n",
       "10  [0.25859999656677246, 0.4004000127315521, 0.46...   \n",
       "11  [0.2529999911785126, 0.38280001282691956, 0.46...   \n",
       "\n",
       "                                             val_loss  \\\n",
       "0   [1.8862396478652954, 1.725894570350647, 1.6532...   \n",
       "1   [2.747114896774292, 2.5870492458343506, 1.9928...   \n",
       "2   [2.0208323001861572, 1.976898431777954, 1.5212...   \n",
       "3   [2.4119229316711426, 1.6152931451797485, 1.422...   \n",
       "4   [2.1482324600219727, 1.9316531419754028, 1.673...   \n",
       "5   [9.569252967834473, 1.8199352025985718, 1.9944...   \n",
       "6   [2.0936760902404785, 2.0967390537261963, 1.697...   \n",
       "7   [2.001915693283081, 1.765451192855835, 1.73678...   \n",
       "8   [1.996896505355835, 1.8208531141281128, 1.6707...   \n",
       "9   [2.5662691593170166, 2.3880715370178223, 1.798...   \n",
       "10  [1.9681475162506104, 1.703709363937378, 1.5188...   \n",
       "11  [2.0103321075439453, 1.7002928256988525, 1.548...   \n",
       "\n",
       "                                                times     acc  ...  \\\n",
       "0   [86.82871699333191, 161.10458970069885, 235.44...  0.6542  ...   \n",
       "1   [26.537360668182373, 38.13520431518555, 49.665...  0.6561  ...   \n",
       "2   [33.218318939208984, 53.329391956329346, 73.47...  0.6531  ...   \n",
       "3   [51.08732867240906, 89.5283989906311, 127.9574...  0.6581  ...   \n",
       "4   [91.24218130111694, 167.12129759788513, 242.37...  0.6825  ...   \n",
       "5   [28.763103485107422, 40.597825050354004, 52.13...  0.6531  ...   \n",
       "6   [35.912309885025024, 56.74307084083557, 77.750...  0.6798  ...   \n",
       "7   [54.50707030296326, 93.83418011665344, 133.832...  0.6773  ...   \n",
       "8   [91.85955429077148, 168.55097484588623, 245.45...  0.6482  ...   \n",
       "9   [29.048789501190186, 41.015719413757324, 52.65...  0.6254  ...   \n",
       "10  [36.018375873565674, 57.17633390426636, 78.124...  0.6885  ...   \n",
       "11  [55.50187683105469, 95.9315071105957, 136.0994...  0.6880  ...   \n",
       "\n",
       "                                                  mem  \\\n",
       "0   [MemoryStats(total=270332.669952, free=195649....   \n",
       "1   [MemoryStats(total=270332.669952, free=200833....   \n",
       "2   [MemoryStats(total=270332.669952, free=194600....   \n",
       "3   [MemoryStats(total=270332.669952, free=195794....   \n",
       "4   [MemoryStats(total=270332.669952, free=193895....   \n",
       "5   [MemoryStats(total=270332.669952, free=200769....   \n",
       "6   [MemoryStats(total=270332.669952, free=194188....   \n",
       "7   [MemoryStats(total=270332.669952, free=194010....   \n",
       "8   [MemoryStats(total=270332.669952, free=193835....   \n",
       "9   [MemoryStats(total=270332.669952, free=200785....   \n",
       "10  [MemoryStats(total=270332.669952, free=194070....   \n",
       "11  [MemoryStats(total=270332.669952, free=193943....   \n",
       "\n",
       "                                                gpu_0  \\\n",
       "0   [GpuStats(id=0, name='GeForce RTX 2080 Ti', lo...   \n",
       "1   [GpuStats(id=0, name='GeForce RTX 2080 Ti', lo...   \n",
       "2   [GpuStats(id=0, name='GeForce RTX 2080 Ti', lo...   \n",
       "3   [GpuStats(id=0, name='GeForce RTX 2080 Ti', lo...   \n",
       "4   [GpuStats(id=0, name='GeForce RTX 2080 Ti', lo...   \n",
       "5   [GpuStats(id=0, name='GeForce RTX 2080 Ti', lo...   \n",
       "6   [GpuStats(id=0, name='GeForce RTX 2080 Ti', lo...   \n",
       "7   [GpuStats(id=0, name='GeForce RTX 2080 Ti', lo...   \n",
       "8   [GpuStats(id=0, name='GeForce RTX 2080 Ti', lo...   \n",
       "9   [GpuStats(id=0, name='GeForce RTX 2080 Ti', lo...   \n",
       "10  [GpuStats(id=0, name='GeForce RTX 2080 Ti', lo...   \n",
       "11  [GpuStats(id=0, name='GeForce RTX 2080 Ti', lo...   \n",
       "\n",
       "                                                gpu_1  cpu_mean  \\\n",
       "0   [GpuStats(id=1, name='GeForce RTX 2080 Ti', lo...  2.481411   \n",
       "1   [GpuStats(id=1, name='GeForce RTX 2080 Ti', lo...  2.831624   \n",
       "2   [GpuStats(id=1, name='GeForce RTX 2080 Ti', lo...  2.474020   \n",
       "3   [GpuStats(id=1, name='GeForce RTX 2080 Ti', lo...  2.461558   \n",
       "4   [GpuStats(id=1, name='GeForce RTX 2080 Ti', lo...  2.543989   \n",
       "5   [GpuStats(id=1, name='GeForce RTX 2080 Ti', lo...  2.790083   \n",
       "6   [GpuStats(id=1, name='GeForce RTX 2080 Ti', lo...  2.576887   \n",
       "7   [GpuStats(id=1, name='GeForce RTX 2080 Ti', lo...  2.542065   \n",
       "8   [GpuStats(id=1, name='GeForce RTX 2080 Ti', lo...  2.559844   \n",
       "9   [GpuStats(id=1, name='GeForce RTX 2080 Ti', lo...  2.671074   \n",
       "10  [GpuStats(id=1, name='GeForce RTX 2080 Ti', lo...  2.588732   \n",
       "11  [GpuStats(id=1, name='GeForce RTX 2080 Ti', lo...  2.570968   \n",
       "\n",
       "   gpu_0_mean_usage gpu_1_mean_usage gpu_0_mean_memory gpu_1_mean_memory  \\\n",
       "0          0.690529         0.692117      10914.000000      10914.000000   \n",
       "1          0.688376         0.685897      10896.752137      10896.478632   \n",
       "2          0.705098         0.702794      10914.000000      10914.000000   \n",
       "3          0.694571         0.694883      10914.000000      10914.000000   \n",
       "4          0.685997         0.692999      10914.000000      10914.000000   \n",
       "5          0.673802         0.674545      10896.942149      10896.545455   \n",
       "6          0.680755         0.690613      10914.000000      10914.000000   \n",
       "7          0.681788         0.690705      10914.000000      10914.000000   \n",
       "8          0.675593         0.678110      10914.000000      10914.000000   \n",
       "9          0.675124         0.679174      10896.942149      10896.528926   \n",
       "10         0.682254         0.686761      10914.000000      10914.000000   \n",
       "11         0.675955         0.681663      10914.000000      10914.000000   \n",
       "\n",
       "    gpu_usage  mem_mean  \n",
       "0    0.691323  5.612619  \n",
       "1    0.687137  5.124786  \n",
       "2    0.703946  5.612255  \n",
       "3    0.694727  5.626494  \n",
       "4    0.689498  5.696301  \n",
       "5    0.674174  5.247934  \n",
       "6    0.685684  5.627358  \n",
       "7    0.686247  5.648866  \n",
       "8    0.676851  5.707171  \n",
       "9    0.677149  5.276860  \n",
       "10   0.684507  5.649296  \n",
       "11   0.678809  5.668734  \n",
       "\n",
       "[12 rows x 25 columns]"
      ]
     },
     "execution_count": 119,
     "metadata": {},
     "output_type": "execute_result"
    }
   ],
   "source": [
    "experiment_file = './dataframes/resnet_tensorflow.pkl'\n",
    "df = pd.read_pickle(experiment_file)\n",
    "df"
   ]
  },
  {
   "cell_type": "markdown",
   "metadata": {
    "pycharm": {
     "name": "#%% md\n"
    }
   },
   "source": [
    "### Create new columns for representation\n",
    "\n",
    "- Final accuracy\n",
    "- Total time taken\n",
    "- Parallelism"
   ]
  },
  {
   "cell_type": "markdown",
   "metadata": {
    "pycharm": {
     "name": "#%% md\n"
    }
   },
   "source": [
    "### Plot the Correlations between the K, Batch and Parallelism with time and accuracy"
   ]
  },
  {
   "cell_type": "code",
   "execution_count": null,
   "metadata": {
    "pycharm": {
     "name": "#%%\n"
    },
    "scrolled": true
   },
   "outputs": [],
   "source": [
    "corr = df[['k', 'batch_size', 'parallelism', 'acc', 'time']].corr()\n",
    "sns.heatmap(corr,\n",
    "            annot=True,\n",
    ")\n",
    "\n",
    "# plt.savefig('./figures/resnet34/heat.png', dpi=300)\n"
   ]
  },
  {
   "cell_type": "code",
   "execution_count": 107,
   "metadata": {
    "pycharm": {
     "name": "#%%\n"
    }
   },
   "outputs": [],
   "source": [
    "df.sort_values('time')\n",
    "\n",
    "mean = df.groupby('hash').mean()"
   ]
  },
  {
   "cell_type": "markdown",
   "metadata": {
    "pycharm": {
     "name": "#%% md\n"
    }
   },
   "source": [
    "### Get the max accuracies and times and check the parameters used"
   ]
  },
  {
   "cell_type": "code",
   "execution_count": null,
   "metadata": {
    "pycharm": {
     "name": "#%%\n"
    }
   },
   "outputs": [],
   "source": [
    "# get the max accuracies\n",
    "df[['k', 'parallelism', 'acc','batch_size','time']].sort_values(by='time', ascending=True)"
   ]
  },
  {
   "cell_type": "markdown",
   "metadata": {
    "pycharm": {
     "name": "#%% md\n"
    }
   },
   "source": [
    "## Calculate TTA with different accuracies\n",
    "\n"
   ]
  },
  {
   "cell_type": "code",
   "execution_count": 122,
   "metadata": {
    "pycharm": {
     "name": "#%%\n"
    }
   },
   "outputs": [
    {
     "ename": "KeyError",
     "evalue": "'tta_cross_99'",
     "output_type": "error",
     "traceback": [
      "\u001b[1;31m---------------------------------------------------------------------------\u001b[0m",
      "\u001b[1;31mKeyError\u001b[0m                                  Traceback (most recent call last)",
      "\u001b[1;32m<ipython-input-122-629721411f00>\u001b[0m in \u001b[0;36m<module>\u001b[1;34m\u001b[0m\n\u001b[1;32m----> 1\u001b[1;33m \u001b[0ms\u001b[0m \u001b[1;33m=\u001b[0m \u001b[0mdf\u001b[0m\u001b[1;33m.\u001b[0m\u001b[0msort_values\u001b[0m\u001b[1;33m(\u001b[0m\u001b[1;34m'tta_cross_99'\u001b[0m\u001b[1;33m)\u001b[0m\u001b[1;33m[\u001b[0m\u001b[1;33m[\u001b[0m\u001b[1;34m'k'\u001b[0m\u001b[1;33m,\u001b[0m \u001b[1;34m'batch_size'\u001b[0m\u001b[1;33m,\u001b[0m \u001b[1;34m'parallelism'\u001b[0m\u001b[1;33m,\u001b[0m \u001b[1;34m'tta_cross_99'\u001b[0m\u001b[1;33m,\u001b[0m \u001b[1;34m'tta_99'\u001b[0m\u001b[1;33m,\u001b[0m \u001b[1;34m'acc'\u001b[0m\u001b[1;33m,\u001b[0m \u001b[1;34m'accuracy'\u001b[0m\u001b[1;33m,\u001b[0m \u001b[1;34m'epoch_duration'\u001b[0m\u001b[1;33m]\u001b[0m\u001b[1;33m]\u001b[0m\u001b[1;33m\u001b[0m\u001b[1;33m\u001b[0m\u001b[0m\n\u001b[0m\u001b[0;32m      2\u001b[0m \u001b[1;33m\u001b[0m\u001b[0m\n\u001b[0;32m      3\u001b[0m \u001b[1;31m# plot the best\u001b[0m\u001b[1;33m\u001b[0m\u001b[1;33m\u001b[0m\u001b[1;33m\u001b[0m\u001b[0m\n\u001b[0;32m      4\u001b[0m \u001b[0mbest\u001b[0m \u001b[1;33m=\u001b[0m \u001b[0ms\u001b[0m\u001b[1;33m.\u001b[0m\u001b[0miloc\u001b[0m\u001b[1;33m[\u001b[0m\u001b[1;36m0\u001b[0m\u001b[1;33m]\u001b[0m\u001b[1;33m\u001b[0m\u001b[1;33m\u001b[0m\u001b[0m\n\u001b[0;32m      5\u001b[0m \u001b[0mbest\u001b[0m\u001b[1;33m\u001b[0m\u001b[1;33m\u001b[0m\u001b[0m\n",
      "\u001b[1;32mc:\\users\\diego\\cs\\qpe\\venv\\lib\\site-packages\\pandas\\core\\frame.py\u001b[0m in \u001b[0;36msort_values\u001b[1;34m(self, by, axis, ascending, inplace, kind, na_position, ignore_index, key)\u001b[0m\n\u001b[0;32m   5292\u001b[0m \u001b[1;33m\u001b[0m\u001b[0m\n\u001b[0;32m   5293\u001b[0m             \u001b[0mby\u001b[0m \u001b[1;33m=\u001b[0m \u001b[0mby\u001b[0m\u001b[1;33m[\u001b[0m\u001b[1;36m0\u001b[0m\u001b[1;33m]\u001b[0m\u001b[1;33m\u001b[0m\u001b[1;33m\u001b[0m\u001b[0m\n\u001b[1;32m-> 5294\u001b[1;33m             \u001b[0mk\u001b[0m \u001b[1;33m=\u001b[0m \u001b[0mself\u001b[0m\u001b[1;33m.\u001b[0m\u001b[0m_get_label_or_level_values\u001b[0m\u001b[1;33m(\u001b[0m\u001b[0mby\u001b[0m\u001b[1;33m,\u001b[0m \u001b[0maxis\u001b[0m\u001b[1;33m=\u001b[0m\u001b[0maxis\u001b[0m\u001b[1;33m)\u001b[0m\u001b[1;33m\u001b[0m\u001b[1;33m\u001b[0m\u001b[0m\n\u001b[0m\u001b[0;32m   5295\u001b[0m \u001b[1;33m\u001b[0m\u001b[0m\n\u001b[0;32m   5296\u001b[0m             \u001b[1;31m# need to rewrap column in Series to apply key function\u001b[0m\u001b[1;33m\u001b[0m\u001b[1;33m\u001b[0m\u001b[1;33m\u001b[0m\u001b[0m\n",
      "\u001b[1;32mc:\\users\\diego\\cs\\qpe\\venv\\lib\\site-packages\\pandas\\core\\generic.py\u001b[0m in \u001b[0;36m_get_label_or_level_values\u001b[1;34m(self, key, axis)\u001b[0m\n\u001b[0;32m   1561\u001b[0m             \u001b[0mvalues\u001b[0m \u001b[1;33m=\u001b[0m \u001b[0mself\u001b[0m\u001b[1;33m.\u001b[0m\u001b[0maxes\u001b[0m\u001b[1;33m[\u001b[0m\u001b[0maxis\u001b[0m\u001b[1;33m]\u001b[0m\u001b[1;33m.\u001b[0m\u001b[0mget_level_values\u001b[0m\u001b[1;33m(\u001b[0m\u001b[0mkey\u001b[0m\u001b[1;33m)\u001b[0m\u001b[1;33m.\u001b[0m\u001b[0m_values\u001b[0m\u001b[1;33m\u001b[0m\u001b[1;33m\u001b[0m\u001b[0m\n\u001b[0;32m   1562\u001b[0m         \u001b[1;32melse\u001b[0m\u001b[1;33m:\u001b[0m\u001b[1;33m\u001b[0m\u001b[1;33m\u001b[0m\u001b[0m\n\u001b[1;32m-> 1563\u001b[1;33m             \u001b[1;32mraise\u001b[0m \u001b[0mKeyError\u001b[0m\u001b[1;33m(\u001b[0m\u001b[0mkey\u001b[0m\u001b[1;33m)\u001b[0m\u001b[1;33m\u001b[0m\u001b[1;33m\u001b[0m\u001b[0m\n\u001b[0m\u001b[0;32m   1564\u001b[0m \u001b[1;33m\u001b[0m\u001b[0m\n\u001b[0;32m   1565\u001b[0m         \u001b[1;31m# Check for duplicates\u001b[0m\u001b[1;33m\u001b[0m\u001b[1;33m\u001b[0m\u001b[1;33m\u001b[0m\u001b[0m\n",
      "\u001b[1;31mKeyError\u001b[0m: 'tta_cross_99'"
     ]
    }
   ],
   "source": [
    "s = df.sort_values('tta_cross_99')[['k', 'batch_size', 'parallelism', 'tta_cross_99', 'tta_99', 'acc', 'accuracy', 'epoch_duration']]\n",
    "\n",
    "# plot the best\n",
    "best = s.iloc[0]\n",
    "best\n",
    "\n",
    "\n",
    "x = range(1, len(best.accuracy)+1)\n",
    "plt.figure()\n",
    "plt.title(f'Best tta_99 (B={best.batch_size}, k={best.k}, P={best.parallelism})')\n",
    "sns.lineplot(x=best.epoch_duration, y = best.accuracy)\n",
    "sns.lineplot(x=best.epoch_duration, y= 99)\n",
    "plt.scatter(best.tta_cross_99, 99, marker='X', s=60, c='r')\n",
    "plt.xlabel('Time (s)', fontsize=15)\n",
    "plt.ylabel('Accuracy (%)', fontsize=15)\n",
    "\n",
    "# plt.savefig('./figures/gpu/best.png', dpi=300)\n"
   ]
  },
  {
   "cell_type": "code",
   "execution_count": null,
   "metadata": {},
   "outputs": [],
   "source": [
    "best.tta_cross_99"
   ]
  },
  {
   "cell_type": "code",
   "execution_count": 129,
   "metadata": {
    "pycharm": {
     "name": "#%%\n"
    }
   },
   "outputs": [
    {
     "data": {
      "image/png": "[encoded data removed]",
      "text/plain": [
       "<Figure size 1440x360 with 3 Axes>"
      ]
     },
     "metadata": {},
     "output_type": "display_data"
    }
   ],
   "source": [
    "f, ax = plt.subplots(1, 3, sharey=False, figsize=(20, 5))\n",
    "sns.barplot(x='batch_size', y='time', data=df,  ax=ax[0])\n",
    "sns.barplot(x='batch_size', y='tta_cross_67', data=df, ax=ax[1])\n",
    "sns.barplot(x='batch_size', y='gpu_usage', data=df ,ax=ax[2])\n",
    "sns.despine()\n",
    "\n",
    "# plt.savefig('./figures/gpu/tta_99.png', dpi=300)\n",
    "\n",
    "# sns.barplot(x='k', y='tta_99', data=df)"
   ]
  },
  {
   "cell_type": "markdown",
   "metadata": {},
   "source": [
    "## Do ANOVA Linear Model to calculate the influence of the parameters\n",
    "\n",
    "Using ANOVA we can get an idea of how the different parameters interact with each other and their influence"
   ]
  },
  {
   "cell_type": "code",
   "execution_count": null,
   "metadata": {},
   "outputs": [],
   "source": [
    "# For the ANOVA test\n",
    "import researchpy as rp\n",
    "import statsmodels.api as sm\n",
    "from statsmodels.formula.api import ols"
   ]
  },
  {
   "cell_type": "code",
   "execution_count": null,
   "metadata": {},
   "outputs": [],
   "source": [
    "def ANOVA(df: pd.DataFrame, y: str, use_all = False,verbose=False):\n",
    "    \"\"\"Run the ANOVA analysis with the batch, k and parallelism columns for the \n",
    "    given output variable\"\"\"\n",
    "    \n",
    "    # If use all is true we use all the variables to check either accuracy and time\n",
    "    # including also the iowait and the cpu to see what fully influences the stuff\n",
    "    \n",
    "    \n",
    "    if not use_all:\n",
    "        # Plot the summary dataframe\n",
    "        if verbose:\n",
    "            display(rp.summary_cont(df.groupby(['batch_size', 'k', 'parallelism']))[y])\n",
    "\n",
    "        model = ols(f'{y} ~ batch_size*k*parallelism', df).fit()\n",
    "        \n",
    "    else:\n",
    "        if y not in ['acc', 'time']:\n",
    "            raise ValueError('When use_all = True we predict either final_accuracy or time, not', y)\n",
    "        if verbose:\n",
    "            display(rp.summary_cont(df.groupby(['batch_size', 'k', 'parallelism']))[y])\n",
    "\n",
    "        model = ols(f'{y} ~ cpu*batch*njobs*cpu_mean*iowait_mean', df).fit()\n",
    "        \n",
    "\n",
    "    if verbose:\n",
    "        print(f\"Overall model F({model.df_model: .0f},{model.df_resid: .0f}) = {model.fvalue: .3f}, p = {model.f_pvalue: .4f}\")\n",
    "        display(model.summary())\n",
    "    \n",
    "    res = sm.stats.anova_lm(model, typ=2)\n",
    "    \n",
    "    return res, model"
   ]
  },
  {
   "cell_type": "code",
   "execution_count": null,
   "metadata": {
    "scrolled": false
   },
   "outputs": [],
   "source": [
    "# df.k = df.k.map(lambda val: -1 if val == float('inf') else val)\n",
    "\n",
    "res, model = ANOVA(d, y='gpu_usage', verbose=True)\n",
    "\n",
    "res\n",
    "\n"
   ]
  },
  {
   "cell_type": "markdown",
   "metadata": {},
   "source": [
    "### Plot the distributions of time and accuracy as a function of K, Batch and parallelism"
   ]
  },
  {
   "cell_type": "markdown",
   "metadata": {
    "pycharm": {
     "name": "#%% md\n"
    }
   },
   "source": [
    "#### Plot the accuracy as a factor"
   ]
  },
  {
   "cell_type": "code",
   "execution_count": null,
   "metadata": {
    "pycharm": {
     "name": "#%%\n"
    }
   },
   "outputs": [],
   "source": [
    "plt.rc('font', size=16)\n",
    "\n",
    "f, ax = plt.subplots(1, 3, sharey=True, figsize=(20, 5))\n",
    "sns.barplot(x='batch_size', y='acc', hue='k', data=df, ax=ax[0], capsize=.05)\n",
    "sns.barplot(x='k', y='acc', data=df, ax=ax[1], capsize=.05, hue='parallelism')\n",
    "sns.barplot(x='parallelism', y='acc', data=df, hue='k' ,ax=ax[2] ,capsize=.05)\n",
    "sns.despine()\n",
    "plt.legend(title='k', ncol=4, bbox_to_anchor=(0.075,1))\n",
    "\n",
    "for a in ax:\n",
    "    a.set_ylim([75, 100])\n",
    "\n",
    "\n",
    "\n",
    "# plt.savefig('./figures/resnet34/accuracy.png', dpi=300)"
   ]
  },
  {
   "cell_type": "code",
   "execution_count": null,
   "metadata": {
    "scrolled": false
   },
   "outputs": [],
   "source": [
    "plt.rc('font', size=16)\n",
    "plt.figure(figsize=(15,10))\n",
    "sns.barplot(x='parallelism', y='tta_cross_99', data=df, capsize=.02, hue='batch_size')\n",
    "\n",
    "\n",
    "# plt.savefig('./figures/resnet34/acc_per_k_and_parallelism.png', dpi=300)"
   ]
  },
  {
   "cell_type": "code",
   "execution_count": 86,
   "metadata": {},
   "outputs": [],
   "source": [
    "df= pd.read_pickle('./dataframes/lenet_tensorflow.pkl')\n",
    "d = pd.read_pickle('./dataframes/lenet_kubeml.pkl')\n",
    "d = d.loc[d.parallelism==2]"
   ]
  },
  {
   "cell_type": "code",
   "execution_count": 87,
   "metadata": {},
   "outputs": [
    {
     "data": {
      "text/html": [
       "<div>\n",
       "<style scoped>\n",
       "    .dataframe tbody tr th:only-of-type {\n",
       "        vertical-align: middle;\n",
       "    }\n",
       "\n",
       "    .dataframe tbody tr th {\n",
       "        vertical-align: top;\n",
       "    }\n",
       "\n",
       "    .dataframe thead th {\n",
       "        text-align: right;\n",
       "    }\n",
       "</style>\n",
       "<table border=\"1\" class=\"dataframe\">\n",
       "  <thead>\n",
       "    <tr style=\"text-align: right;\">\n",
       "      <th></th>\n",
       "      <th>batch_size</th>\n",
       "      <th>tta_cross_99</th>\n",
       "    </tr>\n",
       "  </thead>\n",
       "  <tbody>\n",
       "    <tr>\n",
       "      <th>128</th>\n",
       "      <td>32</td>\n",
       "      <td>82.370374</td>\n",
       "    </tr>\n",
       "    <tr>\n",
       "      <th>23</th>\n",
       "      <td>32</td>\n",
       "      <td>83.256948</td>\n",
       "    </tr>\n",
       "    <tr>\n",
       "      <th>160</th>\n",
       "      <td>32</td>\n",
       "      <td>84.316683</td>\n",
       "    </tr>\n",
       "    <tr>\n",
       "      <th>162</th>\n",
       "      <td>16</td>\n",
       "      <td>92.441923</td>\n",
       "    </tr>\n",
       "    <tr>\n",
       "      <th>79</th>\n",
       "      <td>16</td>\n",
       "      <td>101.195969</td>\n",
       "    </tr>\n",
       "    <tr>\n",
       "      <th>43</th>\n",
       "      <td>16</td>\n",
       "      <td>125.816565</td>\n",
       "    </tr>\n",
       "    <tr>\n",
       "      <th>154</th>\n",
       "      <td>64</td>\n",
       "      <td>138.775395</td>\n",
       "    </tr>\n",
       "    <tr>\n",
       "      <th>45</th>\n",
       "      <td>64</td>\n",
       "      <td>140.742009</td>\n",
       "    </tr>\n",
       "    <tr>\n",
       "      <th>144</th>\n",
       "      <td>64</td>\n",
       "      <td>140.943138</td>\n",
       "    </tr>\n",
       "    <tr>\n",
       "      <th>8</th>\n",
       "      <td>64</td>\n",
       "      <td>142.674177</td>\n",
       "    </tr>\n",
       "    <tr>\n",
       "      <th>136</th>\n",
       "      <td>64</td>\n",
       "      <td>143.598086</td>\n",
       "    </tr>\n",
       "    <tr>\n",
       "      <th>118</th>\n",
       "      <td>16</td>\n",
       "      <td>144.182310</td>\n",
       "    </tr>\n",
       "    <tr>\n",
       "      <th>192</th>\n",
       "      <td>64</td>\n",
       "      <td>145.785317</td>\n",
       "    </tr>\n",
       "    <tr>\n",
       "      <th>112</th>\n",
       "      <td>16</td>\n",
       "      <td>148.940941</td>\n",
       "    </tr>\n",
       "    <tr>\n",
       "      <th>103</th>\n",
       "      <td>32</td>\n",
       "      <td>159.049880</td>\n",
       "    </tr>\n",
       "    <tr>\n",
       "      <th>169</th>\n",
       "      <td>32</td>\n",
       "      <td>161.446891</td>\n",
       "    </tr>\n",
       "    <tr>\n",
       "      <th>129</th>\n",
       "      <td>32</td>\n",
       "      <td>162.843089</td>\n",
       "    </tr>\n",
       "    <tr>\n",
       "      <th>73</th>\n",
       "      <td>16</td>\n",
       "      <td>272.334462</td>\n",
       "    </tr>\n",
       "    <tr>\n",
       "      <th>4</th>\n",
       "      <td>16</td>\n",
       "      <td>306.976264</td>\n",
       "    </tr>\n",
       "    <tr>\n",
       "      <th>42</th>\n",
       "      <td>16</td>\n",
       "      <td>364.546680</td>\n",
       "    </tr>\n",
       "    <tr>\n",
       "      <th>122</th>\n",
       "      <td>16</td>\n",
       "      <td>370.926736</td>\n",
       "    </tr>\n",
       "    <tr>\n",
       "      <th>6</th>\n",
       "      <td>16</td>\n",
       "      <td>376.359481</td>\n",
       "    </tr>\n",
       "    <tr>\n",
       "      <th>10</th>\n",
       "      <td>128</td>\n",
       "      <td>NaN</td>\n",
       "    </tr>\n",
       "    <tr>\n",
       "      <th>17</th>\n",
       "      <td>32</td>\n",
       "      <td>NaN</td>\n",
       "    </tr>\n",
       "    <tr>\n",
       "      <th>50</th>\n",
       "      <td>32</td>\n",
       "      <td>NaN</td>\n",
       "    </tr>\n",
       "    <tr>\n",
       "      <th>57</th>\n",
       "      <td>128</td>\n",
       "      <td>NaN</td>\n",
       "    </tr>\n",
       "    <tr>\n",
       "      <th>61</th>\n",
       "      <td>128</td>\n",
       "      <td>NaN</td>\n",
       "    </tr>\n",
       "    <tr>\n",
       "      <th>63</th>\n",
       "      <td>128</td>\n",
       "      <td>NaN</td>\n",
       "    </tr>\n",
       "    <tr>\n",
       "      <th>64</th>\n",
       "      <td>128</td>\n",
       "      <td>NaN</td>\n",
       "    </tr>\n",
       "    <tr>\n",
       "      <th>67</th>\n",
       "      <td>64</td>\n",
       "      <td>NaN</td>\n",
       "    </tr>\n",
       "    <tr>\n",
       "      <th>82</th>\n",
       "      <td>128</td>\n",
       "      <td>NaN</td>\n",
       "    </tr>\n",
       "    <tr>\n",
       "      <th>88</th>\n",
       "      <td>16</td>\n",
       "      <td>NaN</td>\n",
       "    </tr>\n",
       "    <tr>\n",
       "      <th>90</th>\n",
       "      <td>32</td>\n",
       "      <td>NaN</td>\n",
       "    </tr>\n",
       "    <tr>\n",
       "      <th>92</th>\n",
       "      <td>32</td>\n",
       "      <td>NaN</td>\n",
       "    </tr>\n",
       "    <tr>\n",
       "      <th>109</th>\n",
       "      <td>128</td>\n",
       "      <td>NaN</td>\n",
       "    </tr>\n",
       "    <tr>\n",
       "      <th>115</th>\n",
       "      <td>128</td>\n",
       "      <td>NaN</td>\n",
       "    </tr>\n",
       "    <tr>\n",
       "      <th>127</th>\n",
       "      <td>128</td>\n",
       "      <td>NaN</td>\n",
       "    </tr>\n",
       "    <tr>\n",
       "      <th>134</th>\n",
       "      <td>128</td>\n",
       "      <td>NaN</td>\n",
       "    </tr>\n",
       "    <tr>\n",
       "      <th>147</th>\n",
       "      <td>32</td>\n",
       "      <td>NaN</td>\n",
       "    </tr>\n",
       "    <tr>\n",
       "      <th>152</th>\n",
       "      <td>64</td>\n",
       "      <td>NaN</td>\n",
       "    </tr>\n",
       "    <tr>\n",
       "      <th>158</th>\n",
       "      <td>64</td>\n",
       "      <td>NaN</td>\n",
       "    </tr>\n",
       "    <tr>\n",
       "      <th>161</th>\n",
       "      <td>64</td>\n",
       "      <td>NaN</td>\n",
       "    </tr>\n",
       "    <tr>\n",
       "      <th>170</th>\n",
       "      <td>32</td>\n",
       "      <td>NaN</td>\n",
       "    </tr>\n",
       "    <tr>\n",
       "      <th>173</th>\n",
       "      <td>128</td>\n",
       "      <td>NaN</td>\n",
       "    </tr>\n",
       "    <tr>\n",
       "      <th>175</th>\n",
       "      <td>64</td>\n",
       "      <td>NaN</td>\n",
       "    </tr>\n",
       "    <tr>\n",
       "      <th>176</th>\n",
       "      <td>16</td>\n",
       "      <td>NaN</td>\n",
       "    </tr>\n",
       "    <tr>\n",
       "      <th>178</th>\n",
       "      <td>64</td>\n",
       "      <td>NaN</td>\n",
       "    </tr>\n",
       "    <tr>\n",
       "      <th>184</th>\n",
       "      <td>128</td>\n",
       "      <td>NaN</td>\n",
       "    </tr>\n",
       "  </tbody>\n",
       "</table>\n",
       "</div>"
      ],
      "text/plain": [
       "     batch_size  tta_cross_99\n",
       "128          32     82.370374\n",
       "23           32     83.256948\n",
       "160          32     84.316683\n",
       "162          16     92.441923\n",
       "79           16    101.195969\n",
       "43           16    125.816565\n",
       "154          64    138.775395\n",
       "45           64    140.742009\n",
       "144          64    140.943138\n",
       "8            64    142.674177\n",
       "136          64    143.598086\n",
       "118          16    144.182310\n",
       "192          64    145.785317\n",
       "112          16    148.940941\n",
       "103          32    159.049880\n",
       "169          32    161.446891\n",
       "129          32    162.843089\n",
       "73           16    272.334462\n",
       "4            16    306.976264\n",
       "42           16    364.546680\n",
       "122          16    370.926736\n",
       "6            16    376.359481\n",
       "10          128           NaN\n",
       "17           32           NaN\n",
       "50           32           NaN\n",
       "57          128           NaN\n",
       "61          128           NaN\n",
       "63          128           NaN\n",
       "64          128           NaN\n",
       "67           64           NaN\n",
       "82          128           NaN\n",
       "88           16           NaN\n",
       "90           32           NaN\n",
       "92           32           NaN\n",
       "109         128           NaN\n",
       "115         128           NaN\n",
       "127         128           NaN\n",
       "134         128           NaN\n",
       "147          32           NaN\n",
       "152          64           NaN\n",
       "158          64           NaN\n",
       "161          64           NaN\n",
       "170          32           NaN\n",
       "173         128           NaN\n",
       "175          64           NaN\n",
       "176          16           NaN\n",
       "178          64           NaN\n",
       "184         128           NaN"
      ]
     },
     "execution_count": 87,
     "metadata": {},
     "output_type": "execute_result"
    }
   ],
   "source": [
    "d.sort_values('tta_cross_99')[['batch_size', 'tta_cross_99']]"
   ]
  },
  {
   "cell_type": "markdown",
   "metadata": {
    "pycharm": {
     "name": "#%% md\n"
    }
   },
   "source": [
    "#### Plot the time as a factor"
   ]
  },
  {
   "cell_type": "code",
   "execution_count": 88,
   "metadata": {
    "pycharm": {
     "name": "#%%\n"
    }
   },
   "outputs": [
    {
     "data": {
      "text/plain": [
       "<AxesSubplot:xlabel='batch_size', ylabel='tta_cross_99'>"
      ]
     },
     "execution_count": 88,
     "metadata": {},
     "output_type": "execute_result"
    },
    {
     "data": {
      "image/png": "[encoded data removed]",
      "text/plain": [
       "<Figure size 1440x360 with 3 Axes>"
      ]
     },
     "metadata": {},
     "output_type": "display_data"
    }
   ],
   "source": [
    "f, ax = plt.subplots(1, 3, sharey=True, figsize=(20, 5))\n",
    "\n",
    "\n",
    "sns.barplot(x='batch_size', \n",
    "            y='tta_cross_99', \n",
    "            data=d ,\n",
    "            ax=ax[0],\n",
    "            estimator=np.min)\n",
    "\n",
    "sns.barplot(x='batch_size', y='tta_cross_99', data=df, ax=ax[1], estimator=np.min)\n",
    "# sns.barplot(x='parallelism', y='time', data=df, ax=ax[2], hue='k')\n",
    "\n",
    "# plt.savefig('./figures/resnet34/time.png', dpi=300)"
   ]
  },
  {
   "cell_type": "code",
   "execution_count": null,
   "metadata": {},
   "outputs": [],
   "source": [
    "plt.rc('font', size=16)\n",
    "f, ax = plt.subplots(1, 3, figsize=(20,8), sharey=True)\n",
    "sns.barplot(x='k', y='time', data=df.loc[df.batch_size==32], capsize=.05, hue='parallelism', ax=ax[0])\n",
    "sns.barplot(x='k', y='time', data=df.loc[df.batch_size==64], capsize=.05, hue='parallelism', ax=ax[1])\n",
    "sns.barplot(x='k', y='time', data=df.loc[df.batch_size==128], capsize=.05, hue='parallelism', ax=ax[2])\n",
    "\n",
    "plt.savefig('./figures/resnet34/time_per_all.png', dpi=300)"
   ]
  },
  {
   "cell_type": "code",
   "execution_count": null,
   "metadata": {
    "pycharm": {
     "name": "#%%\n"
    },
    "scrolled": true
   },
   "outputs": [],
   "source": [
    "# Plot the validation lines of k=-1 and batch = 32 with different parallelism\n",
    "def plot_loss_with_k_and_batch(k: int, batch:int, ax: plt.Axes = None):\n",
    "    d = df.loc[(df.k==k) & (df.batch_size==batch)].sort_values(by='parallelism', ascending=False)\n",
    "\n",
    "    plt.rc('font', size=13)\n",
    "    if ax is None:\n",
    "        f = plt.figure(figsize=(10, 5))\n",
    "        for _, row in d.iterrows():\n",
    "#             print(row.accuracy)\n",
    "            plt.plot(range(1,6), row.accuracy[:-1] if len(row.accuracy) == 6 else row.accuracy, label=str(row.parallelism))\n",
    "        plt.xlabel('Epoch')\n",
    "        plt.ylabel('Accuracy (%)')\n",
    "        plt.title(f'Accuracy evolution with LeNet (batch={batch}, k={k})')\n",
    "        plt.legend(title='parallelism', bbox_to_anchor=(1.05, 0.8))\n",
    "        \n",
    "    else:\n",
    "        for _, row in d.iterrows():\n",
    "#             print(row.accuracy)\n",
    "            ax.plot(range(1,6), row.accuracy[:-1] if len(row.accuracy) == 6 else row.accuracy, label=str(row.parallelism))\n",
    "        ax.set_xlabel('Epoch')\n",
    "        ax.set_ylabel('Accuracy (%)')\n",
    "        ax.set_title(f'Batch={batch}, k={k}')\n",
    "        ax.legend(title='parallelism')\n",
    "        \n",
    "\n",
    "f, axes = plt.subplots(nrows=3, ncols=3, figsize=(20, 15), sharex=True)\n",
    "\n",
    "plt.suptitle('Behavior of K, Parallelism and Batch in Accuracy')\n",
    "\n",
    "plot_loss_with_k_and_batch(k=8, batch=32, ax=axes[0][0])\n",
    "plot_loss_with_k_and_batch(k=16, batch=32, ax=axes[0][1])   \n",
    "plot_loss_with_k_and_batch(k=64, batch=32, ax=axes[0][2])\n",
    "    \n",
    "plot_loss_with_k_and_batch(k=8, batch=64, ax=axes[1][0])\n",
    "plot_loss_with_k_and_batch(k=16, batch=64, ax=axes[1][1])   \n",
    "plot_loss_with_k_and_batch(k=64, batch=64, ax=axes[1][2])\n",
    "\n",
    "plot_loss_with_k_and_batch(k=8, batch=128, ax=axes[2][0])\n",
    "plot_loss_with_k_and_batch(k=16, batch=128, ax=axes[2][1])   \n",
    "plot_loss_with_k_and_batch(k=64, batch=128, ax=axes[2][2])\n",
    "\n",
    "\n",
    "# plt.savefig('./figures/accuracy_study.png', dpi=300)\n"
   ]
  },
  {
   "cell_type": "markdown",
   "metadata": {
    "pycharm": {
     "name": "#%% md\n"
    }
   },
   "source": [
    "#### Keep K and Batch set, vary parallelism"
   ]
  },
  {
   "cell_type": "code",
   "execution_count": null,
   "metadata": {
    "pycharm": {
     "name": "#%%\n"
    }
   },
   "outputs": [],
   "source": [
    "# Plot the validation lines of k=-1 and batch = 32 with different parallelism\n",
    "def plot_loss_with_k_and_batch(k: int, batch:int, ax: plt.Axes = None):\n",
    "    d = df.loc[(df.k==k) & (df.batch_size==batch)].sort_values(by='parallelism', ascending=False)\n",
    "\n",
    "    plt.rc('font', size=13)\n",
    "    if ax is None:\n",
    "        f = plt.figure(figsize=(10, 5))\n",
    "        for _, row in d.iterrows():\n",
    "#             print(row.accuracy)\n",
    "            plt.plot(range(1,6), row.accuracy[:-1] if len(row.accuracy) == 6 else row.accuracy, label=str(row.parallelism))\n",
    "        plt.xlabel('Epoch')\n",
    "        plt.ylabel('Accuracy (%)')\n",
    "        plt.title(f'Accuracy evolution with LeNet (batch={batch}, k={k})')\n",
    "        plt.legend(title='parallelism', bbox_to_anchor=(1.05, 0.8))\n",
    "        \n",
    "    else:\n",
    "        for _, row in d.iterrows():\n",
    "#             print(row.accuracy)\n",
    "            ax.plot(range(1,6), row.accuracy[:-1] if len(row.accuracy) == 6 else row.accuracy, label=str(row.parallelism))\n",
    "        ax.set_xlabel('Epoch')\n",
    "        ax.set_ylabel('Accuracy (%)')\n",
    "        ax.set_title(f'Batch={batch}, k={k}')\n",
    "        ax.legend(title='parallelism')\n",
    "        \n",
    "\n",
    "f, axes = plt.subplots(nrows=3, ncols=3, figsize=(20, 15), sharex=True)\n",
    "\n",
    "plt.suptitle('Behavior of K, Parallelism and Batch in Accuracy')\n",
    "\n",
    "plot_loss_with_k_and_batch(k=8, batch=32, ax=axes[0][0])\n",
    "plot_loss_with_k_and_batch(k=16, batch=32, ax=axes[0][1])   \n",
    "plot_loss_with_k_and_batch(k=64, batch=32, ax=axes[0][2])\n",
    "    \n",
    "plot_loss_with_k_and_batch(k=8, batch=64, ax=axes[1][0])\n",
    "plot_loss_with_k_and_batch(k=16, batch=64, ax=axes[1][1])   \n",
    "plot_loss_with_k_and_batch(k=64, batch=64, ax=axes[1][2])\n",
    "\n",
    "plot_loss_with_k_and_batch(k=8, batch=128, ax=axes[2][0])\n",
    "plot_loss_with_k_and_batch(k=16, batch=128, ax=axes[2][1])   \n",
    "plot_loss_with_k_and_batch(k=64, batch=128, ax=axes[2][2])\n",
    "\n",
    "\n",
    "# plt.savefig('./figures/accuracy_study.png', dpi=300)\n"
   ]
  },
  {
   "cell_type": "markdown",
   "metadata": {
    "pycharm": {
     "name": "#%% md\n"
    }
   },
   "source": [
    "#### Keep Parallelism and batch set, vary K"
   ]
  },
  {
   "cell_type": "code",
   "execution_count": null,
   "metadata": {},
   "outputs": [],
   "source": [
    "# Plot the validation lines of k=-1 and batch = 32 with different parallelism\n",
    "def plot_loss_with_parallelism_and_batch(p: int, batch:int, ax: plt.Axes = None):\n",
    "    d = df.loc[(df.parallelism==p) & (df.batch_size==batch)].sort_values(by='k', ascending=False)\n",
    "    \n",
    "    approx_k = (60000/p)/batch\n",
    "\n",
    "    plt.rc('font', size=16)\n",
    "    if ax is None:\n",
    "        f = plt.figure(figsize=(10, 5))\n",
    "        for _, row in d.iterrows():\n",
    "#             print(row.accuracy)\n",
    "            plt.plot(range(1,6), row.accuracy[:-1] if len(row.accuracy) == 6 else row.accuracy, label=str(row.k))\n",
    "        plt.xlabel('Epoch')\n",
    "        plt.ylabel('Accuracy (%)')\n",
    "        plt.title(f'Accuracy evolution with LeNet (batch={batch}, k={k})')\n",
    "        plt.legend(title='parallelism', bbox_to_anchor=(1.05, 0.8))\n",
    "        \n",
    "    else:\n",
    "        for _, row in d.iterrows():\n",
    "            label = str(row.k) if row.k != float('inf') else f'{row.k} ({int(approx_k)})'\n",
    "            ax.plot(range(1,6), row.accuracy[:-1] if len(row.accuracy) == 6 else row.accuracy, label=label)\n",
    "        ax.set_xlabel('Epoch')\n",
    "        ax.set_ylabel('Accuracy (%)')\n",
    "        ax.set_title(f'Batch={batch}, Parallelism={p}')\n",
    "        ax.legend(title='k')\n",
    "        \n",
    "\n",
    "f, axes = plt.subplots(nrows=3, ncols=3, figsize=(30, 20), sharex=True)\n",
    "\n",
    "plt.suptitle('Behavior of K, Parallelism and Batch in Accuracy')\n",
    "\n",
    "plot_loss_with_parallelism_and_batch(p=2, batch=32, ax=axes[0][0])\n",
    "plot_loss_with_parallelism_and_batch(p=4, batch=32, ax=axes[0][1])   \n",
    "plot_loss_with_parallelism_and_batch(p=8, batch=32, ax=axes[0][2])\n",
    "\n",
    "plot_loss_with_parallelism_and_batch(p=2, batch=64, ax=axes[1][0])\n",
    "plot_loss_with_parallelism_and_batch(p=4, batch=64, ax=axes[1][1])   \n",
    "plot_loss_with_parallelism_and_batch(p=8, batch=64, ax=axes[1][2])\n",
    "\n",
    "plot_loss_with_parallelism_and_batch(p=2, batch=128, ax=axes[2][0])\n",
    "plot_loss_with_parallelism_and_batch(p=4, batch=128, ax=axes[2][1])   \n",
    "plot_loss_with_parallelism_and_batch(p=8, batch=128, ax=axes[2][2])\n",
    "\n",
    "\n",
    "plt.savefig('./figures/accuracy_study_varying_k.png', dpi=300)"
   ]
  },
  {
   "cell_type": "markdown",
   "metadata": {
    "pycharm": {
     "name": "#%% md\n"
    }
   },
   "source": [
    "#### Plot 3d dependencies between K and parallelism on time and accuracy"
   ]
  },
  {
   "cell_type": "code",
   "execution_count": null,
   "metadata": {
    "pycharm": {
     "name": "#%%\n"
    }
   },
   "outputs": [],
   "source": [
    "# f, ax = plt.subplots(1, 2, projection='3d')\n",
    "\n",
    "f = plt.figure()\n",
    "ax = f.add_subplot(1, 2, 1, projection='3d')\n",
    "\n",
    "from scipy.interpolate import griddata\n",
    "X, Y = np.meshgrid(df.k.map(lambda v: 500 if v == float('inf') else v), df.parallelism)\n",
    "Z = griddata((df.k.map(lambda v: 500 if v == float('inf') else v),\n",
    "              df.parallelism),\n",
    "              df.acc, (X, Y), method='cubic')\n",
    "\n",
    "ax.plot_surface(X, Y, Z, rstride=1, cstride=1, cmap='coolwarm',\n",
    "                       linewidth=0, antialiased=False)\n"
   ]
  },
  {
   "cell_type": "code",
   "execution_count": null,
   "metadata": {
    "pycharm": {
     "name": "#%%\n"
    }
   },
   "outputs": [],
   "source": [
    "d = df.loc[df.batch==64]"
   ]
  }
 ],
 "metadata": {
  "kernelspec": {
   "display_name": "Python 3",
   "language": "python",
   "name": "python3"
  },
  "language_info": {
   "codemirror_mode": {
    "name": "ipython",
    "version": 3
   },
   "file_extension": ".py",
   "mimetype": "text/x-python",
   "name": "python",
   "nbconvert_exporter": "python",
   "pygments_lexer": "ipython3",
   "version": "3.6.8"
  }
 },
 "nbformat": 4,
 "nbformat_minor": 1
}
