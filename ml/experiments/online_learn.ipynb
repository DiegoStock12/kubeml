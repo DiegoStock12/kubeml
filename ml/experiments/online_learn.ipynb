{
 "cells": [
  {
   "cell_type": "markdown",
   "metadata": {},
   "source": [
    "# Online learning to predict performance "
   ]
  },
  {
   "cell_type": "code",
   "execution_count": 32,
   "metadata": {},
   "outputs": [],
   "source": [
    "import pandas as pd\n",
    "import numpy as np\n",
    "import seaborn as sns\n",
    "import matplotlib.pyplot as plt\n",
    "\n",
    "\n",
    "# incremental training models\n",
    "\n",
    "# Classif\n",
    "from sklearn.naive_bayes import MultinomialNB, BernoulliNB\n",
    "from sklearn.linear_model import Perceptron, SGDClassifier, PassiveAggressiveClassifier\n",
    "\n",
    "# Regression\n",
    "from sklearn.linear_model import SGDRegressor, PassiveAggressiveRegressor\n",
    "from sklearn.model_selection import train_test_split\n",
    "\n",
    "\n",
    "from sklearn.preprocessing import StandardScaler"
   ]
  },
  {
   "cell_type": "markdown",
   "metadata": {},
   "source": [
    "## Read the data"
   ]
  },
  {
   "cell_type": "code",
   "execution_count": 55,
   "metadata": {},
   "outputs": [],
   "source": [
    "df = pd.read_pickle('100experiments.pkl')\n",
    "\n",
    "\n",
    "# Set the acc to the final accuracy\n",
    "df['acc'] = df.accuracy.map(lambda a: a[-1])\n",
    "\n",
    "# Set the time to the sum of the epoch durations\n",
    "df['time'] = df.epoch_duration.map(sum)\n",
    "\n",
    "# Set the parallelism to the first since it is constant\n",
    "df.parallelism = df.parallelism.map(lambda l:l[0])\n",
    "\n",
    "# change -1 to inf so the order is right in the plot\n",
    "\n",
    "\n",
    "# ks = []\n",
    "# for p, batch, k in zip(df.parallelism, df.batch_size, df.k):\n",
    "#     ks.append(int((60000/p)/batch) if k == -1 else k)\n",
    "    \n"
   ]
  },
  {
   "cell_type": "code",
   "execution_count": 8,
   "metadata": {},
   "outputs": [
    {
     "data": {
      "text/plain": [
       "Index(['id', 'model_type', 'batch_size', 'epochs', 'dataset', 'lr',\n",
       "       'function_name', 'default_parallelism', 'static_parallelism',\n",
       "       'validate_every', 'k', 'goal_accuracy', 'validation_loss', 'accuracy',\n",
       "       'train_loss', 'parallelism', 'epoch_duration', 'acc', 'time'],\n",
       "      dtype='object')"
      ]
     },
     "execution_count": 8,
     "metadata": {},
     "output_type": "execute_result"
    }
   ],
   "source": [
    "df.columns"
   ]
  },
  {
   "cell_type": "markdown",
   "metadata": {},
   "source": [
    "## Try to fit the classifiers and compare performance"
   ]
  },
  {
   "cell_type": "code",
   "execution_count": 150,
   "metadata": {},
   "outputs": [],
   "source": [
    "# divide into train and test\n",
    "x_train, x_test = train_test_split(df, test_size=0.2, random_state=42)\n",
    "\n",
    "y_train_acc, y_train_time = x_train['acc'], x_train['time']\n",
    "y_test_acc, y_test_time = x_test['acc'], x_test['time']\n",
    "\n",
    "x_train = x_train[['batch_size', 'lr', 'default_parallelism', 'k']]\n",
    "x_test = x_test[['batch_size', 'lr', 'default_parallelism', 'k']]"
   ]
  },
  {
   "cell_type": "code",
   "execution_count": 106,
   "metadata": {},
   "outputs": [
    {
     "data": {
      "text/plain": [
       " 64    20\n",
       " 16    20\n",
       " 8     20\n",
       " 2     20\n",
       "-1     20\n",
       "Name: k, dtype: int64"
      ]
     },
     "execution_count": 106,
     "metadata": {},
     "output_type": "execute_result"
    }
   ],
   "source": [
    "x.k.value_counts()"
   ]
  },
  {
   "cell_type": "code",
   "execution_count": 158,
   "metadata": {},
   "outputs": [
    {
     "data": {
      "text/html": [
       "<div>\n",
       "<style scoped>\n",
       "    .dataframe tbody tr th:only-of-type {\n",
       "        vertical-align: middle;\n",
       "    }\n",
       "\n",
       "    .dataframe tbody tr th {\n",
       "        vertical-align: top;\n",
       "    }\n",
       "\n",
       "    .dataframe thead th {\n",
       "        text-align: right;\n",
       "    }\n",
       "</style>\n",
       "<table border=\"1\" class=\"dataframe\">\n",
       "  <thead>\n",
       "    <tr style=\"text-align: right;\">\n",
       "      <th></th>\n",
       "      <th>id</th>\n",
       "      <th>model_type</th>\n",
       "      <th>batch_size</th>\n",
       "      <th>epochs</th>\n",
       "      <th>dataset</th>\n",
       "      <th>lr</th>\n",
       "      <th>function_name</th>\n",
       "      <th>default_parallelism</th>\n",
       "      <th>static_parallelism</th>\n",
       "      <th>validate_every</th>\n",
       "      <th>k</th>\n",
       "      <th>goal_accuracy</th>\n",
       "      <th>validation_loss</th>\n",
       "      <th>accuracy</th>\n",
       "      <th>train_loss</th>\n",
       "      <th>parallelism</th>\n",
       "      <th>epoch_duration</th>\n",
       "      <th>acc</th>\n",
       "      <th>time</th>\n",
       "    </tr>\n",
       "  </thead>\n",
       "  <tbody>\n",
       "    <tr>\n",
       "      <th>15</th>\n",
       "      <td>2158db31</td>\n",
       "      <td>example</td>\n",
       "      <td>64</td>\n",
       "      <td>5</td>\n",
       "      <td>mnist</td>\n",
       "      <td>0.01</td>\n",
       "      <td>lenet</td>\n",
       "      <td>8</td>\n",
       "      <td>True</td>\n",
       "      <td>1</td>\n",
       "      <td>8</td>\n",
       "      <td>100</td>\n",
       "      <td>[1.9118105036437891, 0.7927961034379947, 0.676...</td>\n",
       "      <td>[52.29, 77.91, 82.99, 84.98, 85.95, 85.95]</td>\n",
       "      <td>[2.227595477534665, 1.1232733184181982, 0.7684...</td>\n",
       "      <td>8</td>\n",
       "      <td>[11.900906525, 8.572293294, 6.686199387, 7.045...</td>\n",
       "      <td>85.95</td>\n",
       "      <td>41.072249</td>\n",
       "    </tr>\n",
       "    <tr>\n",
       "      <th>26</th>\n",
       "      <td>3da16263</td>\n",
       "      <td>example</td>\n",
       "      <td>64</td>\n",
       "      <td>5</td>\n",
       "      <td>mnist</td>\n",
       "      <td>0.01</td>\n",
       "      <td>lenet</td>\n",
       "      <td>8</td>\n",
       "      <td>True</td>\n",
       "      <td>1</td>\n",
       "      <td>16</td>\n",
       "      <td>100</td>\n",
       "      <td>[1.2495136712766757, 0.5140166210520799, 0.424...</td>\n",
       "      <td>[57.75, 81.66, 84.05, 85.39, 85.89, 85.89]</td>\n",
       "      <td>[1.9450298844448601, 0.8569566598123249, 0.521...</td>\n",
       "      <td>8</td>\n",
       "      <td>[10.331783773, 7.830437498, 5.816976932, 6.043...</td>\n",
       "      <td>85.89</td>\n",
       "      <td>38.855955</td>\n",
       "    </tr>\n",
       "    <tr>\n",
       "      <th>27</th>\n",
       "      <td>402f1390</td>\n",
       "      <td>example</td>\n",
       "      <td>64</td>\n",
       "      <td>5</td>\n",
       "      <td>mnist</td>\n",
       "      <td>0.01</td>\n",
       "      <td>lenet</td>\n",
       "      <td>8</td>\n",
       "      <td>True</td>\n",
       "      <td>1</td>\n",
       "      <td>64</td>\n",
       "      <td>100</td>\n",
       "      <td>[1.1337818252812526, 0.21182848930738535, 0.13...</td>\n",
       "      <td>[69.28, 93.46, 95.72, 96.63, 97.27, 97.27]</td>\n",
       "      <td>[2.0933615577811993, 0.548363882081697, 0.2325...</td>\n",
       "      <td>8</td>\n",
       "      <td>[11.314345539, 8.384212163, 6.322548479, 6.772...</td>\n",
       "      <td>97.27</td>\n",
       "      <td>39.356012</td>\n",
       "    </tr>\n",
       "    <tr>\n",
       "      <th>68</th>\n",
       "      <td>9b2e6e25</td>\n",
       "      <td>example</td>\n",
       "      <td>64</td>\n",
       "      <td>5</td>\n",
       "      <td>mnist</td>\n",
       "      <td>0.01</td>\n",
       "      <td>lenet</td>\n",
       "      <td>8</td>\n",
       "      <td>True</td>\n",
       "      <td>1</td>\n",
       "      <td>2</td>\n",
       "      <td>100</td>\n",
       "      <td>[2.277480520260562, 2.165740127016784, 1.27580...</td>\n",
       "      <td>[35.08, 43.05, 64.61, 82.2, 87.79, 87.79]</td>\n",
       "      <td>[2.2910737003815376, 2.2388537331657896, 1.825...</td>\n",
       "      <td>8</td>\n",
       "      <td>[16.18150107, 13.192074094, 11.117174694, 21.0...</td>\n",
       "      <td>87.79</td>\n",
       "      <td>76.804375</td>\n",
       "    </tr>\n",
       "    <tr>\n",
       "      <th>95</th>\n",
       "      <td>f7733184</td>\n",
       "      <td>example</td>\n",
       "      <td>64</td>\n",
       "      <td>5</td>\n",
       "      <td>mnist</td>\n",
       "      <td>0.01</td>\n",
       "      <td>lenet</td>\n",
       "      <td>8</td>\n",
       "      <td>True</td>\n",
       "      <td>1</td>\n",
       "      <td>-1</td>\n",
       "      <td>100</td>\n",
       "      <td>[1.4588187522948928, 0.7854528687182506, 0.453...</td>\n",
       "      <td>[45.1, 73.47, 83.86, 85.64, 86.25, 86.25]</td>\n",
       "      <td>[2.0253294189056503, 1.097543101261815, 0.7000...</td>\n",
       "      <td>8</td>\n",
       "      <td>[13.80060439, 9.216515436, 7.289033032, 9.1800...</td>\n",
       "      <td>86.25</td>\n",
       "      <td>48.214698</td>\n",
       "    </tr>\n",
       "  </tbody>\n",
       "</table>\n",
       "</div>"
      ],
      "text/plain": [
       "          id model_type  batch_size  epochs dataset    lr function_name  \\\n",
       "15  2158db31    example          64       5   mnist  0.01         lenet   \n",
       "26  3da16263    example          64       5   mnist  0.01         lenet   \n",
       "27  402f1390    example          64       5   mnist  0.01         lenet   \n",
       "68  9b2e6e25    example          64       5   mnist  0.01         lenet   \n",
       "95  f7733184    example          64       5   mnist  0.01         lenet   \n",
       "\n",
       "    default_parallelism  static_parallelism  validate_every   k  \\\n",
       "15                    8                True               1   8   \n",
       "26                    8                True               1  16   \n",
       "27                    8                True               1  64   \n",
       "68                    8                True               1   2   \n",
       "95                    8                True               1  -1   \n",
       "\n",
       "    goal_accuracy                                    validation_loss  \\\n",
       "15            100  [1.9118105036437891, 0.7927961034379947, 0.676...   \n",
       "26            100  [1.2495136712766757, 0.5140166210520799, 0.424...   \n",
       "27            100  [1.1337818252812526, 0.21182848930738535, 0.13...   \n",
       "68            100  [2.277480520260562, 2.165740127016784, 1.27580...   \n",
       "95            100  [1.4588187522948928, 0.7854528687182506, 0.453...   \n",
       "\n",
       "                                      accuracy  \\\n",
       "15  [52.29, 77.91, 82.99, 84.98, 85.95, 85.95]   \n",
       "26  [57.75, 81.66, 84.05, 85.39, 85.89, 85.89]   \n",
       "27  [69.28, 93.46, 95.72, 96.63, 97.27, 97.27]   \n",
       "68   [35.08, 43.05, 64.61, 82.2, 87.79, 87.79]   \n",
       "95   [45.1, 73.47, 83.86, 85.64, 86.25, 86.25]   \n",
       "\n",
       "                                           train_loss  parallelism  \\\n",
       "15  [2.227595477534665, 1.1232733184181982, 0.7684...            8   \n",
       "26  [1.9450298844448601, 0.8569566598123249, 0.521...            8   \n",
       "27  [2.0933615577811993, 0.548363882081697, 0.2325...            8   \n",
       "68  [2.2910737003815376, 2.2388537331657896, 1.825...            8   \n",
       "95  [2.0253294189056503, 1.097543101261815, 0.7000...            8   \n",
       "\n",
       "                                       epoch_duration    acc       time  \n",
       "15  [11.900906525, 8.572293294, 6.686199387, 7.045...  85.95  41.072249  \n",
       "26  [10.331783773, 7.830437498, 5.816976932, 6.043...  85.89  38.855955  \n",
       "27  [11.314345539, 8.384212163, 6.322548479, 6.772...  97.27  39.356012  \n",
       "68  [16.18150107, 13.192074094, 11.117174694, 21.0...  87.79  76.804375  \n",
       "95  [13.80060439, 9.216515436, 7.289033032, 9.1800...  86.25  48.214698  "
      ]
     },
     "execution_count": 158,
     "metadata": {},
     "output_type": "execute_result"
    }
   ],
   "source": [
    "df.loc[(df.batch_size==64) & (df.parallelism==8)]"
   ]
  },
  {
   "cell_type": "code",
   "execution_count": 58,
   "metadata": {},
   "outputs": [
    {
     "name": "stdout",
     "output_type": "stream",
     "text": [
      "594.164592719591\n",
      "459.39315124290204\n"
     ]
    }
   ],
   "source": [
    "# fit the passive aggressive\n",
    "from sklearn.metrics import mean_squared_error\n",
    "\n",
    "pa = PassiveAggressiveRegressor()\n",
    "sg = SGDRegressor()\n",
    "\n",
    "for clf in [pa, sg]:\n",
    "    clf.fit(x_train, y_train)\n",
    "    y_pred = clf.predict(x_test)\n",
    "    print(mean_squared_error(y_pred, y_test))"
   ]
  },
  {
   "cell_type": "code",
   "execution_count": 104,
   "metadata": {},
   "outputs": [],
   "source": [
    "# online training\n",
    "sg = PassiveAggressiveRegressor()\n",
    "for feature, label in zip(x_train, y_train):\n",
    "#     print(feature.reshape(-1,), np.array([label]))\n",
    "    sg.partial_fit(feature.reshape(1, -1), np.array([label]))"
   ]
  },
  {
   "cell_type": "code",
   "execution_count": 100,
   "metadata": {},
   "outputs": [
    {
     "name": "stdout",
     "output_type": "stream",
     "text": [
      "818.1059058685958\n"
     ]
    }
   ],
   "source": [
    "y_pred = sg.predict(x_test)\n",
    "print(mean_squared_error(y_pred, y_test))"
   ]
  },
  {
   "cell_type": "code",
   "execution_count": 105,
   "metadata": {},
   "outputs": [
    {
     "data": {
      "text/plain": [
       "array([82.50197023])"
      ]
     },
     "execution_count": 105,
     "metadata": {},
     "output_type": "execute_result"
    }
   ],
   "source": [
    "d = s.transform(np.array([128, 0.01, 8, 16]).reshape(1,-1))\n",
    "d\n",
    "sg.predict(d)"
   ]
  },
  {
   "cell_type": "code",
   "execution_count": 126,
   "metadata": {},
   "outputs": [
    {
     "data": {
      "text/plain": [
       "[[256.0, 0.01, 1.0, 2],\n",
       " [256.0, 0.01, 1.0, 8],\n",
       " [256.0, 0.01, 1.0, 16],\n",
       " [256.0, 0.01, 1.0, 64],\n",
       " [256.0, 0.01, 1.0, -1]]"
      ]
     },
     "execution_count": 126,
     "metadata": {},
     "output_type": "execute_result"
    }
   ],
   "source": [
    "[[samples.batch_size, samples.lr, samples.default_parallelism, k] for k in Ks]"
   ]
  },
  {
   "cell_type": "code",
   "execution_count": 123,
   "metadata": {},
   "outputs": [],
   "source": [
    "Ks = [2,8, 16, 64, -1]\n",
    "\n",
    "samples = x.iloc[2]\n",
    "# [[[s.batch_size, s.lr, s.default_parallelism, K] for s in] for K in Ks]"
   ]
  },
  {
   "cell_type": "markdown",
   "metadata": {},
   "source": [
    "## Create the class for evaluating possible K levels"
   ]
  },
  {
   "cell_type": "code",
   "execution_count": 167,
   "metadata": {},
   "outputs": [],
   "source": [
    "class KOptimizer:\n",
    "    \n",
    "    Ks = [2,8, 16, 64, -1]\n",
    "    \n",
    "    def __init__(self, X, y_acc, y_time):\n",
    "        self.scaler = StandardScaler()\n",
    "        data = self.scaler.fit_transform(X)\n",
    "        self.time_reg = PassiveAggressiveRegressor(random_state=42)\n",
    "        self.acc_reg = PassiveAggressiveRegressor(random_state=42)\n",
    "        \n",
    "        # fit both regressors\n",
    "        self.time_reg.fit(data, y_time)\n",
    "        self.acc_reg.fit(data, y_acc)\n",
    "        \n",
    "    def __call__(self, X, y):\n",
    "        _x = np.array([[X.batch_size, X.lr, X.default_parallelism, k] for k in self.Ks])\n",
    "        stdata = self.scaler.transform(_x)\n",
    "        preds_acc, preds_time = self.acc_reg.predict(stdata), self.time_reg.predict(stdata)\n",
    "        print(_x, preds_acc, preds_time)\n",
    "        \n",
    "    def update(self, x: np.ndarray, time: float, acc: float):\n",
    "        _x = self.scaler.transform(x.reshape(1, -1))\n",
    "        self.time_reg.partial_fit(_x, np.array([time]))\n",
    "        self.acc_reg.partial_fit(_x, np.array([acc]))"
   ]
  },
  {
   "cell_type": "code",
   "execution_count": 173,
   "metadata": {},
   "outputs": [
    {
     "name": "stdout",
     "output_type": "stream",
     "text": [
      "[[ 6.4e+01  1.0e-02  8.0e+00  2.0e+00]\n",
      " [ 6.4e+01  1.0e-02  8.0e+00  8.0e+00]\n",
      " [ 6.4e+01  1.0e-02  8.0e+00  1.6e+01]\n",
      " [ 6.4e+01  1.0e-02  8.0e+00  6.4e+01]\n",
      " [ 6.4e+01  1.0e-02  8.0e+00 -1.0e+00]] [46.42098938 46.29519273 46.12746386 45.12109066 46.4838877 ] [ 0.38979026 -0.17957509 -0.93872889 -5.49365172  0.67447294]\n"
     ]
    }
   ],
   "source": [
    "# op = KOptimizer(x_train, y_train_acc, y_train_time)\n",
    "preds = op(df.iloc[15], df.iloc[15])\n",
    "preds"
   ]
  },
  {
   "cell_type": "code",
   "execution_count": 174,
   "metadata": {},
   "outputs": [
    {
     "name": "stdout",
     "output_type": "stream",
     "text": [
      "42.964120499\n",
      "43.45463995\n",
      "48.608870431\n",
      "49.348767040000006\n",
      "125.67063405100001\n",
      "157.845865048\n",
      "146.150401646\n",
      "77.11826426100001\n",
      "111.183158916\n",
      "91.873677077\n",
      "193.47928402899998\n",
      "30.571016984000003\n",
      "74.792759029\n",
      "127.452963605\n",
      "33.157986481\n",
      "25.206731129\n",
      "49.644195835000005\n",
      "129.857463547\n",
      "44.282958637\n",
      "242.788765065\n"
     ]
    }
   ],
   "source": [
    "for f, t, a in zip(s.transform(x_test), y_test_time, y_test_acc):\n",
    "    print(t)\n",
    "    op.update(f, t, a)"
   ]
  }
 ],
 "metadata": {
  "kernelspec": {
   "display_name": "Python 3",
   "language": "python",
   "name": "python3"
  },
  "language_info": {
   "codemirror_mode": {
    "name": "ipython",
    "version": 3
   },
   "file_extension": ".py",
   "mimetype": "text/x-python",
   "name": "python",
   "nbconvert_exporter": "python",
   "pygments_lexer": "ipython3",
   "version": "3.6.8"
  }
 },
 "nbformat": 4,
 "nbformat_minor": 4
}
