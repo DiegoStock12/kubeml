{
 "cells": [
  {
   "cell_type": "markdown",
   "metadata": {
    "collapsed": true,
    "pycharm": {
     "name": "#%% md\n"
    }
   },
   "source": [
    "# Testing the experiment classes\n"
   ]
  },
  {
   "cell_type": "code",
   "source": [
    "from torch.utils.data.dataset import T_co\n",
    "from common.experiment import KubemlExperiment, History, TrainOptions, TrainRequest"
   ],
   "metadata": {
    "collapsed": false,
    "pycharm": {
     "name": "#%%\n"
    }
   },
   "execution_count": 1,
   "outputs": [
    {
     "name": "stderr",
     "output_type": "stream",
     "text": [
      "c:\\users\\diego\\cs\\thesis\\venv\\lib\\site-packages\\numpy\\_distributor_init.py:32: UserWarning: loaded more than 1 DLL from .libs:\n",
      "c:\\users\\diego\\cs\\thesis\\venv\\lib\\site-packages\\numpy\\.libs\\libopenblas.NOIJJG62EMASZI6NYURL6JBKM4EVBGM7.gfortran-win_amd64.dll\n",
      "c:\\users\\diego\\cs\\thesis\\venv\\lib\\site-packages\\numpy\\.libs\\libopenblas.PYQHXLVVQ7VESDPUVUADXEVJOBGHJPAY.gfortran-win_amd64.dll\n",
      "  stacklevel=1)\n"
     ]
    }
   ]
  },
  {
   "cell_type": "code",
   "execution_count": 2,
   "outputs": [
    {
     "name": "stdout",
     "output_type": "stream",
     "text": [
      "{\n",
      "  \"id\": \"b71b1d11\",\n",
      "  \"task\": {\n",
      "    \"model_type\": \"example\",\n",
      "    \"batch_size\": 128,\n",
      "    \"epochs\": 5,\n",
      "    \"dataset\": \"mnist\",\n",
      "    \"lr\": 0.01,\n",
      "    \"function_name\": \"network\",\n",
      "    \"options\": {\n",
      "      \"default_parallelism\": 5,\n",
      "      \"static_parallelism\": true,\n",
      "      \"validate_every\": 0,\n",
      "      \"k\": 10,\n",
      "      \"goal_accuracy\": 90\n",
      "    }\n",
      "  },\n",
      "  \"data\": {\n",
      "    \"validation_loss\": [\n",
      "      0.2873407344818115\n",
      "    ],\n",
      "    \"accuracy\": [\n",
      "      91.4\n",
      "    ],\n",
      "    \"train_loss\": [\n",
      "      3.2260020107030867,\n",
      "      1.1191881984472274,\n",
      "      0.6412935853004456,\n",
      "      0.533321401849389,\n",
      "      0.43479404859244825\n",
      "    ],\n",
      "    \"parallelism\": [\n",
      "      5,\n",
      "      5,\n",
      "      5,\n",
      "      5,\n",
      "      5\n",
      "    ],\n",
      "    \"epoch_duration\": [\n",
      "      5.311429519,\n",
      "      2.815807104,\n",
      "      2.785033174,\n",
      "      3.161798912,\n",
      "      2.781011169\n",
      "    ]\n",
      "  }\n",
      "}\n",
      "\n"
     ]
    }
   ],
   "source": [
    "# read the json\n",
    "with open('./data/5.json', 'r') as f:\n",
    "    content = f.read()\n",
    "\n",
    "\n",
    "print(content)"
   ],
   "metadata": {
    "collapsed": false,
    "pycharm": {
     "name": "#%%\n"
    }
   }
  },
  {
   "cell_type": "code",
   "execution_count": 4,
   "outputs": [],
   "source": [
    "# read the content into a class\n",
    "\n",
    "h = History.from_json(content)\n",
    "\n",
    "exp = KubemlExperiment(\"test\", None)\n",
    "exp.history = h\n",
    "exp.network_id = h.id\n",
    "\n",
    "exp.save('./tests/')\n"
   ],
   "metadata": {
    "collapsed": false,
    "pycharm": {
     "name": "#%%\n"
    }
   }
  },
  {
   "cell_type": "code",
   "execution_count": 6,
   "outputs": [
    {
     "data": {
      "text/plain": "         id model_type  batch_size  epochs dataset    lr function_name  \\\n0  b71b1d11    example         128       5   mnist  0.01       network   \n0  b71b1d11    example         128       5   mnist  0.01       network   \n\n   default_parallelism  static_parallelism  validate_every   k  goal_accuracy  \\\n0                    5                True               0  10             90   \n0                    5                True               0  10             90   \n\n        validation_loss accuracy  \\\n0  [0.2873407344818115]   [91.4]   \n0  [0.2873407344818115]   [91.4]   \n\n                                          train_loss      parallelism  \\\n0  [3.2260020107030867, 1.1191881984472274, 0.641...  [5, 5, 5, 5, 5]   \n0  [3.2260020107030867, 1.1191881984472274, 0.641...  [5, 5, 5, 5, 5]   \n\n                                      epoch_duration  \n0  [5.311429519, 2.815807104, 2.785033174, 3.1617...  \n0  [5.311429519, 2.815807104, 2.785033174, 3.1617...  ",
      "text/html": "<div>\n<style scoped>\n    .dataframe tbody tr th:only-of-type {\n        vertical-align: middle;\n    }\n\n    .dataframe tbody tr th {\n        vertical-align: top;\n    }\n\n    .dataframe thead th {\n        text-align: right;\n    }\n</style>\n<table border=\"1\" class=\"dataframe\">\n  <thead>\n    <tr style=\"text-align: right;\">\n      <th></th>\n      <th>id</th>\n      <th>model_type</th>\n      <th>batch_size</th>\n      <th>epochs</th>\n      <th>dataset</th>\n      <th>lr</th>\n      <th>function_name</th>\n      <th>default_parallelism</th>\n      <th>static_parallelism</th>\n      <th>validate_every</th>\n      <th>k</th>\n      <th>goal_accuracy</th>\n      <th>validation_loss</th>\n      <th>accuracy</th>\n      <th>train_loss</th>\n      <th>parallelism</th>\n      <th>epoch_duration</th>\n    </tr>\n  </thead>\n  <tbody>\n    <tr>\n      <th>0</th>\n      <td>b71b1d11</td>\n      <td>example</td>\n      <td>128</td>\n      <td>5</td>\n      <td>mnist</td>\n      <td>0.01</td>\n      <td>network</td>\n      <td>5</td>\n      <td>True</td>\n      <td>0</td>\n      <td>10</td>\n      <td>90</td>\n      <td>[0.2873407344818115]</td>\n      <td>[91.4]</td>\n      <td>[3.2260020107030867, 1.1191881984472274, 0.641...</td>\n      <td>[5, 5, 5, 5, 5]</td>\n      <td>[5.311429519, 2.815807104, 2.785033174, 3.1617...</td>\n    </tr>\n    <tr>\n      <th>0</th>\n      <td>b71b1d11</td>\n      <td>example</td>\n      <td>128</td>\n      <td>5</td>\n      <td>mnist</td>\n      <td>0.01</td>\n      <td>network</td>\n      <td>5</td>\n      <td>True</td>\n      <td>0</td>\n      <td>10</td>\n      <td>90</td>\n      <td>[0.2873407344818115]</td>\n      <td>[91.4]</td>\n      <td>[3.2260020107030867, 1.1191881984472274, 0.641...</td>\n      <td>[5, 5, 5, 5, 5]</td>\n      <td>[5.311429519, 2.815807104, 2.785033174, 3.1617...</td>\n    </tr>\n  </tbody>\n</table>\n</div>"
     },
     "execution_count": 6,
     "metadata": {},
     "output_type": "execute_result"
    }
   ],
   "source": [
    "import pandas as pd\n",
    "e = pd.read_pickle('./tests/b71b1d11.pkl')\n",
    "e2 = pd.read_pickle('./tests/other.pkl')\n",
    "\n",
    "pd.concat([e, e2])"
   ],
   "metadata": {
    "collapsed": false,
    "pycharm": {
     "name": "#%%\n"
    }
   }
  },
  {
   "cell_type": "code",
   "execution_count": 17,
   "outputs": [
    {
     "data": {
      "text/plain": "         id model_type  batch_size  epochs dataset    lr function_name  \\\n0  b71b1d11    example         128       5   mnist  0.01       network   \n\n   default_parallelism  static_parallelism  validate_every   k  goal_accuracy  \\\n0                    5                True               0  10             90   \n\n        validation_loss accuracy  \\\n0  [0.2873407344818115]   [91.4]   \n\n                                          train_loss      parallelism  \\\n0  [3.2260020107030867, 1.1191881984472274, 0.641...  [5, 5, 5, 5, 5]   \n\n                                      epoch_duration  \n0  [5.311429519, 2.815807104, 2.785033174, 3.1617...  ",
      "text/html": "<div>\n<style scoped>\n    .dataframe tbody tr th:only-of-type {\n        vertical-align: middle;\n    }\n\n    .dataframe tbody tr th {\n        vertical-align: top;\n    }\n\n    .dataframe thead th {\n        text-align: right;\n    }\n</style>\n<table border=\"1\" class=\"dataframe\">\n  <thead>\n    <tr style=\"text-align: right;\">\n      <th></th>\n      <th>id</th>\n      <th>model_type</th>\n      <th>batch_size</th>\n      <th>epochs</th>\n      <th>dataset</th>\n      <th>lr</th>\n      <th>function_name</th>\n      <th>default_parallelism</th>\n      <th>static_parallelism</th>\n      <th>validate_every</th>\n      <th>k</th>\n      <th>goal_accuracy</th>\n      <th>validation_loss</th>\n      <th>accuracy</th>\n      <th>train_loss</th>\n      <th>parallelism</th>\n      <th>epoch_duration</th>\n    </tr>\n  </thead>\n  <tbody>\n    <tr>\n      <th>0</th>\n      <td>b71b1d11</td>\n      <td>example</td>\n      <td>128</td>\n      <td>5</td>\n      <td>mnist</td>\n      <td>0.01</td>\n      <td>network</td>\n      <td>5</td>\n      <td>True</td>\n      <td>0</td>\n      <td>10</td>\n      <td>90</td>\n      <td>[0.2873407344818115]</td>\n      <td>[91.4]</td>\n      <td>[3.2260020107030867, 1.1191881984472274, 0.641...</td>\n      <td>[5, 5, 5, 5, 5]</td>\n      <td>[5.311429519, 2.815807104, 2.785033174, 3.1617...</td>\n    </tr>\n  </tbody>\n</table>\n</div>"
     },
     "execution_count": 17,
     "metadata": {},
     "output_type": "execute_result"
    }
   ],
   "source": [
    "h.to_dict()\n",
    "\n",
    "new = {\"id\": h.id,\n",
    "       **h.task.to_dict(),\n",
    "       **h.task.options.to_dict()\n",
    "       }\n",
    "\n",
    "del new['options']\n",
    "\n",
    "new\n",
    "\n",
    "# # need to wrap the metrics in arrays\n",
    "for k, v in h.data.to_dict().items():\n",
    "    new[k] = [v]\n",
    "\n",
    "new\n",
    "#\n",
    "import pandas as pd\n",
    "\n",
    "pd.DataFrame(new)\n",
    "\n"
   ],
   "metadata": {
    "collapsed": false,
    "pycharm": {
     "name": "#%%\n"
    }
   }
  },
  {
   "cell_type": "markdown",
   "source": [
    "### Test the experiment class"
   ],
   "metadata": {
    "collapsed": false,
    "pycharm": {
     "name": "#%% md\n"
    }
   }
  },
  {
   "cell_type": "code",
   "execution_count": 4,
   "outputs": [
    {
     "data": {
      "text/plain": "<common.experiment.KubemlExperiment at 0x2465c982208>"
     },
     "execution_count": 4,
     "metadata": {},
     "output_type": "execute_result"
    }
   ],
   "source": [
    "request = TrainRequest(\n",
    "    model_type='example',\n",
    "    function_name='resnet',\n",
    "    dataset='cifar10',\n",
    "    lr=0.01,\n",
    "    batch_size=32,\n",
    "    epochs= 10,\n",
    "    options= TrainOptions(\n",
    "        default_parallelism=5,\n",
    "        static_parallelism=True,\n",
    "        validate_every=1,\n",
    "        k = 10,\n",
    "        goal_accuracy=90.0\n",
    "    )\n",
    ")\n",
    "\n",
    "exp = KubemlExperiment(title='test experiment', request=request)\n",
    "exp.network_id = '85878038'\n",
    "exp.history = h\n",
    "\n",
    "exp"
   ],
   "metadata": {
    "collapsed": false,
    "pycharm": {
     "name": "#%%\n"
    }
   }
  },
  {
   "cell_type": "code",
   "execution_count": 5,
   "outputs": [
    {
     "name": "stdout",
     "output_type": "stream",
     "text": [
      "Checking running tasks C:/Users/diego/CS/thesis/ml/pkg/kubeml-cli/kubeml-cli.exe task list --short\n",
      "error running command ['C:/Users/diego/CS/thesis/ml/pkg/kubeml-cli/kubeml-cli.exe', 'task', 'list', '--short'] Error: error creating kubernetes client: invalid configuration: no configuration has been provided\n",
      "Usage:\n",
      "  kubeml task list [flags]\n",
      "\n",
      "Flags:\n",
      "  -h, --help    help for list\n",
      "      --short   Trigger short format\n",
      "\n",
      "\n"
     ]
    },
    {
     "ename": "NameError",
     "evalue": "name 'exit' is not defined",
     "output_type": "error",
     "traceback": [
      "\u001B[1;31m---------------------------------------------------------------------------\u001B[0m",
      "\u001B[1;31mNameError\u001B[0m                                 Traceback (most recent call last)",
      "\u001B[1;32m<ipython-input-5-857b779f5a0d>\u001B[0m in \u001B[0;36m<module>\u001B[1;34m\u001B[0m\n\u001B[0;32m      2\u001B[0m \u001B[0mexp\u001B[0m\u001B[1;33m.\u001B[0m\u001B[0mnetwork_id\u001B[0m \u001B[1;33m=\u001B[0m \u001B[1;34m'85878038'\u001B[0m\u001B[1;33m\u001B[0m\u001B[1;33m\u001B[0m\u001B[0m\n\u001B[0;32m      3\u001B[0m \u001B[1;33m\u001B[0m\u001B[0m\n\u001B[1;32m----> 4\u001B[1;33m \u001B[0mexp\u001B[0m\u001B[1;33m.\u001B[0m\u001B[0mcheck_if_task_finished\u001B[0m\u001B[1;33m(\u001B[0m\u001B[1;33m)\u001B[0m\u001B[1;33m\u001B[0m\u001B[1;33m\u001B[0m\u001B[0m\n\u001B[0m\u001B[0;32m      5\u001B[0m \u001B[1;33m\u001B[0m\u001B[0m\n",
      "\u001B[1;32m~\\CS\\thesis\\ml\\experiments\\common\\experiment.py\u001B[0m in \u001B[0;36mcheck_if_task_finished\u001B[1;34m(self)\u001B[0m\n\u001B[0;32m    121\u001B[0m \u001B[1;33m\u001B[0m\u001B[0m\n\u001B[0;32m    122\u001B[0m         \u001B[0mres\u001B[0m \u001B[1;33m=\u001B[0m \u001B[0msubprocess\u001B[0m\u001B[1;33m.\u001B[0m\u001B[0mrun\u001B[0m\u001B[1;33m(\u001B[0m\u001B[0mcommand\u001B[0m\u001B[1;33m.\u001B[0m\u001B[0msplit\u001B[0m\u001B[1;33m(\u001B[0m\u001B[1;33m)\u001B[0m\u001B[1;33m,\u001B[0m \u001B[0mstdout\u001B[0m\u001B[1;33m=\u001B[0m\u001B[0msubprocess\u001B[0m\u001B[1;33m.\u001B[0m\u001B[0mPIPE\u001B[0m\u001B[1;33m,\u001B[0m \u001B[0mstderr\u001B[0m\u001B[1;33m=\u001B[0m\u001B[0msubprocess\u001B[0m\u001B[1;33m.\u001B[0m\u001B[0mPIPE\u001B[0m\u001B[1;33m)\u001B[0m\u001B[1;33m\u001B[0m\u001B[1;33m\u001B[0m\u001B[0m\n\u001B[1;32m--> 123\u001B[1;33m         \u001B[0mcheck_stderr\u001B[0m\u001B[1;33m(\u001B[0m\u001B[0mres\u001B[0m\u001B[1;33m)\u001B[0m\u001B[1;33m\u001B[0m\u001B[1;33m\u001B[0m\u001B[0m\n\u001B[0m\u001B[0;32m    124\u001B[0m \u001B[1;33m\u001B[0m\u001B[0m\n\u001B[0;32m    125\u001B[0m         \u001B[1;31m# get all the tasks running\u001B[0m\u001B[1;33m\u001B[0m\u001B[1;33m\u001B[0m\u001B[1;33m\u001B[0m\u001B[0m\n",
      "\u001B[1;32m~\\CS\\thesis\\ml\\experiments\\common\\utils.py\u001B[0m in \u001B[0;36mcheck_stderr\u001B[1;34m(res)\u001B[0m\n\u001B[0;32m     12\u001B[0m         \u001B[1;32mreturn\u001B[0m\u001B[1;33m\u001B[0m\u001B[1;33m\u001B[0m\u001B[0m\n\u001B[0;32m     13\u001B[0m     \u001B[0mprint\u001B[0m\u001B[1;33m(\u001B[0m\u001B[1;34m\"error running command\"\u001B[0m\u001B[1;33m,\u001B[0m \u001B[0mres\u001B[0m\u001B[1;33m.\u001B[0m\u001B[0margs\u001B[0m\u001B[1;33m,\u001B[0m \u001B[0mres\u001B[0m\u001B[1;33m.\u001B[0m\u001B[0mstderr\u001B[0m\u001B[1;33m.\u001B[0m\u001B[0mdecode\u001B[0m\u001B[1;33m(\u001B[0m\u001B[1;33m)\u001B[0m\u001B[1;33m)\u001B[0m\u001B[1;33m\u001B[0m\u001B[1;33m\u001B[0m\u001B[0m\n\u001B[1;32m---> 14\u001B[1;33m     \u001B[0mexit\u001B[0m\u001B[1;33m(\u001B[0m\u001B[1;33m-\u001B[0m\u001B[1;36m1\u001B[0m\u001B[1;33m)\u001B[0m\u001B[1;33m\u001B[0m\u001B[1;33m\u001B[0m\u001B[0m\n\u001B[0m\u001B[0;32m     15\u001B[0m \u001B[1;33m\u001B[0m\u001B[0m\n\u001B[0;32m     16\u001B[0m \u001B[1;33m\u001B[0m\u001B[0m\n",
      "\u001B[1;31mNameError\u001B[0m: name 'exit' is not defined"
     ]
    }
   ],
   "source": [
    "exp = KubemlExperiment('test', request= request)\n",
    "exp.network_id = '85878038'\n",
    "\n",
    "exp.check_if_task_finished()"
   ],
   "metadata": {
    "collapsed": false,
    "pycharm": {
     "name": "#%%\n"
    }
   }
  },
  {
   "cell_type": "markdown",
   "source": [
    "## Download the datasets"
   ],
   "metadata": {
    "collapsed": false
   }
  },
  {
   "cell_type": "code",
   "execution_count": 6,
   "outputs": [],
   "source": [
    "import torch\n",
    "import torchvision.datasets as datasets"
   ],
   "metadata": {
    "collapsed": false,
    "pycharm": {
     "name": "#%%\n"
    }
   }
  },
  {
   "cell_type": "markdown",
   "source": [
    "#### Mnist dataset"
   ],
   "metadata": {
    "collapsed": false,
    "pycharm": {
     "name": "#%% md\n"
    }
   }
  },
  {
   "cell_type": "code",
   "execution_count": 2,
   "outputs": [],
   "source": [
    "from torchvision import transforms\n",
    "from torch.utils.data import Dataset, DataLoader\n",
    "\n",
    "transform = transforms.Compose(\n",
    "    [transforms.ToTensor(),\n",
    "     transforms.Normalize((0.5, 0.5, 0.5), (0.5, 0.5, 0.5))])\n",
    "\n",
    "cifar10_tr = datasets.CIFAR10(root='./datasets/cifar10/', train=True, download=False, transform=None)\n",
    "cifar10_test = datasets.CIFAR10(root='./datasets/cifar10/', train=False, download=False, transform=None)"
   ],
   "metadata": {
    "collapsed": false,
    "pycharm": {
     "name": "#%%\n"
    }
   }
  },
  {
   "cell_type": "code",
   "execution_count": 8,
   "outputs": [
    {
     "data": {
      "text/plain": "(15, 32, 32, 3)"
     },
     "execution_count": 8,
     "metadata": {},
     "output_type": "execute_result"
    }
   ],
   "source": [
    "import keras\n",
    "from keras.datasets import mnist, cifar10, cifar100\n",
    "import numpy as np\n",
    "\n",
    "file_names = ['x_train', 'y_train', 'x_test', 'y_test']\n"
   ],
   "metadata": {
    "collapsed": false,
    "pycharm": {
     "name": "#%%\n"
    }
   }
  },
  {
   "cell_type": "code",
   "execution_count": 15,
   "outputs": [
    {
     "name": "stdout",
     "output_type": "stream",
     "text": [
      "Saving data of shape (60000, 28, 28), to file ./datasets/mnist/mnist_x_train.npy\n",
      "Saving data of shape (60000,), to file ./datasets/mnist/mnist_y_train.npy\n",
      "Saving data of shape (10000, 28, 28), to file ./datasets/mnist/mnist_x_test.npy\n",
      "Saving data of shape (10000,), to file ./datasets/mnist/mnist_y_test.npy\n"
     ]
    }
   ],
   "source": [
    "((trainX, trainY), (testX, testY)) = mnist.load_data()\n",
    "\n",
    "# save the different train and test arrays in the datasets folder\n",
    "\n",
    "for name, data in zip(file_names, [trainX, trainY, testX, testY]):\n",
    "    n = f'./datasets/mnist/mnist_{name}.npy'\n",
    "    with open(n, 'wb') as f:\n",
    "        print(f'Saving data of shape {data.shape}, to file {n}')\n",
    "        np.save(n, data)"
   ],
   "metadata": {
    "collapsed": false,
    "pycharm": {
     "name": "#%%\n"
    }
   }
  },
  {
   "cell_type": "markdown",
   "source": [
    "### Cifar10 dataset"
   ],
   "metadata": {
    "collapsed": false,
    "pycharm": {
     "name": "#%% md\n"
    }
   }
  },
  {
   "cell_type": "code",
   "execution_count": 11,
   "outputs": [
    {
     "name": "stdout",
     "output_type": "stream",
     "text": [
      "Saving data of shape (50000, 32, 32, 3), to file ./datasets/cifar10/cifar10_x_train.npy\n",
      "Saving data of shape (50000, 1), to file ./datasets/cifar10/cifar10_y_train.npy\n",
      "Saving data of shape (10000, 32, 32, 3), to file ./datasets/cifar10/cifar10_x_test.npy\n",
      "Saving data of shape (10000, 1), to file ./datasets/cifar10/cifar10_y_test.npy\n"
     ]
    }
   ],
   "source": [
    "((trainX, trainY), (testX, testY)) = cifar10.load_data()\n",
    "\n",
    "\n",
    "for name, data in zip(file_names, [trainX, trainY, testX, testY]):\n",
    "    n = f'./datasets/cifar10/cifar10_{name}.npy'\n",
    "    with open(n, 'wb') as f:\n",
    "        print(f'Saving data of shape {data.shape}, to file {n}')\n",
    "        np.save(n, data)"
   ],
   "metadata": {
    "collapsed": false,
    "pycharm": {
     "name": "#%%\n"
    }
   }
  },
  {
   "cell_type": "markdown",
   "source": [
    "\n",
    "### Cifar100 dataset"
   ],
   "metadata": {
    "collapsed": false,
    "pycharm": {
     "name": "#%% md\n"
    }
   }
  },
  {
   "cell_type": "code",
   "execution_count": 14,
   "outputs": [
    {
     "name": "stdout",
     "output_type": "stream",
     "text": [
      "Saving data of shape (50000, 32, 32, 3), to file ./datasets/cifar100/cifar100_x_train.npy\n",
      "Saving data of shape (50000, 1), to file ./datasets/cifar100/cifar100_y_train.npy\n",
      "Saving data of shape (10000, 32, 32, 3), to file ./datasets/cifar100/cifar100_x_test.npy\n",
      "Saving data of shape (10000, 1), to file ./datasets/cifar100/cifar100_y_test.npy\n"
     ]
    }
   ],
   "source": [
    "((trainX, trainY), (testX, testY)) = cifar100.load_data()\n",
    "\n",
    "\n",
    "for name, data in zip(file_names, [trainX, trainY, testX, testY]):\n",
    "    n = f'./datasets/cifar100/cifar100_{name}.npy'\n",
    "    with open(n, 'wb') as f:\n",
    "        print(f'Saving data of shape {data.shape}, to file {n}')\n",
    "        np.save(n, data)"
   ],
   "metadata": {
    "collapsed": false,
    "pycharm": {
     "name": "#%%\n"
    }
   }
  },
  {
   "cell_type": "markdown",
   "source": [
    "## Try to load the data in a custom made dataset"
   ],
   "metadata": {
    "collapsed": false,
    "pycharm": {
     "name": "#%% md\n"
    }
   }
  },
  {
   "cell_type": "code",
   "execution_count": 17,
   "outputs": [],
   "source": [
    "\n",
    "class Cifar10Dataset(Dataset):\n",
    "\n",
    "    transform = transforms.Compose(\n",
    "        [transforms.ToTensor(),\n",
    "        transforms.Normalize((0.5, 0.5, 0.5), (0.5, 0.5, 0.5))])\n",
    "\n",
    "    def __init__(self):\n",
    "        # load the train data and labels\n",
    "        self.data = np.load('datasets/cifar10/cifar10_x_train.npy')\n",
    "        self.targets = np.load('datasets/cifar10/cifar10_y_train.npy')\n",
    "\n",
    "    def __len__(self):\n",
    "        return len(self.data)\n",
    "\n",
    "    def __getitem__(self, index):\n",
    "        return self.transform(self.data[index]), self.targets[index]"
   ],
   "metadata": {
    "collapsed": false,
    "pycharm": {
     "name": "#%%\n"
    }
   }
  },
  {
   "cell_type": "code",
   "execution_count": 18,
   "outputs": [],
   "source": [
    "d = Cifar10Dataset()\n"
   ],
   "metadata": {
    "collapsed": false,
    "pycharm": {
     "name": "#%%\n"
    }
   }
  },
  {
   "cell_type": "code",
   "execution_count": 24,
   "outputs": [],
   "source": [
    "loader = DataLoader(d, batch_size=16)\n",
    "i = iter(loader)\n"
   ],
   "metadata": {
    "collapsed": false,
    "pycharm": {
     "name": "#%%\n"
    }
   }
  },
  {
   "cell_type": "code",
   "execution_count": 25,
   "outputs": [],
   "source": [
    "a = next(i)"
   ],
   "metadata": {
    "collapsed": false,
    "pycharm": {
     "name": "#%%\n"
    }
   }
  },
  {
   "cell_type": "code",
   "execution_count": 27,
   "outputs": [
    {
     "data": {
      "text/plain": "tensor([[[[-0.5373, -0.6627, -0.6078,  ...,  0.2392,  0.1922,  0.1608],\n          [-0.8745, -1.0000, -0.8588,  ..., -0.0353, -0.0667, -0.0431],\n          [-0.8039, -0.8745, -0.6157,  ..., -0.0745, -0.0588, -0.1451],\n          ...,\n          [ 0.6314,  0.5765,  0.5529,  ...,  0.2549, -0.5608, -0.5843],\n          [ 0.4118,  0.3569,  0.4588,  ...,  0.4431, -0.2392, -0.3490],\n          [ 0.3882,  0.3176,  0.4039,  ...,  0.6941,  0.1843, -0.0353]],\n\n         [[-0.5137, -0.6392, -0.6235,  ...,  0.0353, -0.0196, -0.0275],\n          [-0.8431, -1.0000, -0.9373,  ..., -0.3098, -0.3490, -0.3176],\n          [-0.8118, -0.9451, -0.7882,  ..., -0.3412, -0.3412, -0.4275],\n          ...,\n          [ 0.3333,  0.2000,  0.2627,  ...,  0.0431, -0.7569, -0.7333],\n          [ 0.0902, -0.0353,  0.1294,  ...,  0.1608, -0.5137, -0.5843],\n          [ 0.1294,  0.0118,  0.1137,  ...,  0.4431, -0.0745, -0.2784]],\n\n         [[-0.5059, -0.6471, -0.6627,  ..., -0.1529, -0.2000, -0.1922],\n          [-0.8431, -1.0000, -1.0000,  ..., -0.5686, -0.6078, -0.5529],\n          [-0.8353, -1.0000, -0.9373,  ..., -0.6078, -0.6078, -0.6706],\n          ...,\n          [-0.2471, -0.7333, -0.7961,  ..., -0.4510, -0.9451, -0.8431],\n          [-0.2471, -0.6706, -0.7647,  ..., -0.2627, -0.7333, -0.7333],\n          [-0.0902, -0.2627, -0.3176,  ...,  0.0980, -0.3412, -0.4353]]],\n\n\n        [[[ 0.2078, -0.0118, -0.1765,  ..., -0.2863, -0.3176, -0.3804],\n          [ 0.0980,  0.1373, -0.0196,  ..., -0.2471, -0.3961, -0.4431],\n          [ 0.0980,  0.0902, -0.0980,  ..., -0.3804, -0.4667, -0.4745],\n          ...,\n          [ 0.3725,  0.2235,  0.2078,  ..., -0.6706, -0.5216, -0.2706],\n          [ 0.2941,  0.2235,  0.2471,  ..., -0.1922, -0.0353,  0.0275],\n          [ 0.2784,  0.2392,  0.2784,  ...,  0.1216,  0.1216,  0.1216]],\n\n         [[ 0.3882,  0.0745, -0.1843,  ..., -0.2549, -0.2941, -0.3647],\n          [ 0.2549,  0.2000, -0.0196,  ..., -0.2235, -0.3725, -0.4275],\n          [ 0.2157,  0.1451, -0.0980,  ..., -0.3569, -0.4510, -0.4588],\n          ...,\n          [ 0.3098,  0.2078,  0.2549,  ..., -0.7333, -0.5843, -0.3490],\n          [ 0.2078,  0.1922,  0.2627,  ..., -0.2706, -0.1059, -0.0510],\n          [ 0.1608,  0.1608,  0.2235,  ...,  0.0431,  0.0510,  0.0431]],\n\n         [[ 0.4667,  0.0667, -0.2549,  ..., -0.4431, -0.4431, -0.4510],\n          [ 0.3255,  0.2078, -0.0745,  ..., -0.3882, -0.5137, -0.5216],\n          [ 0.2863,  0.1686, -0.1216,  ..., -0.4980, -0.5686, -0.5686],\n          ...,\n          [ 0.3020,  0.2549,  0.3333,  ..., -0.7176, -0.5529, -0.2863],\n          [ 0.0039,  0.0196,  0.1137,  ..., -0.2471, -0.0588,  0.0275],\n          [-0.0588, -0.0431,  0.0431,  ...,  0.0902,  0.1137,  0.1294]]],\n\n\n        [[[ 1.0000,  0.9843,  0.9843,  ...,  0.9843,  0.9843,  0.9843],\n          [ 1.0000,  1.0000,  1.0000,  ...,  1.0000,  1.0000,  1.0000],\n          [ 1.0000,  0.9922,  0.9922,  ...,  0.9922,  0.9922,  0.9922],\n          ...,\n          [-0.1137, -0.1294, -0.1765,  ..., -0.4353, -0.4353, -0.4353],\n          [-0.1294, -0.1843, -0.2235,  ..., -0.4667, -0.4510, -0.3882],\n          [-0.1686, -0.2235, -0.2549,  ..., -0.3882, -0.3804, -0.3725]],\n\n         [[ 1.0000,  0.9843,  0.9843,  ...,  0.9843,  0.9843,  0.9843],\n          [ 1.0000,  1.0000,  1.0000,  ...,  1.0000,  1.0000,  1.0000],\n          [ 1.0000,  0.9922,  0.9922,  ...,  0.9922,  0.9922,  0.9922],\n          ...,\n          [-0.0588, -0.0745, -0.1216,  ..., -0.3647, -0.3725, -0.3725],\n          [-0.0745, -0.1294, -0.1686,  ..., -0.4118, -0.4039, -0.3412],\n          [-0.1137, -0.1686, -0.2000,  ..., -0.3333, -0.3333, -0.3255]],\n\n         [[ 1.0000,  0.9843,  0.9843,  ...,  0.9843,  0.9843,  0.9843],\n          [ 1.0000,  1.0000,  1.0000,  ...,  1.0000,  1.0000,  1.0000],\n          [ 1.0000,  0.9922,  0.9922,  ...,  0.9922,  0.9922,  0.9922],\n          ...,\n          [-0.1216, -0.1294, -0.1686,  ..., -0.3725, -0.3804, -0.3804],\n          [-0.1373, -0.1843, -0.2314,  ..., -0.4275, -0.4118, -0.3569],\n          [-0.1765, -0.2314, -0.2627,  ..., -0.3490, -0.3490, -0.3412]]],\n\n\n        ...,\n\n\n        [[[-0.8667, -0.8667, -0.8667,  ..., -0.8196, -0.8275, -0.8510],\n          [-0.8588, -0.8588, -0.8588,  ..., -0.8118, -0.8196, -0.8275],\n          [-0.8588, -0.8588, -0.8510,  ..., -0.8118, -0.8196, -0.8196],\n          ...,\n          [ 0.7020,  0.7725,  0.6471,  ..., -0.7412, -0.7490, -0.7412],\n          [ 0.7176,  0.7412,  0.6784,  ..., -0.7255, -0.7333, -0.7412],\n          [ 0.6471,  0.7333,  0.6863,  ..., -0.7176, -0.7333, -0.7490]],\n\n         [[-0.9765, -0.9765, -0.9843,  ..., -0.8980, -0.9059, -0.9294],\n          [-0.9686, -0.9686, -0.9686,  ..., -0.8902, -0.8980, -0.9059],\n          [-0.9686, -0.9686, -0.9608,  ..., -0.8902, -0.8980, -0.8980],\n          ...,\n          [ 0.6784,  0.7176,  0.5765,  ..., -0.8118, -0.8196, -0.8118],\n          [ 0.6863,  0.6863,  0.6314,  ..., -0.7961, -0.8039, -0.8118],\n          [ 0.6314,  0.6941,  0.6627,  ..., -0.7882, -0.8039, -0.8196]],\n\n         [[-0.9843, -0.9843, -0.9922,  ..., -0.9137, -0.9216, -0.9451],\n          [-0.9765, -0.9765, -0.9765,  ..., -0.9059, -0.9137, -0.9216],\n          [-0.9765, -0.9765, -0.9686,  ..., -0.9059, -0.9137, -0.9137],\n          ...,\n          [ 0.7490,  0.7804,  0.6706,  ..., -0.8667, -0.8745, -0.8667],\n          [ 0.8039,  0.7961,  0.7647,  ..., -0.8510, -0.8588, -0.8667],\n          [ 0.7490,  0.7961,  0.7804,  ..., -0.8431, -0.8588, -0.8745]]],\n\n\n        [[[-0.2157, -0.2314, -0.2235,  ...,  0.2941,  0.2784,  0.2941],\n          [-0.2078, -0.2157, -0.2157,  ...,  0.2863,  0.2784,  0.2471],\n          [-0.1765, -0.1843, -0.1843,  ...,  0.2235,  0.0667, -0.1059],\n          ...,\n          [ 0.3020,  0.3020,  0.3176,  ...,  0.0745,  0.0745,  0.1529],\n          [ 0.2627,  0.2706,  0.3098,  ...,  0.0275,  0.0824,  0.0745],\n          [ 0.2863,  0.2706,  0.2863,  ...,  0.2000,  0.2314,  0.2235]],\n\n         [[ 0.1451,  0.1294,  0.1294,  ...,  0.2941,  0.2784,  0.2941],\n          [ 0.1373,  0.1216,  0.1216,  ...,  0.2627,  0.2706,  0.2627],\n          [ 0.1529,  0.1373,  0.1373,  ...,  0.1765,  0.0431, -0.0824],\n          ...,\n          [ 0.2235,  0.2235,  0.2314,  ..., -0.0039, -0.0118,  0.0667],\n          [ 0.1922,  0.2000,  0.2392,  ..., -0.0196,  0.0431,  0.0353],\n          [ 0.2392,  0.2235,  0.2392,  ...,  0.1451,  0.1843,  0.1765]],\n\n         [[ 0.5059,  0.4824,  0.4824,  ...,  0.2941,  0.2784,  0.2941],\n          [ 0.4745,  0.4588,  0.4588,  ...,  0.2471,  0.2471,  0.2314],\n          [ 0.4824,  0.4588,  0.4667,  ...,  0.1529,  0.0118, -0.1294],\n          ...,\n          [ 0.1765,  0.1843,  0.1922,  ..., -0.1216, -0.1059, -0.0039],\n          [ 0.1686,  0.1765,  0.2157,  ..., -0.0824, -0.0275, -0.0588],\n          [ 0.2157,  0.2000,  0.2157,  ...,  0.0902,  0.1059,  0.0745]]],\n\n\n        [[[-0.2157, -0.2157, -0.2078,  ..., -0.2549, -0.2627, -0.2549],\n          [-0.1922, -0.1922, -0.1843,  ..., -0.2392, -0.2392, -0.2392],\n          [-0.1608, -0.1686, -0.1686,  ..., -0.2157, -0.2157, -0.2078],\n          ...,\n          [ 0.2941,  0.2471,  0.3098,  ..., -0.4118, -0.4118, -0.4353],\n          [ 0.2392,  0.3569,  0.4275,  ..., -0.4039, -0.4118, -0.3961],\n          [ 0.2627,  0.2706,  0.2549,  ..., -0.2314,  0.0118,  0.2706]],\n\n         [[ 0.3176,  0.3176,  0.3098,  ...,  0.2941,  0.2941,  0.3098],\n          [ 0.3333,  0.3176,  0.3176,  ...,  0.3098,  0.3020,  0.3176],\n          [ 0.3647,  0.3490,  0.3569,  ...,  0.3333,  0.3333,  0.3490],\n          ...,\n          [ 0.3961,  0.3333,  0.3882,  ..., -0.0824, -0.0588, -0.0588],\n          [ 0.3647,  0.4588,  0.5137,  ..., -0.0667, -0.0667, -0.0510],\n          [ 0.3804,  0.3804,  0.3412,  ...,  0.0745,  0.2549,  0.4510]],\n\n         [[ 0.8118,  0.7961,  0.8039,  ...,  0.8118,  0.7882,  0.7961],\n          [ 0.8039,  0.7882,  0.7725,  ...,  0.7961,  0.7804,  0.7961],\n          [ 0.8275,  0.8039,  0.7961,  ...,  0.8039,  0.8039,  0.8196],\n          ...,\n          [ 0.3882,  0.3098,  0.3333,  ...,  0.2078,  0.2314,  0.2392],\n          [ 0.3490,  0.4275,  0.4745,  ...,  0.2078,  0.2000,  0.2078],\n          [ 0.3647,  0.3490,  0.3255,  ...,  0.3098,  0.4353,  0.5843]]]])"
     },
     "execution_count": 27,
     "metadata": {},
     "output_type": "execute_result"
    }
   ],
   "source": [
    "x, y = a\n",
    "x\n"
   ],
   "metadata": {
    "collapsed": false,
    "pycharm": {
     "name": "#%%\n"
    }
   }
  },
  {
   "cell_type": "code",
   "execution_count": 1,
   "outputs": [
    {
     "name": "stderr",
     "output_type": "stream",
     "text": [
      "c:\\users\\diego\\cs\\thesis\\venv\\lib\\site-packages\\numpy\\_distributor_init.py:32: UserWarning: loaded more than 1 DLL from .libs:\n",
      "c:\\users\\diego\\cs\\thesis\\venv\\lib\\site-packages\\numpy\\.libs\\libopenblas.NOIJJG62EMASZI6NYURL6JBKM4EVBGM7.gfortran-win_amd64.dll\n",
      "c:\\users\\diego\\cs\\thesis\\venv\\lib\\site-packages\\numpy\\.libs\\libopenblas.PYQHXLVVQ7VESDPUVUADXEVJOBGHJPAY.gfortran-win_amd64.dll\n",
      "  stacklevel=1)\n",
      "Downloading: \"https://download.pytorch.org/models/resnet18-5c106cde.pth\" to C:\\Users\\diego/.cache\\torch\\hub\\checkpoints\\resnet18-5c106cde.pth\n"
     ]
    },
    {
     "data": {
      "text/plain": "  0%|          | 0.00/44.7M [00:00<?, ?B/s]",
      "application/vnd.jupyter.widget-view+json": {
       "version_major": 2,
       "version_minor": 0,
       "model_id": "4e33541958cd49bca4244f66ea77cd0f"
      }
     },
     "metadata": {},
     "output_type": "display_data"
    }
   ],
   "source": [
    "#explore resnet\n",
    "\n",
    "from torchvision.models.resnet import resnet18\n",
    "\n",
    "r = resnet18(pretrained=True)"
   ],
   "metadata": {
    "collapsed": false,
    "pycharm": {
     "name": "#%%\n"
    }
   }
  },
  {
   "cell_type": "code",
   "execution_count": 2,
   "outputs": [
    {
     "data": {
      "text/plain": "ResNet(\n  (conv1): Conv2d(3, 64, kernel_size=(7, 7), stride=(2, 2), padding=(3, 3), bias=False)\n  (bn1): BatchNorm2d(64, eps=1e-05, momentum=0.1, affine=True, track_running_stats=True)\n  (relu): ReLU(inplace=True)\n  (maxpool): MaxPool2d(kernel_size=3, stride=2, padding=1, dilation=1, ceil_mode=False)\n  (layer1): Sequential(\n    (0): BasicBlock(\n      (conv1): Conv2d(64, 64, kernel_size=(3, 3), stride=(1, 1), padding=(1, 1), bias=False)\n      (bn1): BatchNorm2d(64, eps=1e-05, momentum=0.1, affine=True, track_running_stats=True)\n      (relu): ReLU(inplace=True)\n      (conv2): Conv2d(64, 64, kernel_size=(3, 3), stride=(1, 1), padding=(1, 1), bias=False)\n      (bn2): BatchNorm2d(64, eps=1e-05, momentum=0.1, affine=True, track_running_stats=True)\n    )\n    (1): BasicBlock(\n      (conv1): Conv2d(64, 64, kernel_size=(3, 3), stride=(1, 1), padding=(1, 1), bias=False)\n      (bn1): BatchNorm2d(64, eps=1e-05, momentum=0.1, affine=True, track_running_stats=True)\n      (relu): ReLU(inplace=True)\n      (conv2): Conv2d(64, 64, kernel_size=(3, 3), stride=(1, 1), padding=(1, 1), bias=False)\n      (bn2): BatchNorm2d(64, eps=1e-05, momentum=0.1, affine=True, track_running_stats=True)\n    )\n  )\n  (layer2): Sequential(\n    (0): BasicBlock(\n      (conv1): Conv2d(64, 128, kernel_size=(3, 3), stride=(2, 2), padding=(1, 1), bias=False)\n      (bn1): BatchNorm2d(128, eps=1e-05, momentum=0.1, affine=True, track_running_stats=True)\n      (relu): ReLU(inplace=True)\n      (conv2): Conv2d(128, 128, kernel_size=(3, 3), stride=(1, 1), padding=(1, 1), bias=False)\n      (bn2): BatchNorm2d(128, eps=1e-05, momentum=0.1, affine=True, track_running_stats=True)\n      (downsample): Sequential(\n        (0): Conv2d(64, 128, kernel_size=(1, 1), stride=(2, 2), bias=False)\n        (1): BatchNorm2d(128, eps=1e-05, momentum=0.1, affine=True, track_running_stats=True)\n      )\n    )\n    (1): BasicBlock(\n      (conv1): Conv2d(128, 128, kernel_size=(3, 3), stride=(1, 1), padding=(1, 1), bias=False)\n      (bn1): BatchNorm2d(128, eps=1e-05, momentum=0.1, affine=True, track_running_stats=True)\n      (relu): ReLU(inplace=True)\n      (conv2): Conv2d(128, 128, kernel_size=(3, 3), stride=(1, 1), padding=(1, 1), bias=False)\n      (bn2): BatchNorm2d(128, eps=1e-05, momentum=0.1, affine=True, track_running_stats=True)\n    )\n  )\n  (layer3): Sequential(\n    (0): BasicBlock(\n      (conv1): Conv2d(128, 256, kernel_size=(3, 3), stride=(2, 2), padding=(1, 1), bias=False)\n      (bn1): BatchNorm2d(256, eps=1e-05, momentum=0.1, affine=True, track_running_stats=True)\n      (relu): ReLU(inplace=True)\n      (conv2): Conv2d(256, 256, kernel_size=(3, 3), stride=(1, 1), padding=(1, 1), bias=False)\n      (bn2): BatchNorm2d(256, eps=1e-05, momentum=0.1, affine=True, track_running_stats=True)\n      (downsample): Sequential(\n        (0): Conv2d(128, 256, kernel_size=(1, 1), stride=(2, 2), bias=False)\n        (1): BatchNorm2d(256, eps=1e-05, momentum=0.1, affine=True, track_running_stats=True)\n      )\n    )\n    (1): BasicBlock(\n      (conv1): Conv2d(256, 256, kernel_size=(3, 3), stride=(1, 1), padding=(1, 1), bias=False)\n      (bn1): BatchNorm2d(256, eps=1e-05, momentum=0.1, affine=True, track_running_stats=True)\n      (relu): ReLU(inplace=True)\n      (conv2): Conv2d(256, 256, kernel_size=(3, 3), stride=(1, 1), padding=(1, 1), bias=False)\n      (bn2): BatchNorm2d(256, eps=1e-05, momentum=0.1, affine=True, track_running_stats=True)\n    )\n  )\n  (layer4): Sequential(\n    (0): BasicBlock(\n      (conv1): Conv2d(256, 512, kernel_size=(3, 3), stride=(2, 2), padding=(1, 1), bias=False)\n      (bn1): BatchNorm2d(512, eps=1e-05, momentum=0.1, affine=True, track_running_stats=True)\n      (relu): ReLU(inplace=True)\n      (conv2): Conv2d(512, 512, kernel_size=(3, 3), stride=(1, 1), padding=(1, 1), bias=False)\n      (bn2): BatchNorm2d(512, eps=1e-05, momentum=0.1, affine=True, track_running_stats=True)\n      (downsample): Sequential(\n        (0): Conv2d(256, 512, kernel_size=(1, 1), stride=(2, 2), bias=False)\n        (1): BatchNorm2d(512, eps=1e-05, momentum=0.1, affine=True, track_running_stats=True)\n      )\n    )\n    (1): BasicBlock(\n      (conv1): Conv2d(512, 512, kernel_size=(3, 3), stride=(1, 1), padding=(1, 1), bias=False)\n      (bn1): BatchNorm2d(512, eps=1e-05, momentum=0.1, affine=True, track_running_stats=True)\n      (relu): ReLU(inplace=True)\n      (conv2): Conv2d(512, 512, kernel_size=(3, 3), stride=(1, 1), padding=(1, 1), bias=False)\n      (bn2): BatchNorm2d(512, eps=1e-05, momentum=0.1, affine=True, track_running_stats=True)\n    )\n  )\n  (avgpool): AdaptiveAvgPool2d(output_size=(1, 1))\n  (fc): Linear(in_features=512, out_features=1000, bias=True)\n)"
     },
     "execution_count": 2,
     "metadata": {},
     "output_type": "execute_result"
    }
   ],
   "source": [
    "r"
   ],
   "metadata": {
    "collapsed": false,
    "pycharm": {
     "name": "#%%\n"
    }
   }
  },
  {
   "cell_type": "code",
   "execution_count": 4,
   "outputs": [
    {
     "data": {
      "text/plain": "VGG(\n  (features): Sequential(\n    (0): Conv2d(3, 64, kernel_size=(3, 3), stride=(1, 1), padding=(1, 1))\n    (1): ReLU(inplace=True)\n    (2): MaxPool2d(kernel_size=2, stride=2, padding=0, dilation=1, ceil_mode=False)\n    (3): Conv2d(64, 128, kernel_size=(3, 3), stride=(1, 1), padding=(1, 1))\n    (4): ReLU(inplace=True)\n    (5): MaxPool2d(kernel_size=2, stride=2, padding=0, dilation=1, ceil_mode=False)\n    (6): Conv2d(128, 256, kernel_size=(3, 3), stride=(1, 1), padding=(1, 1))\n    (7): ReLU(inplace=True)\n    (8): Conv2d(256, 256, kernel_size=(3, 3), stride=(1, 1), padding=(1, 1))\n    (9): ReLU(inplace=True)\n    (10): MaxPool2d(kernel_size=2, stride=2, padding=0, dilation=1, ceil_mode=False)\n    (11): Conv2d(256, 512, kernel_size=(3, 3), stride=(1, 1), padding=(1, 1))\n    (12): ReLU(inplace=True)\n    (13): Conv2d(512, 512, kernel_size=(3, 3), stride=(1, 1), padding=(1, 1))\n    (14): ReLU(inplace=True)\n    (15): MaxPool2d(kernel_size=2, stride=2, padding=0, dilation=1, ceil_mode=False)\n    (16): Conv2d(512, 512, kernel_size=(3, 3), stride=(1, 1), padding=(1, 1))\n    (17): ReLU(inplace=True)\n    (18): Conv2d(512, 512, kernel_size=(3, 3), stride=(1, 1), padding=(1, 1))\n    (19): ReLU(inplace=True)\n    (20): MaxPool2d(kernel_size=2, stride=2, padding=0, dilation=1, ceil_mode=False)\n  )\n  (avgpool): AdaptiveAvgPool2d(output_size=(7, 7))\n  (classifier): Sequential(\n    (0): Linear(in_features=25088, out_features=4096, bias=True)\n    (1): ReLU(inplace=True)\n    (2): Dropout(p=0.5, inplace=False)\n    (3): Linear(in_features=4096, out_features=4096, bias=True)\n    (4): ReLU(inplace=True)\n    (5): Dropout(p=0.5, inplace=False)\n    (6): Linear(in_features=4096, out_features=1000, bias=True)\n  )\n)"
     },
     "execution_count": 4,
     "metadata": {},
     "output_type": "execute_result"
    }
   ],
   "source": [
    "from torchvision.models.vgg import vgg11\n",
    "\n",
    "v = vgg11()\n",
    "v"
   ],
   "metadata": {
    "collapsed": false,
    "pycharm": {
     "name": "#%%\n"
    }
   }
  }
 ],
 "metadata": {
  "kernelspec": {
   "display_name": "Python 3",
   "language": "python",
   "name": "python3"
  },
  "language_info": {
   "codemirror_mode": {
    "name": "ipython",
    "version": 2
   },
   "file_extension": ".py",
   "mimetype": "text/x-python",
   "name": "python",
   "nbconvert_exporter": "python",
   "pygments_lexer": "ipython2",
   "version": "2.7.6"
  }
 },
 "nbformat": 4,
 "nbformat_minor": 0
}