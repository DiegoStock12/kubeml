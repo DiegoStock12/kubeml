{
 "cells": [
  {
   "cell_type": "markdown",
   "metadata": {
    "collapsed": true,
    "pycharm": {
     "name": "#%% md\n"
    }
   },
   "source": [
    "# Testing the experiment classes\n"
   ]
  },
  {
   "cell_type": "code",
   "source": [
    "from common.experiment import KubemlExperiment, History, TrainOptions, TrainRequest\n",
    "import pandas as pd\n",
    "import glob\n",
    "import numpy as np\n",
    "import pickle"
   ],
   "metadata": {
    "collapsed": false,
    "pycharm": {
     "name": "#%%\n"
    }
   },
   "execution_count": 2,
   "outputs": [
    {
     "name": "stderr",
     "output_type": "stream",
     "text": [
      "c:\\users\\diego\\cs\\thesis\\venv\\lib\\site-packages\\numpy\\_distributor_init.py:32: UserWarning: loaded more than 1 DLL from .libs:\n",
      "c:\\users\\diego\\cs\\thesis\\venv\\lib\\site-packages\\numpy\\.libs\\libopenblas.NOIJJG62EMASZI6NYURL6JBKM4EVBGM7.gfortran-win_amd64.dll\n",
      "c:\\users\\diego\\cs\\thesis\\venv\\lib\\site-packages\\numpy\\.libs\\libopenblas.PYQHXLVVQ7VESDPUVUADXEVJOBGHJPAY.gfortran-win_amd64.dll\n",
      "  stacklevel=1)\n"
     ]
    }
   ]
  },
  {
   "cell_type": "code",
   "execution_count": null,
   "outputs": [],
   "source": [
    "# read the json\n",
    "with open('./data/5.json', 'r') as f:\n",
    "    content = f.read()\n",
    "\n",
    "\n",
    "print(content)"
   ],
   "metadata": {
    "collapsed": false,
    "pycharm": {
     "name": "#%%\n"
    }
   }
  },
  {
   "cell_type": "code",
   "execution_count": null,
   "outputs": [],
   "source": [
    "# read the content into a class\n",
    "\n",
    "h = History.from_json(content)\n",
    "\n",
    "exp = KubemlExperiment(\"test\", None)\n",
    "exp.history = h\n",
    "exp.network_id = h.id\n",
    "\n",
    "# exp.save('./tests/')\n",
    "\n",
    "d = exp.to_dataframe()"
   ],
   "metadata": {
    "collapsed": false,
    "pycharm": {
     "name": "#%%\n"
    }
   }
  },
  {
   "cell_type": "code",
   "execution_count": null,
   "outputs": [],
   "source": [
    "d.train_loss[0]"
   ],
   "metadata": {
    "collapsed": false,
    "pycharm": {
     "name": "#%%\n"
    }
   }
  },
  {
   "cell_type": "code",
   "execution_count": null,
   "outputs": [],
   "source": [
    "import pandas as pd\n",
    "e = pd.read_pickle('./tests/1a5c751e.pkl')\n",
    "e"
   ],
   "metadata": {
    "collapsed": false,
    "pycharm": {
     "name": "#%%\n"
    }
   }
  },
  {
   "cell_type": "code",
   "execution_count": null,
   "outputs": [],
   "source": [
    "import pandas as pd\n",
    "\n",
    "h.to_dict()\n",
    "\n",
    "new = {\"id\": h.id,\n",
    "       **h.task.to_dict(),\n",
    "       **h.task.options.to_dict()\n",
    "       }\n",
    "\n",
    "del new['options']\n",
    "\n",
    "new\n",
    "\n",
    "# # need to wrap the metrics in arrays\n",
    "for k, v in h.data.to_dict().items():\n",
    "    new[k] = [v]\n",
    "\n",
    "new\n",
    "#\n",
    "import pandas as pd\n",
    "\n",
    "pd.DataFrame(new)\n",
    "\n"
   ],
   "metadata": {
    "collapsed": false,
    "pycharm": {
     "name": "#%%\n"
    }
   }
  },
  {
   "cell_type": "markdown",
   "source": [
    "### Test the experiment class"
   ],
   "metadata": {
    "collapsed": false,
    "pycharm": {
     "name": "#%% md\n"
    }
   }
  },
  {
   "cell_type": "code",
   "execution_count": null,
   "outputs": [],
   "source": [
    "request = TrainRequest(\n",
    "    model_type='example',\n",
    "    function_name='resnet',\n",
    "    dataset='cifar10',\n",
    "    lr=0.01,\n",
    "    batch_size=32,\n",
    "    epochs= 10,\n",
    "    options= TrainOptions(\n",
    "        default_parallelism=5,\n",
    "        static_parallelism=True,\n",
    "        validate_every=1,\n",
    "        k = 10,\n",
    "        goal_accuracy=90.0\n",
    "    )\n",
    ")\n",
    "\n",
    "exp = KubemlExperiment(title='test experiment', request=request)\n",
    "exp.network_id = '85878038'\n",
    "exp.history = h\n",
    "\n",
    "exp"
   ],
   "metadata": {
    "collapsed": false,
    "pycharm": {
     "name": "#%%\n"
    }
   }
  },
  {
   "cell_type": "code",
   "execution_count": null,
   "outputs": [],
   "source": [
    "exp = KubemlExperiment('test', request= request)\n",
    "exp.network_id = '85878038'\n",
    "\n",
    "exp.check_if_task_finished()\n"
   ],
   "metadata": {
    "collapsed": false,
    "pycharm": {
     "name": "#%%\n"
    }
   }
  },
  {
   "cell_type": "markdown",
   "source": [
    "## Merge experiments\n",
    "\n",
    "Get the small dataframes of each experiment and merge them onto a single dataframe"
   ],
   "metadata": {
    "collapsed": false,
    "pycharm": {
     "name": "#%% md\n"
    }
   }
  },
  {
   "cell_type": "code",
   "execution_count": 4,
   "outputs": [],
   "source": [
    "import glob\n",
    "from typing import List\n",
    "\n",
    "files = glob.glob('./tests/resnet34/*.pkl')\n",
    "\n",
    "dataframes: List[pd.DataFrame] = []\n",
    "\n",
    "\n",
    "\n",
    "\n",
    "for f in files:\n",
    "    _d = pd.read_pickle(f)\n",
    "    dataframes.append(_d)\n",
    "\n",
    "d = pd.concat(dataframes, ignore_index=True)\n",
    "\n",
    "d\n",
    "\n",
    "d.to_pickle('resnet_start.pkl')\n",
    "\n"
   ],
   "metadata": {
    "collapsed": false,
    "pycharm": {
     "name": "#%%\n"
    }
   }
  },
  {
   "cell_type": "code",
   "execution_count": 5,
   "outputs": [
    {
     "data": {
      "text/plain": "         id model_type  batch_size  epochs  dataset   lr function_name  \\\n0  2b6b180b    example         128       1  cifar10  0.1        resnet   \n1  4e8311db    example         128       1  cifar10  0.1        resnet   \n2  d649404e    example         128       1  cifar10  0.1        resnet   \n3  ef1139c9    example         128       1  cifar10  0.1        resnet   \n\n   default_parallelism  static_parallelism  validate_every   k  goal_accuracy  \\\n0                   16                True               1  64            100   \n1                   32                True               1  64            100   \n2                    4                True               1  64            100   \n3                    8                True               1  64            100   \n\n        validation_loss accuracy           train_loss parallelism  \\\n0  [4.6820562821400316]     [10]  [5.787266342118383]        [16]   \n1   [4.120931245103667]     [10]  [6.655060767028957]        [32]   \n2   [2.317080847824676]     [10]  [3.632470758768785]         [4]   \n3  [3.4772339078444467]     [10]  [4.664617256242401]         [8]   \n\n    epoch_duration  \n0  [291.748263165]  \n1  [235.414288248]  \n2  [738.871897622]  \n3    [392.8319736]  ",
      "text/html": "<div>\n<style scoped>\n    .dataframe tbody tr th:only-of-type {\n        vertical-align: middle;\n    }\n\n    .dataframe tbody tr th {\n        vertical-align: top;\n    }\n\n    .dataframe thead th {\n        text-align: right;\n    }\n</style>\n<table border=\"1\" class=\"dataframe\">\n  <thead>\n    <tr style=\"text-align: right;\">\n      <th></th>\n      <th>id</th>\n      <th>model_type</th>\n      <th>batch_size</th>\n      <th>epochs</th>\n      <th>dataset</th>\n      <th>lr</th>\n      <th>function_name</th>\n      <th>default_parallelism</th>\n      <th>static_parallelism</th>\n      <th>validate_every</th>\n      <th>k</th>\n      <th>goal_accuracy</th>\n      <th>validation_loss</th>\n      <th>accuracy</th>\n      <th>train_loss</th>\n      <th>parallelism</th>\n      <th>epoch_duration</th>\n    </tr>\n  </thead>\n  <tbody>\n    <tr>\n      <th>0</th>\n      <td>2b6b180b</td>\n      <td>example</td>\n      <td>128</td>\n      <td>1</td>\n      <td>cifar10</td>\n      <td>0.1</td>\n      <td>resnet</td>\n      <td>16</td>\n      <td>True</td>\n      <td>1</td>\n      <td>64</td>\n      <td>100</td>\n      <td>[4.6820562821400316]</td>\n      <td>[10]</td>\n      <td>[5.787266342118383]</td>\n      <td>[16]</td>\n      <td>[291.748263165]</td>\n    </tr>\n    <tr>\n      <th>1</th>\n      <td>4e8311db</td>\n      <td>example</td>\n      <td>128</td>\n      <td>1</td>\n      <td>cifar10</td>\n      <td>0.1</td>\n      <td>resnet</td>\n      <td>32</td>\n      <td>True</td>\n      <td>1</td>\n      <td>64</td>\n      <td>100</td>\n      <td>[4.120931245103667]</td>\n      <td>[10]</td>\n      <td>[6.655060767028957]</td>\n      <td>[32]</td>\n      <td>[235.414288248]</td>\n    </tr>\n    <tr>\n      <th>2</th>\n      <td>d649404e</td>\n      <td>example</td>\n      <td>128</td>\n      <td>1</td>\n      <td>cifar10</td>\n      <td>0.1</td>\n      <td>resnet</td>\n      <td>4</td>\n      <td>True</td>\n      <td>1</td>\n      <td>64</td>\n      <td>100</td>\n      <td>[2.317080847824676]</td>\n      <td>[10]</td>\n      <td>[3.632470758768785]</td>\n      <td>[4]</td>\n      <td>[738.871897622]</td>\n    </tr>\n    <tr>\n      <th>3</th>\n      <td>ef1139c9</td>\n      <td>example</td>\n      <td>128</td>\n      <td>1</td>\n      <td>cifar10</td>\n      <td>0.1</td>\n      <td>resnet</td>\n      <td>8</td>\n      <td>True</td>\n      <td>1</td>\n      <td>64</td>\n      <td>100</td>\n      <td>[3.4772339078444467]</td>\n      <td>[10]</td>\n      <td>[4.664617256242401]</td>\n      <td>[8]</td>\n      <td>[392.8319736]</td>\n    </tr>\n  </tbody>\n</table>\n</div>"
     },
     "execution_count": 5,
     "metadata": {},
     "output_type": "execute_result"
    }
   ],
   "source": [
    "pd.read_pickle('./resnet_start.pkl')\n"
   ],
   "metadata": {
    "collapsed": false,
    "pycharm": {
     "name": "#%%\n"
    }
   }
  },
  {
   "cell_type": "markdown",
   "source": [
    "## Download the datasets"
   ],
   "metadata": {
    "collapsed": false
   }
  },
  {
   "cell_type": "code",
   "execution_count": null,
   "outputs": [],
   "source": [
    "import torch\n",
    "import torchvision.datasets as datasets"
   ],
   "metadata": {
    "collapsed": false,
    "pycharm": {
     "name": "#%%\n"
    }
   }
  },
  {
   "cell_type": "markdown",
   "source": [
    "#### Mnist dataset"
   ],
   "metadata": {
    "collapsed": false,
    "pycharm": {
     "name": "#%% md\n"
    }
   }
  },
  {
   "cell_type": "code",
   "execution_count": null,
   "outputs": [],
   "source": [
    "from torchvision import transforms\n",
    "from torch.utils.data import Dataset, DataLoader\n",
    "\n",
    "transform = transforms.Compose(\n",
    "    [transforms.ToTensor(),\n",
    "     transforms.Normalize((0.5, 0.5, 0.5), (0.5, 0.5, 0.5))])\n",
    "\n",
    "cifar10_tr = datasets.CIFAR10(root='./datasets/cifar10/', train=True, download=False, transform=None)\n",
    "cifar10_test = datasets.CIFAR10(root='./datasets/cifar10/', train=False, download=False, transform=None)"
   ],
   "metadata": {
    "collapsed": false,
    "pycharm": {
     "name": "#%%\n"
    }
   }
  },
  {
   "cell_type": "code",
   "execution_count": null,
   "outputs": [],
   "source": [
    "import keras\n",
    "from keras.datasets import mnist, cifar10, cifar100\n",
    "import numpy as np\n",
    "\n",
    "file_names = ['x_train', 'y_train', 'x_test', 'y_test']\n"
   ],
   "metadata": {
    "collapsed": false,
    "pycharm": {
     "name": "#%%\n"
    }
   }
  },
  {
   "cell_type": "code",
   "execution_count": null,
   "outputs": [],
   "source": [
    "((trainX, trainY), (testX, testY)) = mnist.load_data()\n",
    "\n",
    "# save the different train and test arrays in the datasets folder\n",
    "\n",
    "for name, data in zip(file_names, [trainX, trainY, testX, testY]):\n",
    "    n = f'./datasets/mnist/mnist_{name}.npy'\n",
    "    with open(n, 'wb') as f:\n",
    "        print(f'Saving data of shape {data.shape}, to file {n}')\n",
    "        np.save(n, data)"
   ],
   "metadata": {
    "collapsed": false,
    "pycharm": {
     "name": "#%%\n"
    }
   }
  },
  {
   "cell_type": "markdown",
   "source": [
    "### Cifar10 dataset"
   ],
   "metadata": {
    "collapsed": false,
    "pycharm": {
     "name": "#%% md\n"
    }
   }
  },
  {
   "cell_type": "code",
   "execution_count": null,
   "outputs": [],
   "source": [
    "((trainX, trainY), (testX, testY)) = cifar10.load_data()\n",
    "\n",
    "\n",
    "for name, data in zip(file_names, [trainX, trainY, testX, testY]):\n",
    "    n = f'./datasets/cifar10/cifar10_{name}.npy'\n",
    "    with open(n, 'wb') as f:\n",
    "        print(f'Saving data of shape {data.shape}, to file {n}')\n",
    "        np.save(n, data)"
   ],
   "metadata": {
    "collapsed": false,
    "pycharm": {
     "name": "#%%\n"
    }
   }
  },
  {
   "cell_type": "markdown",
   "source": [
    "\n",
    "### Cifar100 dataset"
   ],
   "metadata": {
    "collapsed": false,
    "pycharm": {
     "name": "#%% md\n"
    }
   }
  },
  {
   "cell_type": "code",
   "execution_count": null,
   "outputs": [],
   "source": [
    "((trainX, trainY), (testX, testY)) = cifar100.load_data()\n",
    "\n",
    "\n",
    "for name, data in zip(file_names, [trainX, trainY, testX, testY]):\n",
    "    n = f'./datasets/cifar100/cifar100_{name}.npy'\n",
    "    with open(n, 'wb') as f:\n",
    "        print(f'Saving data of shape {data.shape}, to file {n}')\n",
    "        np.save(n, data)"
   ],
   "metadata": {
    "collapsed": false,
    "pycharm": {
     "name": "#%%\n"
    }
   }
  },
  {
   "cell_type": "markdown",
   "source": [
    "## Try to load the data in a custom made dataset"
   ],
   "metadata": {
    "collapsed": false,
    "pycharm": {
     "name": "#%% md\n"
    }
   }
  },
  {
   "cell_type": "code",
   "execution_count": null,
   "outputs": [],
   "source": [
    "\n",
    "class Cifar10Dataset(Dataset):\n",
    "\n",
    "    transform = transforms.Compose(\n",
    "        [transforms.ToTensor(),\n",
    "        transforms.Normalize((0.5, 0.5, 0.5), (0.5, 0.5, 0.5))])\n",
    "\n",
    "    def __init__(self):\n",
    "        # load the train data and labels\n",
    "        self.data = np.load('datasets/cifar10/cifar10_x_train.npy')\n",
    "        self.targets = np.load('datasets/cifar10/cifar10_y_train.npy')\n",
    "\n",
    "    def __len__(self):\n",
    "        return len(self.data)\n",
    "\n",
    "    def __getitem__(self, index):\n",
    "        return self.transform(self.data[index]), self.targets[index]"
   ],
   "metadata": {
    "collapsed": false,
    "pycharm": {
     "name": "#%%\n"
    }
   }
  },
  {
   "cell_type": "code",
   "execution_count": null,
   "outputs": [],
   "source": [
    "d = Cifar10Dataset()\n"
   ],
   "metadata": {
    "collapsed": false,
    "pycharm": {
     "name": "#%%\n"
    }
   }
  },
  {
   "cell_type": "code",
   "execution_count": null,
   "outputs": [],
   "source": [
    "loader = DataLoader(d, batch_size=16)\n",
    "i = iter(loader)\n"
   ],
   "metadata": {
    "collapsed": false,
    "pycharm": {
     "name": "#%%\n"
    }
   }
  },
  {
   "cell_type": "code",
   "execution_count": null,
   "outputs": [],
   "source": [
    "a = next(i)"
   ],
   "metadata": {
    "collapsed": false,
    "pycharm": {
     "name": "#%%\n"
    }
   }
  },
  {
   "cell_type": "code",
   "execution_count": null,
   "outputs": [],
   "source": [
    "x, y = a\n",
    "x\n"
   ],
   "metadata": {
    "collapsed": false,
    "pycharm": {
     "name": "#%%\n"
    }
   }
  },
  {
   "cell_type": "code",
   "execution_count": 1,
   "outputs": [
    {
     "name": "stderr",
     "output_type": "stream",
     "text": [
      "c:\\users\\diego\\cs\\thesis\\venv\\lib\\site-packages\\numpy\\_distributor_init.py:32: UserWarning: loaded more than 1 DLL from .libs:\n",
      "c:\\users\\diego\\cs\\thesis\\venv\\lib\\site-packages\\numpy\\.libs\\libopenblas.NOIJJG62EMASZI6NYURL6JBKM4EVBGM7.gfortran-win_amd64.dll\n",
      "c:\\users\\diego\\cs\\thesis\\venv\\lib\\site-packages\\numpy\\.libs\\libopenblas.PYQHXLVVQ7VESDPUVUADXEVJOBGHJPAY.gfortran-win_amd64.dll\n",
      "  stacklevel=1)\n"
     ]
    },
    {
     "data": {
      "text/plain": "==========================================================================================\nLayer (type:depth-idx)                   Output Shape              Param #\n==========================================================================================\n├─Conv2d: 1-1                            [32, 64, 16, 16]          9,408\n├─BatchNorm2d: 1-2                       [32, 64, 16, 16]          128\n├─ReLU: 1-3                              [32, 64, 16, 16]          --\n├─MaxPool2d: 1-4                         [32, 64, 8, 8]            --\n├─Sequential: 1-5                        [32, 64, 8, 8]            --\n|    └─BasicBlock: 2-1                   [32, 64, 8, 8]            --\n|    |    └─Conv2d: 3-1                  [32, 64, 8, 8]            36,864\n|    |    └─BatchNorm2d: 3-2             [32, 64, 8, 8]            128\n|    |    └─ReLU: 3-3                    [32, 64, 8, 8]            --\n|    |    └─Conv2d: 3-4                  [32, 64, 8, 8]            36,864\n|    |    └─BatchNorm2d: 3-5             [32, 64, 8, 8]            128\n|    |    └─ReLU: 3-6                    [32, 64, 8, 8]            --\n|    └─BasicBlock: 2-2                   [32, 64, 8, 8]            --\n|    |    └─Conv2d: 3-7                  [32, 64, 8, 8]            36,864\n|    |    └─BatchNorm2d: 3-8             [32, 64, 8, 8]            128\n|    |    └─ReLU: 3-9                    [32, 64, 8, 8]            --\n|    |    └─Conv2d: 3-10                 [32, 64, 8, 8]            36,864\n|    |    └─BatchNorm2d: 3-11            [32, 64, 8, 8]            128\n|    |    └─ReLU: 3-12                   [32, 64, 8, 8]            --\n├─Sequential: 1-6                        [32, 128, 4, 4]           --\n|    └─BasicBlock: 2-3                   [32, 128, 4, 4]           --\n|    |    └─Conv2d: 3-13                 [32, 128, 4, 4]           73,728\n|    |    └─BatchNorm2d: 3-14            [32, 128, 4, 4]           256\n|    |    └─ReLU: 3-15                   [32, 128, 4, 4]           --\n|    |    └─Conv2d: 3-16                 [32, 128, 4, 4]           147,456\n|    |    └─BatchNorm2d: 3-17            [32, 128, 4, 4]           256\n|    |    └─Sequential: 3-18             [32, 128, 4, 4]           8,448\n|    |    └─ReLU: 3-19                   [32, 128, 4, 4]           --\n|    └─BasicBlock: 2-4                   [32, 128, 4, 4]           --\n|    |    └─Conv2d: 3-20                 [32, 128, 4, 4]           147,456\n|    |    └─BatchNorm2d: 3-21            [32, 128, 4, 4]           256\n|    |    └─ReLU: 3-22                   [32, 128, 4, 4]           --\n|    |    └─Conv2d: 3-23                 [32, 128, 4, 4]           147,456\n|    |    └─BatchNorm2d: 3-24            [32, 128, 4, 4]           256\n|    |    └─ReLU: 3-25                   [32, 128, 4, 4]           --\n├─Sequential: 1-7                        [32, 256, 2, 2]           --\n|    └─BasicBlock: 2-5                   [32, 256, 2, 2]           --\n|    |    └─Conv2d: 3-26                 [32, 256, 2, 2]           294,912\n|    |    └─BatchNorm2d: 3-27            [32, 256, 2, 2]           512\n|    |    └─ReLU: 3-28                   [32, 256, 2, 2]           --\n|    |    └─Conv2d: 3-29                 [32, 256, 2, 2]           589,824\n|    |    └─BatchNorm2d: 3-30            [32, 256, 2, 2]           512\n|    |    └─Sequential: 3-31             [32, 256, 2, 2]           33,280\n|    |    └─ReLU: 3-32                   [32, 256, 2, 2]           --\n|    └─BasicBlock: 2-6                   [32, 256, 2, 2]           --\n|    |    └─Conv2d: 3-33                 [32, 256, 2, 2]           589,824\n|    |    └─BatchNorm2d: 3-34            [32, 256, 2, 2]           512\n|    |    └─ReLU: 3-35                   [32, 256, 2, 2]           --\n|    |    └─Conv2d: 3-36                 [32, 256, 2, 2]           589,824\n|    |    └─BatchNorm2d: 3-37            [32, 256, 2, 2]           512\n|    |    └─ReLU: 3-38                   [32, 256, 2, 2]           --\n├─Sequential: 1-8                        [32, 512, 1, 1]           --\n|    └─BasicBlock: 2-7                   [32, 512, 1, 1]           --\n|    |    └─Conv2d: 3-39                 [32, 512, 1, 1]           1,179,648\n|    |    └─BatchNorm2d: 3-40            [32, 512, 1, 1]           1,024\n|    |    └─ReLU: 3-41                   [32, 512, 1, 1]           --\n|    |    └─Conv2d: 3-42                 [32, 512, 1, 1]           2,359,296\n|    |    └─BatchNorm2d: 3-43            [32, 512, 1, 1]           1,024\n|    |    └─Sequential: 3-44             [32, 512, 1, 1]           132,096\n|    |    └─ReLU: 3-45                   [32, 512, 1, 1]           --\n|    └─BasicBlock: 2-8                   [32, 512, 1, 1]           --\n|    |    └─Conv2d: 3-46                 [32, 512, 1, 1]           2,359,296\n|    |    └─BatchNorm2d: 3-47            [32, 512, 1, 1]           1,024\n|    |    └─ReLU: 3-48                   [32, 512, 1, 1]           --\n|    |    └─Conv2d: 3-49                 [32, 512, 1, 1]           2,359,296\n|    |    └─BatchNorm2d: 3-50            [32, 512, 1, 1]           1,024\n|    |    └─ReLU: 3-51                   [32, 512, 1, 1]           --\n├─AdaptiveAvgPool2d: 1-9                 [32, 512, 1, 1]           --\n├─Linear: 1-10                           [32, 1000]                513,000\n==========================================================================================\nTotal params: 11,689,512\nTrainable params: 11,689,512\nNon-trainable params: 0\nTotal mult-adds (M): 60.03\n==========================================================================================\nInput size (MB): 0.39\nForward/backward pass size (MB): 26.21\nParams size (MB): 46.76\nEstimated Total Size (MB): 73.36\n=========================================================================================="
     },
     "execution_count": 1,
     "metadata": {},
     "output_type": "execute_result"
    }
   ],
   "source": [
    "#explore resnet\n",
    "\n",
    "from torchvision.models.resnet import resnet18\n",
    "from torchinfo import summary\n",
    "\n",
    "r = resnet18(pretrained=True)"
   ],
   "metadata": {
    "collapsed": false,
    "pycharm": {
     "name": "#%%\n"
    }
   }
  },
  {
   "cell_type": "code",
   "execution_count": 2,
   "outputs": [
    {
     "data": {
      "text/plain": "==========================================================================================\nLayer (type:depth-idx)                   Output Shape              Param #\n==========================================================================================\n├─Conv2d: 1-1                            [128, 64, 16, 16]         9,408\n├─BatchNorm2d: 1-2                       [128, 64, 16, 16]         128\n├─ReLU: 1-3                              [128, 64, 16, 16]         --\n├─MaxPool2d: 1-4                         [128, 64, 8, 8]           --\n├─Sequential: 1-5                        [128, 64, 8, 8]           --\n|    └─BasicBlock: 2-1                   [128, 64, 8, 8]           --\n|    |    └─Conv2d: 3-1                  [128, 64, 8, 8]           36,864\n|    |    └─BatchNorm2d: 3-2             [128, 64, 8, 8]           128\n|    |    └─ReLU: 3-3                    [128, 64, 8, 8]           --\n|    |    └─Conv2d: 3-4                  [128, 64, 8, 8]           36,864\n|    |    └─BatchNorm2d: 3-5             [128, 64, 8, 8]           128\n|    |    └─ReLU: 3-6                    [128, 64, 8, 8]           --\n|    └─BasicBlock: 2-2                   [128, 64, 8, 8]           --\n|    |    └─Conv2d: 3-7                  [128, 64, 8, 8]           36,864\n|    |    └─BatchNorm2d: 3-8             [128, 64, 8, 8]           128\n|    |    └─ReLU: 3-9                    [128, 64, 8, 8]           --\n|    |    └─Conv2d: 3-10                 [128, 64, 8, 8]           36,864\n|    |    └─BatchNorm2d: 3-11            [128, 64, 8, 8]           128\n|    |    └─ReLU: 3-12                   [128, 64, 8, 8]           --\n├─Sequential: 1-6                        [128, 128, 4, 4]          --\n|    └─BasicBlock: 2-3                   [128, 128, 4, 4]          --\n|    |    └─Conv2d: 3-13                 [128, 128, 4, 4]          73,728\n|    |    └─BatchNorm2d: 3-14            [128, 128, 4, 4]          256\n|    |    └─ReLU: 3-15                   [128, 128, 4, 4]          --\n|    |    └─Conv2d: 3-16                 [128, 128, 4, 4]          147,456\n|    |    └─BatchNorm2d: 3-17            [128, 128, 4, 4]          256\n|    |    └─Sequential: 3-18             [128, 128, 4, 4]          8,448\n|    |    └─ReLU: 3-19                   [128, 128, 4, 4]          --\n|    └─BasicBlock: 2-4                   [128, 128, 4, 4]          --\n|    |    └─Conv2d: 3-20                 [128, 128, 4, 4]          147,456\n|    |    └─BatchNorm2d: 3-21            [128, 128, 4, 4]          256\n|    |    └─ReLU: 3-22                   [128, 128, 4, 4]          --\n|    |    └─Conv2d: 3-23                 [128, 128, 4, 4]          147,456\n|    |    └─BatchNorm2d: 3-24            [128, 128, 4, 4]          256\n|    |    └─ReLU: 3-25                   [128, 128, 4, 4]          --\n├─Sequential: 1-7                        [128, 256, 2, 2]          --\n|    └─BasicBlock: 2-5                   [128, 256, 2, 2]          --\n|    |    └─Conv2d: 3-26                 [128, 256, 2, 2]          294,912\n|    |    └─BatchNorm2d: 3-27            [128, 256, 2, 2]          512\n|    |    └─ReLU: 3-28                   [128, 256, 2, 2]          --\n|    |    └─Conv2d: 3-29                 [128, 256, 2, 2]          589,824\n|    |    └─BatchNorm2d: 3-30            [128, 256, 2, 2]          512\n|    |    └─Sequential: 3-31             [128, 256, 2, 2]          33,280\n|    |    └─ReLU: 3-32                   [128, 256, 2, 2]          --\n|    └─BasicBlock: 2-6                   [128, 256, 2, 2]          --\n|    |    └─Conv2d: 3-33                 [128, 256, 2, 2]          589,824\n|    |    └─BatchNorm2d: 3-34            [128, 256, 2, 2]          512\n|    |    └─ReLU: 3-35                   [128, 256, 2, 2]          --\n|    |    └─Conv2d: 3-36                 [128, 256, 2, 2]          589,824\n|    |    └─BatchNorm2d: 3-37            [128, 256, 2, 2]          512\n|    |    └─ReLU: 3-38                   [128, 256, 2, 2]          --\n├─Sequential: 1-8                        [128, 512, 1, 1]          --\n|    └─BasicBlock: 2-7                   [128, 512, 1, 1]          --\n|    |    └─Conv2d: 3-39                 [128, 512, 1, 1]          1,179,648\n|    |    └─BatchNorm2d: 3-40            [128, 512, 1, 1]          1,024\n|    |    └─ReLU: 3-41                   [128, 512, 1, 1]          --\n|    |    └─Conv2d: 3-42                 [128, 512, 1, 1]          2,359,296\n|    |    └─BatchNorm2d: 3-43            [128, 512, 1, 1]          1,024\n|    |    └─Sequential: 3-44             [128, 512, 1, 1]          132,096\n|    |    └─ReLU: 3-45                   [128, 512, 1, 1]          --\n|    └─BasicBlock: 2-8                   [128, 512, 1, 1]          --\n|    |    └─Conv2d: 3-46                 [128, 512, 1, 1]          2,359,296\n|    |    └─BatchNorm2d: 3-47            [128, 512, 1, 1]          1,024\n|    |    └─ReLU: 3-48                   [128, 512, 1, 1]          --\n|    |    └─Conv2d: 3-49                 [128, 512, 1, 1]          2,359,296\n|    |    └─BatchNorm2d: 3-50            [128, 512, 1, 1]          1,024\n|    |    └─ReLU: 3-51                   [128, 512, 1, 1]          --\n├─AdaptiveAvgPool2d: 1-9                 [128, 512, 1, 1]          --\n├─Linear: 1-10                           [128, 1000]               513,000\n==========================================================================================\nTotal params: 11,689,512\nTrainable params: 11,689,512\nNon-trainable params: 0\nTotal mult-adds (M): 60.03\n==========================================================================================\nInput size (MB): 1.57\nForward/backward pass size (MB): 104.83\nParams size (MB): 46.76\nEstimated Total Size (MB): 153.16\n=========================================================================================="
     },
     "execution_count": 2,
     "metadata": {},
     "output_type": "execute_result"
    }
   ],
   "source": [
    "\n",
    "summary(r, input_size=(128, 3, 32, 32))"
   ],
   "metadata": {
    "collapsed": false,
    "pycharm": {
     "name": "#%%\n"
    }
   }
  },
  {
   "cell_type": "code",
   "execution_count": null,
   "outputs": [],
   "source": [
    "r"
   ],
   "metadata": {
    "collapsed": false,
    "pycharm": {
     "name": "#%%\n"
    }
   }
  },
  {
   "cell_type": "code",
   "execution_count": null,
   "outputs": [],
   "source": [
    "from torchvision.models.vgg import vgg11\n",
    "\n",
    "v = vgg11()\n",
    "v"
   ],
   "metadata": {
    "collapsed": false,
    "pycharm": {
     "name": "#%%\n"
    }
   }
  },
  {
   "cell_type": "code",
   "execution_count": null,
   "outputs": [],
   "source": [
    "from torch import nn\n",
    "\n",
    "class LeNet(nn.Module):\n",
    "    \"\"\" Definition of the LeNet network as per the 1998 paper\n",
    "\n",
    "    Credits to https://github.com/ChawDoe/LeNet5-MNIST-PyTorch for the\n",
    "    convenience of the network definition and the train loop found there\n",
    "    \"\"\"\n",
    "\n",
    "    def __init__(self):\n",
    "        super().__init__()\n",
    "        self.conv1 = nn.Conv2d(1, 6, 5)\n",
    "        self.relu1 = nn.ReLU()\n",
    "        self.pool1 = nn.MaxPool2d(2)\n",
    "        self.conv2 = nn.Conv2d(6, 16, 5)\n",
    "        self.relu2 = nn.ReLU()\n",
    "        self.pool2 = nn.MaxPool2d(2)\n",
    "        self.fc1 = nn.Linear(256, 120)\n",
    "        self.relu3 = nn.ReLU()\n",
    "        self.fc2 = nn.Linear(120, 84)\n",
    "        self.relu4 = nn.ReLU()\n",
    "        self.fc3 = nn.Linear(84, 10)\n",
    "        self.relu5 = nn.ReLU()\n",
    "\n",
    "    def forward(self, x):\n",
    "        y = self.conv1(x)\n",
    "        y = self.relu1(y)\n",
    "        y = self.pool1(y)\n",
    "        y = self.conv2(y)\n",
    "        y = self.relu2(y)\n",
    "        y = self.pool2(y)\n",
    "        y = y.view(y.shape[0], -1)\n",
    "        y = self.fc1(y)\n",
    "        y = self.relu3(y)\n",
    "        y = self.fc2(y)\n",
    "        y = self.relu4(y)\n",
    "        y = self.fc3(y)\n",
    "        y = self.relu5(y)\n",
    "        return y"
   ],
   "metadata": {
    "collapsed": false,
    "pycharm": {
     "name": "#%%\n"
    }
   }
  },
  {
   "cell_type": "code",
   "execution_count": null,
   "outputs": [],
   "source": [
    "n = LeNet()\n",
    "summary(n, input_size=(32, 1, 28, 28))"
   ],
   "metadata": {
    "collapsed": false,
    "pycharm": {
     "name": "#%%\n"
    }
   }
  }
 ],
 "metadata": {
  "kernelspec": {
   "display_name": "Python 3",
   "language": "python",
   "name": "python3"
  },
  "language_info": {
   "codemirror_mode": {
    "name": "ipython",
    "version": 2
   },
   "file_extension": ".py",
   "mimetype": "text/x-python",
   "name": "python",
   "nbconvert_exporter": "python",
   "pygments_lexer": "ipython2",
   "version": "2.7.6"
  }
 },
 "nbformat": 4,
 "nbformat_minor": 0
}